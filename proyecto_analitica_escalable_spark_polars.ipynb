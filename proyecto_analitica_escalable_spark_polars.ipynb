{
  "nbformat": 4,
  "nbformat_minor": 0,
  "metadata": {
    "colab": {
      "provenance": []
    },
    "kernelspec": {
      "name": "python3",
      "display_name": "Python 3"
    },
    "language_info": {
      "name": "python"
    }
  },
  "cells": [
    {
      "cell_type": "code",
      "execution_count": 1,
      "metadata": {
        "colab": {
          "base_uri": "https://localhost:8080/"
        },
        "id": "n3U6s9owx46n",
        "outputId": "fe41e07c-99e1-42d1-8dea-94fb26044ab3"
      },
      "outputs": [
        {
          "output_type": "stream",
          "name": "stdout",
          "text": [
            "Mounted at /content/drive\n"
          ]
        }
      ],
      "source": [
        "from google.colab import drive\n",
        "drive.mount('/content/drive')"
      ]
    },
    {
      "cell_type": "code",
      "source": [
        "import os\n",
        "import polars as pl\n",
        "\n",
        "DATA_DIR = '/content/drive/My Drive/0_cursos/EOI Analitica Escalable/COLAB_NOTEBOOKS/DATA'\n",
        "\n",
        "os.makedirs(DATA_DIR, exist_ok=True)"
      ],
      "metadata": {
        "id": "fniiKBqhyXPe"
      },
      "execution_count": 2,
      "outputs": []
    },
    {
      "cell_type": "code",
      "source": [
        "os.listdir(DATA_DIR)"
      ],
      "metadata": {
        "colab": {
          "base_uri": "https://localhost:8080/"
        },
        "id": "3w1dMI0xzKRx",
        "outputId": "3769e922-8f2e-465b-9d97-e9e0b3d57595"
      },
      "execution_count": 3,
      "outputs": [
        {
          "output_type": "execute_result",
          "data": {
            "text/plain": [
              "['10882.csv',\n",
              " 'airbnb_listings.parquet',\n",
              " 'fragments_example.parquet',\n",
              " '0504030000213.csv']"
            ]
          },
          "metadata": {},
          "execution_count": 3
        }
      ]
    },
    {
      "cell_type": "code",
      "source": [
        "!pip install pyspark\n",
        "!apt-get install openjdk-18-jdk-headless -qq > /dev/null\n",
        "\n",
        "import os\n",
        "os.environ[\"JAVA_HOME\"] = \"/usr/lib/jvm/java-18-openjdk-amd64\"\n",
        "os.environ[\"PYSPARK_PYTHON\"] = \"/usr/bin/python3\""
      ],
      "metadata": {
        "colab": {
          "base_uri": "https://localhost:8080/"
        },
        "id": "kJEZjXzizNLt",
        "outputId": "f94ddb34-d0a0-4e59-87b8-166c2ac12a62"
      },
      "execution_count": 4,
      "outputs": [
        {
          "output_type": "stream",
          "name": "stdout",
          "text": [
            "Requirement already satisfied: pyspark in /usr/local/lib/python3.11/dist-packages (3.5.4)\n",
            "Requirement already satisfied: py4j==0.10.9.7 in /usr/local/lib/python3.11/dist-packages (from pyspark) (0.10.9.7)\n"
          ]
        }
      ]
    },
    {
      "cell_type": "code",
      "source": [
        "!java --version\n",
        "!/usr/bin/java --version\n",
        "!whereis java"
      ],
      "metadata": {
        "colab": {
          "base_uri": "https://localhost:8080/"
        },
        "id": "JfPH9pYVzVSN",
        "outputId": "cafa3339-7467-418a-ee1f-256ade4aabd3"
      },
      "execution_count": 5,
      "outputs": [
        {
          "output_type": "stream",
          "name": "stdout",
          "text": [
            "openjdk 18.0.2-ea 2022-07-19\n",
            "OpenJDK Runtime Environment (build 18.0.2-ea+9-Ubuntu-222.04)\n",
            "OpenJDK 64-Bit Server VM (build 18.0.2-ea+9-Ubuntu-222.04, mixed mode, sharing)\n",
            "openjdk 18.0.2-ea 2022-07-19\n",
            "OpenJDK Runtime Environment (build 18.0.2-ea+9-Ubuntu-222.04)\n",
            "OpenJDK 64-Bit Server VM (build 18.0.2-ea+9-Ubuntu-222.04, mixed mode, sharing)\n",
            "java: /usr/bin/java /usr/share/java /usr/share/man/man1/java.1.gz\n"
          ]
        }
      ]
    },
    {
      "cell_type": "code",
      "source": [
        "from pyspark.sql import SparkSession\n",
        "import pyspark.sql.functions as sqlf\n",
        "\n",
        "spark = (SparkSession.builder\n",
        "    .appName(\"Proyecto\")\n",
        "    .master(\"local[*]\")\n",
        "    .getOrCreate())\n",
        "spark"
      ],
      "metadata": {
        "colab": {
          "base_uri": "https://localhost:8080/",
          "height": 219
        },
        "id": "l2EmgvelzbVL",
        "outputId": "25b1a53a-f939-4dff-f528-ab0915bbd190"
      },
      "execution_count": 6,
      "outputs": [
        {
          "output_type": "execute_result",
          "data": {
            "text/plain": [
              "<pyspark.sql.session.SparkSession at 0x797a02764750>"
            ],
            "text/html": [
              "\n",
              "            <div>\n",
              "                <p><b>SparkSession - in-memory</b></p>\n",
              "                \n",
              "        <div>\n",
              "            <p><b>SparkContext</b></p>\n",
              "\n",
              "            <p><a href=\"http://bc3eeb395bb6:4040\">Spark UI</a></p>\n",
              "\n",
              "            <dl>\n",
              "              <dt>Version</dt>\n",
              "                <dd><code>v3.5.4</code></dd>\n",
              "              <dt>Master</dt>\n",
              "                <dd><code>local[*]</code></dd>\n",
              "              <dt>AppName</dt>\n",
              "                <dd><code>Proyecto</code></dd>\n",
              "            </dl>\n",
              "        </div>\n",
              "        \n",
              "            </div>\n",
              "        "
            ]
          },
          "metadata": {},
          "execution_count": 6
        }
      ]
    },
    {
      "cell_type": "code",
      "source": [
        "# Lectura de datos\n",
        "airbnb_spark = spark.read.parquet(DATA_DIR + \"/airbnb_listings.parquet\")\n",
        "airbnb_polars = pl.read_parquet(DATA_DIR + \"/airbnb_listings.parquet\")"
      ],
      "metadata": {
        "id": "hkGkrLPzzfsH"
      },
      "execution_count": 7,
      "outputs": []
    },
    {
      "cell_type": "code",
      "source": [
        "# Esquemas\n",
        "print(\"=== Esquema Airbnb (Spark) ===\")\n",
        "airbnb_spark.printSchema()\n",
        "\n",
        "print(\"=== Esquema Airbnb (Polars) ===\")\n",
        "print(airbnb_polars.schema)"
      ],
      "metadata": {
        "id": "dqJKxC9_1sEe",
        "colab": {
          "base_uri": "https://localhost:8080/"
        },
        "outputId": "9265e729-6fc9-4018-94b5-98be31a0fe34"
      },
      "execution_count": 8,
      "outputs": [
        {
          "output_type": "stream",
          "name": "stdout",
          "text": [
            "=== Esquema Airbnb (Spark) ===\n",
            "root\n",
            " |-- id: long (nullable = true)\n",
            " |-- name: string (nullable = true)\n",
            " |-- host_id: long (nullable = true)\n",
            " |-- host_name: string (nullable = true)\n",
            " |-- neighbourhood_group: string (nullable = true)\n",
            " |-- neighbourhood: string (nullable = true)\n",
            " |-- latitude: double (nullable = true)\n",
            " |-- longitude: double (nullable = true)\n",
            " |-- room_type: string (nullable = true)\n",
            " |-- price: double (nullable = true)\n",
            " |-- minimum_nights: long (nullable = true)\n",
            " |-- number_of_reviews: long (nullable = true)\n",
            " |-- last_review: date (nullable = true)\n",
            " |-- reviews_per_month: double (nullable = true)\n",
            " |-- calculated_host_listings_count: long (nullable = true)\n",
            " |-- availability_365: long (nullable = true)\n",
            " |-- number_of_reviews_ltm: long (nullable = true)\n",
            " |-- license: string (nullable = true)\n",
            "\n",
            "=== Esquema Airbnb (Polars) ===\n",
            "Schema([('id', Int64), ('name', String), ('host_id', Int64), ('host_name', String), ('neighbourhood_group', String), ('neighbourhood', String), ('latitude', Float64), ('longitude', Float64), ('room_type', String), ('price', Float64), ('minimum_nights', Int64), ('number_of_reviews', Int64), ('last_review', Date), ('reviews_per_month', Float64), ('calculated_host_listings_count', Int64), ('availability_365', Int64), ('number_of_reviews_ltm', Int64), ('license', String)])\n"
          ]
        }
      ]
    },
    {
      "cell_type": "code",
      "source": [
        "# 1. Distribución de Precios\n",
        "\n",
        "price_distribution_spark = (\n",
        "    airbnb_spark.groupBy(\"room_type\")\n",
        "    .agg(\n",
        "        sqlf.count(\"*\").alias(\"count\"),\n",
        "        sqlf.round(sqlf.mean(\"price\"), 2).alias(\"mean_price\"),\n",
        "        sqlf.min(\"price\").alias(\"min_price\"),\n",
        "        sqlf.max(\"price\").alias(\"max_price\"),\n",
        "        sqlf.percentile(\"price\", 0.5).alias(\"median_price\")\n",
        "    )\n",
        ")\n",
        "\n",
        "price_distribution_spark.show()"
      ],
      "metadata": {
        "id": "Oxd9Euhy23Pj",
        "colab": {
          "base_uri": "https://localhost:8080/"
        },
        "outputId": "357e57d8-5426-4817-fbdc-98f6cf337418"
      },
      "execution_count": 9,
      "outputs": [
        {
          "output_type": "stream",
          "name": "stdout",
          "text": [
            "+---------------+-----+----------+---------+---------+------------+\n",
            "|      room_type|count|mean_price|min_price|max_price|median_price|\n",
            "+---------------+-----+----------+---------+---------+------------+\n",
            "|    Shared room|  343|    100.05|     13.0|   1500.0|        37.0|\n",
            "|     Hotel room|   92|    303.66|     31.0|   1029.0|       161.0|\n",
            "|Entire home/apt|17490|    169.14|      1.0|  21000.0|       124.0|\n",
            "|   Private room| 9055|     72.76|      8.0|   9218.0|        45.0|\n",
            "+---------------+-----+----------+---------+---------+------------+\n",
            "\n"
          ]
        }
      ]
    },
    {
      "cell_type": "code",
      "source": [
        "# 1. Distribución de Precios\n",
        "\n",
        "price_distribution_polars = (\n",
        "    airbnb_polars.group_by(\"room_type\")\n",
        "    .agg(\n",
        "        pl.col(\"price\").count().alias(\"count\"),\n",
        "        pl.col(\"price\").mean().round(2).alias(\"mean_price\"),\n",
        "        pl.col(\"price\").min().alias(\"min_price\"),\n",
        "        pl.col(\"price\").max().alias(\"max_price\"),\n",
        "        pl.col(\"price\").median().alias(\"median_price\")\n",
        "    )\n",
        ")\n",
        "\n",
        "\n",
        "price_distribution_polars"
      ],
      "metadata": {
        "id": "VgZmKGBAIse6",
        "colab": {
          "base_uri": "https://localhost:8080/",
          "height": 223
        },
        "outputId": "98e7fffd-865b-4035-a741-8bb22fe027b3"
      },
      "execution_count": 10,
      "outputs": [
        {
          "output_type": "execute_result",
          "data": {
            "text/plain": [
              "shape: (4, 6)\n",
              "┌─────────────────┬───────┬────────────┬───────────┬───────────┬──────────────┐\n",
              "│ room_type       ┆ count ┆ mean_price ┆ min_price ┆ max_price ┆ median_price │\n",
              "│ ---             ┆ ---   ┆ ---        ┆ ---       ┆ ---       ┆ ---          │\n",
              "│ str             ┆ u32   ┆ f64        ┆ f64       ┆ f64       ┆ f64          │\n",
              "╞═════════════════╪═══════╪════════════╪═══════════╪═══════════╪══════════════╡\n",
              "│ Entire home/apt ┆ 14622 ┆ 169.14     ┆ 1.0       ┆ 21000.0   ┆ 124.0        │\n",
              "│ Private room    ┆ 6110  ┆ 72.76      ┆ 8.0       ┆ 9218.0    ┆ 45.0         │\n",
              "│ Shared room     ┆ 283   ┆ 100.05     ┆ 13.0      ┆ 1500.0    ┆ 37.0         │\n",
              "│ Hotel room      ┆ 53    ┆ 303.66     ┆ 31.0      ┆ 1029.0    ┆ 161.0        │\n",
              "└─────────────────┴───────┴────────────┴───────────┴───────────┴──────────────┘"
            ],
            "text/html": [
              "<div><style>\n",
              ".dataframe > thead > tr,\n",
              ".dataframe > tbody > tr {\n",
              "  text-align: right;\n",
              "  white-space: pre-wrap;\n",
              "}\n",
              "</style>\n",
              "<small>shape: (4, 6)</small><table border=\"1\" class=\"dataframe\"><thead><tr><th>room_type</th><th>count</th><th>mean_price</th><th>min_price</th><th>max_price</th><th>median_price</th></tr><tr><td>str</td><td>u32</td><td>f64</td><td>f64</td><td>f64</td><td>f64</td></tr></thead><tbody><tr><td>&quot;Entire home/apt&quot;</td><td>14622</td><td>169.14</td><td>1.0</td><td>21000.0</td><td>124.0</td></tr><tr><td>&quot;Private room&quot;</td><td>6110</td><td>72.76</td><td>8.0</td><td>9218.0</td><td>45.0</td></tr><tr><td>&quot;Shared room&quot;</td><td>283</td><td>100.05</td><td>13.0</td><td>1500.0</td><td>37.0</td></tr><tr><td>&quot;Hotel room&quot;</td><td>53</td><td>303.66</td><td>31.0</td><td>1029.0</td><td>161.0</td></tr></tbody></table></div>"
            ]
          },
          "metadata": {},
          "execution_count": 10
        }
      ]
    },
    {
      "cell_type": "code",
      "source": [
        "# 2. Análisis Geográfico\n",
        "\n",
        "neighbourhood_prices_spark = (\n",
        "    airbnb_spark.groupBy(\"neighbourhood\")\n",
        "    .agg(\n",
        "        sqlf.round(sqlf.mean(\"price\"), 2).alias(\"mean_price\")\n",
        "    )\n",
        "    .orderBy(sqlf.desc(\"mean_price\"))\n",
        ")\n",
        "\n",
        "\n",
        "expensive_neighbourhood = neighbourhood_prices_spark.limit(1)\n",
        "cheapest_neighbourhood = neighbourhood_prices_spark.orderBy(\"mean_price\").limit(1)\n",
        "\n",
        "expensive_neighbourhood.show()\n",
        "cheapest_neighbourhood.show()"
      ],
      "metadata": {
        "id": "Ip8T0yBjKROq",
        "colab": {
          "base_uri": "https://localhost:8080/"
        },
        "outputId": "64c9448f-fea6-43d6-8eab-50b88fdfd0e7"
      },
      "execution_count": 11,
      "outputs": [
        {
          "output_type": "stream",
          "name": "stdout",
          "text": [
            "+---------------+----------+\n",
            "|  neighbourhood|mean_price|\n",
            "+---------------+----------+\n",
            "|Palomeras Bajas|    404.27|\n",
            "+---------------+----------+\n",
            "\n",
            "+-------------+----------+\n",
            "|neighbourhood|mean_price|\n",
            "+-------------+----------+\n",
            "|    Vinateros|     36.29|\n",
            "+-------------+----------+\n",
            "\n"
          ]
        }
      ]
    },
    {
      "cell_type": "code",
      "source": [
        "# 2. Análisis Geográfico\n",
        "\n",
        "lat_quintiles = airbnb_spark.approxQuantile(\"latitude\", [0.2, 0.4, 0.6, 0.8], 0.0)\n",
        "long_quintiles = airbnb_spark.approxQuantile(\"longitude\", [0.2, 0.4, 0.6, 0.8], 0.0)\n",
        "\n",
        "\n",
        "price_by_geo_spark = (\n",
        "    airbnb_spark\n",
        "    .withColumn(\"lat_quintile\",\n",
        "                sqlf.when(sqlf.col(\"latitude\") <= lat_quintiles[0], 1)\n",
        "                .when(sqlf.col(\"latitude\") <= lat_quintiles[1], 2)\n",
        "                .when(sqlf.col(\"latitude\") <= lat_quintiles[2], 3)\n",
        "                .when(sqlf.col(\"latitude\") <= lat_quintiles[3], 4)\n",
        "                .otherwise(5))\n",
        "    .withColumn(\"long_quintile\",\n",
        "                sqlf.when(sqlf.col(\"longitude\") <= long_quintiles[0], 1)\n",
        "                .when(sqlf.col(\"longitude\") <= long_quintiles[1], 2)\n",
        "                .when(sqlf.col(\"longitude\") <= long_quintiles[2], 3)\n",
        "                .when(sqlf.col(\"longitude\") <= long_quintiles[3], 4)\n",
        "                .otherwise(5))\n",
        "    .groupBy(\"lat_quintile\", \"long_quintile\")\n",
        "    .agg(\n",
        "        sqlf.round(sqlf.mean(\"price\"), 2).alias(\"mean_price\"),\n",
        "        sqlf.count(\"*\").alias(\"count\")\n",
        "    )\n",
        "    .orderBy(sqlf.desc(\"mean_price\"))\n",
        ")\n",
        "\n",
        "price_by_geo_spark.show()"
      ],
      "metadata": {
        "id": "4H8DSzD-M4uT",
        "colab": {
          "base_uri": "https://localhost:8080/"
        },
        "outputId": "939cae83-2aa1-4bfb-8eaf-89b51f34d856"
      },
      "execution_count": 12,
      "outputs": [
        {
          "output_type": "stream",
          "name": "stdout",
          "text": [
            "+------------+-------------+----------+-----+\n",
            "|lat_quintile|long_quintile|mean_price|count|\n",
            "+------------+-------------+----------+-----+\n",
            "|           3|            5|    208.79|  346|\n",
            "|           3|            1|    208.72|  779|\n",
            "|           3|            4|    194.25|  814|\n",
            "|           4|            4|    178.57|  959|\n",
            "|           5|            2|     173.3|  554|\n",
            "|           5|            4|    172.45| 1512|\n",
            "|           3|            2|    170.56| 1801|\n",
            "|           3|            3|    164.87| 1659|\n",
            "|           4|            2|    151.61| 1068|\n",
            "|           4|            1|    146.79|  819|\n",
            "|           2|            1|    145.48| 1394|\n",
            "|           4|            3|    145.42|  952|\n",
            "|           2|            2|    143.86| 1551|\n",
            "|           2|            4|    137.01|  810|\n",
            "|           5|            1|    125.93|  674|\n",
            "|           4|            5|    125.76| 1595|\n",
            "|           2|            3|    125.49| 1487|\n",
            "|           5|            5|    118.24| 1884|\n",
            "|           1|            3|    118.08|  528|\n",
            "|           5|            3|    116.17|  772|\n",
            "+------------+-------------+----------+-----+\n",
            "only showing top 20 rows\n",
            "\n"
          ]
        }
      ]
    },
    {
      "cell_type": "code",
      "source": [
        "# 2. Análisis Geográfico\n",
        "\n",
        "neighbourhood_prices_polars = (\n",
        "    airbnb_polars.group_by(\"neighbourhood\")\n",
        "    .agg(\n",
        "        pl.col(\"price\").mean().round(2).alias(\"mean_price\")\n",
        "    )\n",
        "    .sort(\"mean_price\", descending=True)\n",
        ")\n",
        "\n",
        "\n",
        "expensive_neighbourhood = neighbourhood_prices_polars.head(1)\n",
        "cheapest_neighbourhood = neighbourhood_prices_polars.tail(1)\n",
        "\n",
        "print(expensive_neighbourhood)\n",
        "\n",
        "print(cheapest_neighbourhood)"
      ],
      "metadata": {
        "id": "CZGLGsq8NmZi",
        "colab": {
          "base_uri": "https://localhost:8080/"
        },
        "outputId": "6bab6d42-2a2d-4793-c4ad-c3aefec86fa0"
      },
      "execution_count": 13,
      "outputs": [
        {
          "output_type": "stream",
          "name": "stdout",
          "text": [
            "shape: (1, 2)\n",
            "┌─────────────────┬────────────┐\n",
            "│ neighbourhood   ┆ mean_price │\n",
            "│ ---             ┆ ---        │\n",
            "│ str             ┆ f64        │\n",
            "╞═════════════════╪════════════╡\n",
            "│ Palomeras Bajas ┆ 404.27     │\n",
            "└─────────────────┴────────────┘\n",
            "shape: (1, 2)\n",
            "┌───────────────┬────────────┐\n",
            "│ neighbourhood ┆ mean_price │\n",
            "│ ---           ┆ ---        │\n",
            "│ str           ┆ f64        │\n",
            "╞═══════════════╪════════════╡\n",
            "│ Vinateros     ┆ 36.29      │\n",
            "└───────────────┴────────────┘\n"
          ]
        }
      ]
    },
    {
      "cell_type": "code",
      "source": [
        "# 2. Análisis Geográfico\n",
        "\n",
        "\n",
        "lat_quintiles = [\n",
        "    airbnb_polars[\"latitude\"].quantile(0.2),\n",
        "    airbnb_polars[\"latitude\"].quantile(0.4),\n",
        "    airbnb_polars[\"latitude\"].quantile(0.6),\n",
        "    airbnb_polars[\"latitude\"].quantile(0.8)\n",
        "]\n",
        "\n",
        "long_quintiles = [\n",
        "    airbnb_polars[\"longitude\"].quantile(0.2),\n",
        "    airbnb_polars[\"longitude\"].quantile(0.4),\n",
        "    airbnb_polars[\"longitude\"].quantile(0.6),\n",
        "    airbnb_polars[\"longitude\"].quantile(0.8)\n",
        "]\n",
        "\n",
        "\n",
        "price_by_geo_polars = (\n",
        "    airbnb_polars\n",
        "    .with_columns([\n",
        "        pl.when(pl.col(\"latitude\") <= lat_quintiles[0]).then(1)\n",
        "        .when(pl.col(\"latitude\") <= lat_quintiles[1]).then(2)\n",
        "        .when(pl.col(\"latitude\") <= lat_quintiles[2]).then(3)\n",
        "        .when(pl.col(\"latitude\") <= lat_quintiles[3]).then(4)\n",
        "        .otherwise(5).alias(\"lat_quintile\"),\n",
        "\n",
        "        pl.when(pl.col(\"longitude\") <= long_quintiles[0]).then(1)\n",
        "        .when(pl.col(\"longitude\") <= long_quintiles[1]).then(2)\n",
        "        .when(pl.col(\"longitude\") <= long_quintiles[2]).then(3)\n",
        "        .when(pl.col(\"longitude\") <= long_quintiles[3]).then(4)\n",
        "        .otherwise(5).alias(\"long_quintile\"),\n",
        "    ])\n",
        "    .group_by(\"lat_quintile\", \"long_quintile\")\n",
        "    .agg(\n",
        "        pl.col(\"price\").mean().round(2).alias(\"mean_price\"),\n",
        "        pl.col(\"price\").count().alias(\"count\")\n",
        "    )\n",
        "    .sort(\"mean_price\", descending=True)\n",
        ")\n",
        "\n",
        "print(price_by_geo_polars)"
      ],
      "metadata": {
        "id": "nXZf5EXIPUFO",
        "colab": {
          "base_uri": "https://localhost:8080/"
        },
        "outputId": "283f3de9-937e-4758-eb93-5ad44f0f1714"
      },
      "execution_count": 14,
      "outputs": [
        {
          "output_type": "stream",
          "name": "stdout",
          "text": [
            "shape: (25, 4)\n",
            "┌──────────────┬───────────────┬────────────┬───────┐\n",
            "│ lat_quintile ┆ long_quintile ┆ mean_price ┆ count │\n",
            "│ ---          ┆ ---           ┆ ---        ┆ ---   │\n",
            "│ i32          ┆ i32           ┆ f64        ┆ u32   │\n",
            "╞══════════════╪═══════════════╪════════════╪═══════╡\n",
            "│ 3            ┆ 5             ┆ 209.22     ┆ 264   │\n",
            "│ 3            ┆ 1             ┆ 208.72     ┆ 621   │\n",
            "│ 3            ┆ 4             ┆ 194.25     ┆ 654   │\n",
            "│ 4            ┆ 4             ┆ 178.57     ┆ 737   │\n",
            "│ 5            ┆ 2             ┆ 173.3      ┆ 433   │\n",
            "│ …            ┆ …             ┆ …          ┆ …     │\n",
            "│ 1            ┆ 4             ┆ 115.4      ┆ 966   │\n",
            "│ 1            ┆ 5             ┆ 102.34     ┆ 1095  │\n",
            "│ 2            ┆ 5             ┆ 91.38      ┆ 117   │\n",
            "│ 1            ┆ 1             ┆ 78.59      ┆ 1349  │\n",
            "│ 1            ┆ 2             ┆ 73.91      ┆ 340   │\n",
            "└──────────────┴───────────────┴────────────┴───────┘\n"
          ]
        }
      ]
    },
    {
      "cell_type": "code",
      "source": [
        "# 3. Actividad de los Anfitriones\n",
        "\n",
        "correlation = airbnb_spark.stat.corr(\"reviews_per_month\", \"availability_365\")\n",
        "print(f\"Correlación: {round(correlation, 4)}\")"
      ],
      "metadata": {
        "id": "jhBisIYkP2cJ",
        "colab": {
          "base_uri": "https://localhost:8080/"
        },
        "outputId": "a9f5649a-e40e-49fb-9abd-12c443fd7712"
      },
      "execution_count": 15,
      "outputs": [
        {
          "output_type": "stream",
          "name": "stdout",
          "text": [
            "Correlación: 0.0644\n"
          ]
        }
      ]
    },
    {
      "cell_type": "code",
      "source": [
        "# 3. Actividad de los Anfitriones\n",
        "\n",
        "reviews_quintiles = airbnb_spark.approxQuantile(\"reviews_per_month\", [0.2, 0.4, 0.6, 0.8], 0.0)\n",
        "\n",
        "\n",
        "grouped_by_quintiles_spark = (\n",
        "    airbnb_spark\n",
        "    .withColumn(\"reviews_quintile\",\n",
        "                sqlf.when(sqlf.col(\"reviews_per_month\") <= reviews_quintiles[0], 1)\n",
        "                .when(sqlf.col(\"reviews_per_month\") <= reviews_quintiles[1], 2)\n",
        "                .when(sqlf.col(\"reviews_per_month\") <= reviews_quintiles[2], 3)\n",
        "                .when(sqlf.col(\"reviews_per_month\") <= reviews_quintiles[3], 4)\n",
        "                .otherwise(5))\n",
        "    .groupBy(\"reviews_quintile\")\n",
        "    .agg(\n",
        "        sqlf.round(sqlf.mean(\"availability_365\"), 2).alias(\"mean_availability\"),\n",
        "        sqlf.count(\"*\").alias(\"count\")\n",
        "    )\n",
        "    .orderBy(\"reviews_quintile\")\n",
        ")\n",
        "\n",
        "grouped_by_quintiles_spark.show()"
      ],
      "metadata": {
        "id": "ngM5fck4TTCg",
        "colab": {
          "base_uri": "https://localhost:8080/"
        },
        "outputId": "bf4b9ba1-366f-4429-d670-64fba38aa1a7"
      },
      "execution_count": 16,
      "outputs": [
        {
          "output_type": "stream",
          "name": "stdout",
          "text": [
            "+----------------+-----------------+-----+\n",
            "|reviews_quintile|mean_availability|count|\n",
            "+----------------+-----------------+-----+\n",
            "|               1|           113.52| 4332|\n",
            "|               2|           164.42| 4212|\n",
            "|               3|           175.34| 4270|\n",
            "|               4|           172.24| 4217|\n",
            "|               5|           156.32| 9949|\n",
            "+----------------+-----------------+-----+\n",
            "\n"
          ]
        }
      ]
    },
    {
      "cell_type": "code",
      "source": [
        "# 3. Actividad de los Anfitriones\n",
        "\n",
        "correlation_polars = airbnb_polars.select(\n",
        "    pl.corr(\"reviews_per_month\", \"availability_365\").round(4)\n",
        ")\n",
        "\n",
        "print(f\"Correlación: {correlation_polars}\")"
      ],
      "metadata": {
        "id": "pRQY0wVYT_73",
        "colab": {
          "base_uri": "https://localhost:8080/"
        },
        "outputId": "265717ef-a6b3-4bf2-8974-31552785873c"
      },
      "execution_count": 17,
      "outputs": [
        {
          "output_type": "stream",
          "name": "stdout",
          "text": [
            "Correlación: shape: (1, 1)\n",
            "┌───────────────────┐\n",
            "│ reviews_per_month │\n",
            "│ ---               │\n",
            "│ f64               │\n",
            "╞═══════════════════╡\n",
            "│ 0.0676            │\n",
            "└───────────────────┘\n"
          ]
        }
      ]
    },
    {
      "cell_type": "code",
      "source": [
        "# 3. Actividad de los Anfitriones\n",
        "\n",
        "reviews_quintiles = [\n",
        "    airbnb_polars[\"reviews_per_month\"].quantile(0.2),\n",
        "    airbnb_polars[\"reviews_per_month\"].quantile(0.4),\n",
        "    airbnb_polars[\"reviews_per_month\"].quantile(0.6),\n",
        "    airbnb_polars[\"reviews_per_month\"].quantile(0.8)\n",
        "]\n",
        "\n",
        "\n",
        "grouped_by_quintiles_polars = (\n",
        "    airbnb_polars\n",
        "    .with_columns(\n",
        "        pl.when(pl.col(\"reviews_per_month\") <= reviews_quintiles[0]).then(1)\n",
        "        .when(pl.col(\"reviews_per_month\") <= reviews_quintiles[1]).then(2)\n",
        "        .when(pl.col(\"reviews_per_month\") <= reviews_quintiles[2]).then(3)\n",
        "        .when(pl.col(\"reviews_per_month\") <= reviews_quintiles[3]).then(4)\n",
        "        .otherwise(5).alias(\"reviews_quintile\"),\n",
        "    )\n",
        "    .group_by(\"reviews_quintile\")\n",
        "    .agg(\n",
        "        pl.col(\"availability_365\").mean().round(2).alias(\"mean_availability\"),\n",
        "        pl.col(\"availability_365\").count().alias(\"count\")\n",
        "    )\n",
        "    .sort(\"reviews_quintile\")\n",
        ")\n",
        "\n",
        "grouped_by_quintiles_polars"
      ],
      "metadata": {
        "id": "bIMVNxbzVVQ5",
        "colab": {
          "base_uri": "https://localhost:8080/",
          "height": 255
        },
        "outputId": "95fe736c-9605-4ec3-d907-a673727fa274"
      },
      "execution_count": 18,
      "outputs": [
        {
          "output_type": "execute_result",
          "data": {
            "text/plain": [
              "shape: (5, 3)\n",
              "┌──────────────────┬───────────────────┬───────┐\n",
              "│ reviews_quintile ┆ mean_availability ┆ count │\n",
              "│ ---              ┆ ---               ┆ ---   │\n",
              "│ i32              ┆ f64               ┆ u32   │\n",
              "╞══════════════════╪═══════════════════╪═══════╡\n",
              "│ 1                ┆ 113.52            ┆ 4332  │\n",
              "│ 2                ┆ 164.42            ┆ 4212  │\n",
              "│ 3                ┆ 175.34            ┆ 4270  │\n",
              "│ 4                ┆ 172.24            ┆ 4217  │\n",
              "│ 5                ┆ 156.32            ┆ 9949  │\n",
              "└──────────────────┴───────────────────┴───────┘"
            ],
            "text/html": [
              "<div><style>\n",
              ".dataframe > thead > tr,\n",
              ".dataframe > tbody > tr {\n",
              "  text-align: right;\n",
              "  white-space: pre-wrap;\n",
              "}\n",
              "</style>\n",
              "<small>shape: (5, 3)</small><table border=\"1\" class=\"dataframe\"><thead><tr><th>reviews_quintile</th><th>mean_availability</th><th>count</th></tr><tr><td>i32</td><td>f64</td><td>u32</td></tr></thead><tbody><tr><td>1</td><td>113.52</td><td>4332</td></tr><tr><td>2</td><td>164.42</td><td>4212</td></tr><tr><td>3</td><td>175.34</td><td>4270</td></tr><tr><td>4</td><td>172.24</td><td>4217</td></tr><tr><td>5</td><td>156.32</td><td>9949</td></tr></tbody></table></div>"
            ]
          },
          "metadata": {},
          "execution_count": 18
        }
      ]
    },
    {
      "cell_type": "code",
      "source": [
        "# 4. Tendencias Temporales de las Reseñas\n",
        "\n",
        "time_since_last_review = (\n",
        "    airbnb_spark\n",
        "    .withColumn(\"days_since_last_review\", sqlf.datediff(sqlf.current_date(), sqlf.col(\"last_review\")))\n",
        "    .groupBy(\"room_type\")\n",
        "    .agg(\n",
        "        sqlf.round(sqlf.mean(\"days_since_last_review\"), 0).alias(\"mean_days_since_last_review\")\n",
        "    )\n",
        "    .orderBy(\"mean_days_since_last_review\")\n",
        ")\n",
        "\n",
        "time_since_last_review.show()"
      ],
      "metadata": {
        "id": "P_l0TylfWQG8",
        "colab": {
          "base_uri": "https://localhost:8080/"
        },
        "outputId": "d7450d01-c9f2-4e88-92c7-bf40b4905487"
      },
      "execution_count": 19,
      "outputs": [
        {
          "output_type": "stream",
          "name": "stdout",
          "text": [
            "+---------------+---------------------------+\n",
            "|      room_type|mean_days_since_last_review|\n",
            "+---------------+---------------------------+\n",
            "|Entire home/apt|                      371.0|\n",
            "|    Shared room|                      475.0|\n",
            "|   Private room|                      569.0|\n",
            "|     Hotel room|                      815.0|\n",
            "+---------------+---------------------------+\n",
            "\n"
          ]
        }
      ]
    },
    {
      "cell_type": "code",
      "source": [
        "# 4. Tendencias Temporales de las Reseñas\n",
        "\n",
        "most_recent_reviews = (\n",
        "    airbnb_spark\n",
        "    .groupBy(\"neighbourhood\")\n",
        "    .agg(\n",
        "        sqlf.sum(\"number_of_reviews_ltm\").alias(\"total_reviews_ltm\"),\n",
        "        sqlf.count(\"*\").alias(\"count_listings\")\n",
        "    )\n",
        "    .orderBy(\"total_reviews_ltm\", ascending=False)\n",
        "    .limit(10)\n",
        ")\n",
        "\n",
        "most_recent_reviews.show()"
      ],
      "metadata": {
        "id": "SSoyA3h9YiK4",
        "colab": {
          "base_uri": "https://localhost:8080/"
        },
        "outputId": "f147b6ab-5dbe-4246-90e4-89a2fe117fad"
      },
      "execution_count": 20,
      "outputs": [
        {
          "output_type": "stream",
          "name": "stdout",
          "text": [
            "+----------------+-----------------+--------------+\n",
            "|   neighbourhood|total_reviews_ltm|count_listings|\n",
            "+----------------+-----------------+--------------+\n",
            "|     Embajadores|            52877|          2992|\n",
            "|     Universidad|            41328|          2408|\n",
            "|         Palacio|            34178|          1894|\n",
            "|             Sol|            29790|          1431|\n",
            "|          Cortes|            23664|          1108|\n",
            "|        Justicia|            22206|          1332|\n",
            "| Palos de Moguer|             9154|           451|\n",
            "|      Guindalera|             5609|           422|\n",
            "|        Pacífico|             5212|           331|\n",
            "|Puerta del Angel|             4723|           385|\n",
            "+----------------+-----------------+--------------+\n",
            "\n"
          ]
        }
      ]
    },
    {
      "cell_type": "code",
      "source": [
        "# 4. Tendencias Temporales de las Reseñas\n",
        "\n",
        "from datetime import date\n",
        "\n",
        "today = date.today()\n",
        "\n",
        "time_since_last_review_polars = (\n",
        "    airbnb_polars\n",
        "    .with_columns(\n",
        "        (pl.lit(today) - pl.col(\"last_review\")).alias(\"days_since_last_review\")\n",
        "    )\n",
        "    .with_columns(\n",
        "        pl.col(\"days_since_last_review\").dt.total_days().alias(\"days_since_last_review\")\n",
        "    )\n",
        "    .group_by(\"room_type\")\n",
        "    .agg(\n",
        "        pl.col(\"days_since_last_review\").mean().round(0).alias(\"mean_days_since_last_review\")\n",
        "    )\n",
        "    .sort(\"mean_days_since_last_review\")\n",
        ")\n",
        "\n",
        "print(time_since_last_review_polars)"
      ],
      "metadata": {
        "id": "8AEP7yWYZQIt",
        "colab": {
          "base_uri": "https://localhost:8080/"
        },
        "outputId": "0e67de14-7641-4dd8-bacc-105688562319"
      },
      "execution_count": 21,
      "outputs": [
        {
          "output_type": "stream",
          "name": "stdout",
          "text": [
            "shape: (4, 2)\n",
            "┌─────────────────┬─────────────────────────────┐\n",
            "│ room_type       ┆ mean_days_since_last_review │\n",
            "│ ---             ┆ ---                         │\n",
            "│ str             ┆ f64                         │\n",
            "╞═════════════════╪═════════════════════════════╡\n",
            "│ Entire home/apt ┆ 371.0                       │\n",
            "│ Shared room     ┆ 475.0                       │\n",
            "│ Private room    ┆ 569.0                       │\n",
            "│ Hotel room      ┆ 815.0                       │\n",
            "└─────────────────┴─────────────────────────────┘\n"
          ]
        }
      ]
    },
    {
      "cell_type": "code",
      "source": [
        "# 4. Tendencias Temporales de las Reseñas\n",
        "\n",
        "most_recent_reviews_polars = (\n",
        "    airbnb_polars\n",
        "    .group_by(\"neighbourhood\")\n",
        "    .agg(\n",
        "        pl.col(\"number_of_reviews_ltm\").sum().alias(\"total_reviews_ltm\")\n",
        "    )\n",
        "    .sort(\"total_reviews_ltm\", descending=True)\n",
        "    .head(10)\n",
        ")\n",
        "\n",
        "most_recent_reviews_polars"
      ],
      "metadata": {
        "id": "pLf_uXmWZz8x",
        "colab": {
          "base_uri": "https://localhost:8080/",
          "height": 411
        },
        "outputId": "b22c4660-0c49-4e22-e094-8ae54e26d48c"
      },
      "execution_count": 22,
      "outputs": [
        {
          "output_type": "execute_result",
          "data": {
            "text/plain": [
              "shape: (10, 2)\n",
              "┌──────────────────┬───────────────────┐\n",
              "│ neighbourhood    ┆ total_reviews_ltm │\n",
              "│ ---              ┆ ---               │\n",
              "│ str              ┆ i64               │\n",
              "╞══════════════════╪═══════════════════╡\n",
              "│ Embajadores      ┆ 52877             │\n",
              "│ Universidad      ┆ 41328             │\n",
              "│ Palacio          ┆ 34178             │\n",
              "│ Sol              ┆ 29790             │\n",
              "│ Cortes           ┆ 23664             │\n",
              "│ Justicia         ┆ 22206             │\n",
              "│ Palos de Moguer  ┆ 9154              │\n",
              "│ Guindalera       ┆ 5609              │\n",
              "│ Pacífico         ┆ 5212              │\n",
              "│ Puerta del Angel ┆ 4723              │\n",
              "└──────────────────┴───────────────────┘"
            ],
            "text/html": [
              "<div><style>\n",
              ".dataframe > thead > tr,\n",
              ".dataframe > tbody > tr {\n",
              "  text-align: right;\n",
              "  white-space: pre-wrap;\n",
              "}\n",
              "</style>\n",
              "<small>shape: (10, 2)</small><table border=\"1\" class=\"dataframe\"><thead><tr><th>neighbourhood</th><th>total_reviews_ltm</th></tr><tr><td>str</td><td>i64</td></tr></thead><tbody><tr><td>&quot;Embajadores&quot;</td><td>52877</td></tr><tr><td>&quot;Universidad&quot;</td><td>41328</td></tr><tr><td>&quot;Palacio&quot;</td><td>34178</td></tr><tr><td>&quot;Sol&quot;</td><td>29790</td></tr><tr><td>&quot;Cortes&quot;</td><td>23664</td></tr><tr><td>&quot;Justicia&quot;</td><td>22206</td></tr><tr><td>&quot;Palos de Moguer&quot;</td><td>9154</td></tr><tr><td>&quot;Guindalera&quot;</td><td>5609</td></tr><tr><td>&quot;Pacífico&quot;</td><td>5212</td></tr><tr><td>&quot;Puerta del Angel&quot;</td><td>4723</td></tr></tbody></table></div>"
            ]
          },
          "metadata": {},
          "execution_count": 22
        }
      ]
    },
    {
      "cell_type": "code",
      "source": [
        "# 5. Duración Mínima de Estancia\n",
        "\n",
        "min_nights_quintiles = airbnb_spark.approxQuantile(\"minimum_nights\", [0.2, 0.4, 0.6, 0.8], 0.0)\n",
        "\n",
        "price_by_minimum_nights = (\n",
        "    airbnb_spark\n",
        "    .withColumn(\n",
        "        \"min_nights_quintile\",\n",
        "        sqlf.when(sqlf.col(\"minimum_nights\") <= min_nights_quintiles[0], 1)\n",
        "        .when(sqlf.col(\"minimum_nights\") <= min_nights_quintiles[1], 2)\n",
        "        .when(sqlf.col(\"minimum_nights\") <= min_nights_quintiles[2], 3)\n",
        "        .when(sqlf.col(\"minimum_nights\") <= min_nights_quintiles[3], 4)\n",
        "        .otherwise(5)\n",
        "    )\n",
        "    .groupBy(\"min_nights_quintile\")\n",
        "    .agg(\n",
        "        sqlf.round(sqlf.mean(\"price\"), 2).alias(\"mean_price\")\n",
        "    )\n",
        "    .orderBy(\"min_nights_quintile\")\n",
        ")\n",
        "\n",
        "price_by_minimum_nights.show()"
      ],
      "metadata": {
        "id": "Mr27z9QaaYHi",
        "colab": {
          "base_uri": "https://localhost:8080/"
        },
        "outputId": "7c958f9f-c267-4805-de91-9c965161d95e"
      },
      "execution_count": 23,
      "outputs": [
        {
          "output_type": "stream",
          "name": "stdout",
          "text": [
            "+-------------------+----------+\n",
            "|min_nights_quintile|mean_price|\n",
            "+-------------------+----------+\n",
            "|                  1|    153.33|\n",
            "|                  3|    124.27|\n",
            "|                  4|    149.41|\n",
            "|                  5|    117.06|\n",
            "+-------------------+----------+\n",
            "\n"
          ]
        }
      ]
    },
    {
      "cell_type": "code",
      "source": [
        "# 5. Duración Mínima de Estancia\n",
        "\n",
        "min_nights_quintiles = [\n",
        "    airbnb_polars[\"minimum_nights\"].quantile(0.2),\n",
        "    airbnb_polars[\"minimum_nights\"].quantile(0.4),\n",
        "    airbnb_polars[\"minimum_nights\"].quantile(0.6),\n",
        "    airbnb_polars[\"minimum_nights\"].quantile(0.8)\n",
        "]\n",
        "\n",
        "\n",
        "price_by_minimum_nights_polars = (\n",
        "    airbnb_polars\n",
        "    .with_columns(\n",
        "        pl.when(pl.col(\"minimum_nights\") <= min_nights_quintiles[0]).then(1)\n",
        "        .when(pl.col(\"minimum_nights\") <= min_nights_quintiles[1]).then(2)\n",
        "        .when(pl.col(\"minimum_nights\") <= min_nights_quintiles[2]).then(3)\n",
        "        .when(pl.col(\"minimum_nights\") <= min_nights_quintiles[3]).then(4)\n",
        "        .otherwise(5).alias(\"min_nights_quintile\")\n",
        "    )\n",
        "    .group_by(\"min_nights_quintile\")\n",
        "    .agg(\n",
        "        pl.col(\"price\").mean().round(2).alias(\"mean_price\")\n",
        "    )\n",
        "    .sort(\"min_nights_quintile\")\n",
        ")\n",
        "\n",
        "price_by_minimum_nights_polars"
      ],
      "metadata": {
        "id": "zls4f7fz950t",
        "colab": {
          "base_uri": "https://localhost:8080/",
          "height": 223
        },
        "outputId": "6d59f162-bf82-4cea-c320-c95278d2d6d3"
      },
      "execution_count": 24,
      "outputs": [
        {
          "output_type": "execute_result",
          "data": {
            "text/plain": [
              "shape: (4, 2)\n",
              "┌─────────────────────┬────────────┐\n",
              "│ min_nights_quintile ┆ mean_price │\n",
              "│ ---                 ┆ ---        │\n",
              "│ i32                 ┆ f64        │\n",
              "╞═════════════════════╪════════════╡\n",
              "│ 1                   ┆ 153.33     │\n",
              "│ 3                   ┆ 124.27     │\n",
              "│ 4                   ┆ 149.41     │\n",
              "│ 5                   ┆ 117.06     │\n",
              "└─────────────────────┴────────────┘"
            ],
            "text/html": [
              "<div><style>\n",
              ".dataframe > thead > tr,\n",
              ".dataframe > tbody > tr {\n",
              "  text-align: right;\n",
              "  white-space: pre-wrap;\n",
              "}\n",
              "</style>\n",
              "<small>shape: (4, 2)</small><table border=\"1\" class=\"dataframe\"><thead><tr><th>min_nights_quintile</th><th>mean_price</th></tr><tr><td>i32</td><td>f64</td></tr></thead><tbody><tr><td>1</td><td>153.33</td></tr><tr><td>3</td><td>124.27</td></tr><tr><td>4</td><td>149.41</td></tr><tr><td>5</td><td>117.06</td></tr></tbody></table></div>"
            ]
          },
          "metadata": {},
          "execution_count": 24
        }
      ]
    },
    {
      "cell_type": "code",
      "source": [
        "# 5. Duración Mínima de Estancia\n",
        "\n",
        "min_nights_by_room_type = (\n",
        "    airbnb_spark\n",
        "    .groupBy(\"room_type\")\n",
        "    .agg(\n",
        "        sqlf.round(sqlf.mean(\"minimum_nights\"), 2).alias(\"mean_minimum_nights\")\n",
        "    )\n",
        "    .orderBy(\"mean_minimum_nights\", ascending=False)\n",
        ")\n",
        "\n",
        "min_nights_by_room_type.show()"
      ],
      "metadata": {
        "id": "W8Hr0ur7-v_O",
        "colab": {
          "base_uri": "https://localhost:8080/"
        },
        "outputId": "5d5f09db-891b-4ebb-aac0-21816b73914c"
      },
      "execution_count": 25,
      "outputs": [
        {
          "output_type": "stream",
          "name": "stdout",
          "text": [
            "+---------------+-------------------+\n",
            "|      room_type|mean_minimum_nights|\n",
            "+---------------+-------------------+\n",
            "|     Hotel room|              11.89|\n",
            "|Entire home/apt|               8.48|\n",
            "|   Private room|                7.4|\n",
            "|    Shared room|                4.1|\n",
            "+---------------+-------------------+\n",
            "\n"
          ]
        }
      ]
    },
    {
      "cell_type": "code",
      "source": [
        "# 5. Duración Mínima de Estancia\n",
        "\n",
        "min_nights_by_room_type_polars = (\n",
        "    airbnb_polars\n",
        "    .group_by(\"room_type\")\n",
        "    .agg([\n",
        "        pl.col(\"minimum_nights\").mean().round(2).alias(\"mean_minimum_nights\")\n",
        "    ])\n",
        "    .sort(\"mean_minimum_nights\", descending=True)\n",
        ")\n",
        "\n",
        "min_nights_by_room_type_polars"
      ],
      "metadata": {
        "id": "lKZo6dB7_Ezv",
        "colab": {
          "base_uri": "https://localhost:8080/",
          "height": 223
        },
        "outputId": "d5d67e85-7e39-437f-b50b-8acdc61277a5"
      },
      "execution_count": 26,
      "outputs": [
        {
          "output_type": "execute_result",
          "data": {
            "text/plain": [
              "shape: (4, 2)\n",
              "┌─────────────────┬─────────────────────┐\n",
              "│ room_type       ┆ mean_minimum_nights │\n",
              "│ ---             ┆ ---                 │\n",
              "│ str             ┆ f64                 │\n",
              "╞═════════════════╪═════════════════════╡\n",
              "│ Hotel room      ┆ 11.89               │\n",
              "│ Entire home/apt ┆ 8.48                │\n",
              "│ Private room    ┆ 7.4                 │\n",
              "│ Shared room     ┆ 4.1                 │\n",
              "└─────────────────┴─────────────────────┘"
            ],
            "text/html": [
              "<div><style>\n",
              ".dataframe > thead > tr,\n",
              ".dataframe > tbody > tr {\n",
              "  text-align: right;\n",
              "  white-space: pre-wrap;\n",
              "}\n",
              "</style>\n",
              "<small>shape: (4, 2)</small><table border=\"1\" class=\"dataframe\"><thead><tr><th>room_type</th><th>mean_minimum_nights</th></tr><tr><td>str</td><td>f64</td></tr></thead><tbody><tr><td>&quot;Hotel room&quot;</td><td>11.89</td></tr><tr><td>&quot;Entire home/apt&quot;</td><td>8.48</td></tr><tr><td>&quot;Private room&quot;</td><td>7.4</td></tr><tr><td>&quot;Shared room&quot;</td><td>4.1</td></tr></tbody></table></div>"
            ]
          },
          "metadata": {},
          "execution_count": 26
        }
      ]
    },
    {
      "cell_type": "code",
      "source": [
        "# 6. Popularidad de los Barrios\n",
        "\n",
        "most_reviewed_neighbourhoods = (\n",
        "    airbnb_spark\n",
        "    .groupBy(\"neighbourhood\")\n",
        "    .agg(\n",
        "        sqlf.sum(\"number_of_reviews\").alias(\"total_reviews\")\n",
        "    )\n",
        "    .orderBy(sqlf.desc(\"total_reviews\"))\n",
        "    .limit(10)\n",
        ")\n",
        "\n",
        "most_reviewed_neighbourhoods.show()\n"
      ],
      "metadata": {
        "id": "kpoVyCwj_ZpH",
        "colab": {
          "base_uri": "https://localhost:8080/"
        },
        "outputId": "d959d691-11a6-4a6b-d7ad-992909ae83ae"
      },
      "execution_count": 27,
      "outputs": [
        {
          "output_type": "stream",
          "name": "stdout",
          "text": [
            "+---------------+-------------+\n",
            "|  neighbourhood|total_reviews|\n",
            "+---------------+-------------+\n",
            "|    Embajadores|       192458|\n",
            "|    Universidad|       151488|\n",
            "|        Palacio|       127130|\n",
            "|            Sol|       117131|\n",
            "|         Cortes|        88061|\n",
            "|       Justicia|        71621|\n",
            "|Palos de Moguer|        28481|\n",
            "|       Pacífico|        14382|\n",
            "|      Trafalgar|        13599|\n",
            "| Cuatro Caminos|        13038|\n",
            "+---------------+-------------+\n",
            "\n"
          ]
        }
      ]
    },
    {
      "cell_type": "code",
      "source": [
        "# 6. Popularidad de los Barrios\n",
        "\n",
        "most_reviewed_neighbourhoods_polars = (\n",
        "    airbnb_polars\n",
        "    .group_by(\"neighbourhood\")\n",
        "    .agg(\n",
        "        pl.col(\"number_of_reviews\").sum().alias(\"total_reviews\")\n",
        "    )\n",
        "    .sort(\"total_reviews\", descending=True)\n",
        "    .head(10)\n",
        ")\n",
        "\n",
        "most_reviewed_neighbourhoods_polars"
      ],
      "metadata": {
        "id": "qDDCRYlrAEGn",
        "colab": {
          "base_uri": "https://localhost:8080/",
          "height": 411
        },
        "outputId": "5463b0f8-6ba8-46f7-f16a-2f763f2ee773"
      },
      "execution_count": 28,
      "outputs": [
        {
          "output_type": "execute_result",
          "data": {
            "text/plain": [
              "shape: (10, 2)\n",
              "┌─────────────────┬───────────────┐\n",
              "│ neighbourhood   ┆ total_reviews │\n",
              "│ ---             ┆ ---           │\n",
              "│ str             ┆ i64           │\n",
              "╞═════════════════╪═══════════════╡\n",
              "│ Embajadores     ┆ 192458        │\n",
              "│ Universidad     ┆ 151488        │\n",
              "│ Palacio         ┆ 127130        │\n",
              "│ Sol             ┆ 117131        │\n",
              "│ Cortes          ┆ 88061         │\n",
              "│ Justicia        ┆ 71621         │\n",
              "│ Palos de Moguer ┆ 28481         │\n",
              "│ Pacífico        ┆ 14382         │\n",
              "│ Trafalgar       ┆ 13599         │\n",
              "│ Cuatro Caminos  ┆ 13038         │\n",
              "└─────────────────┴───────────────┘"
            ],
            "text/html": [
              "<div><style>\n",
              ".dataframe > thead > tr,\n",
              ".dataframe > tbody > tr {\n",
              "  text-align: right;\n",
              "  white-space: pre-wrap;\n",
              "}\n",
              "</style>\n",
              "<small>shape: (10, 2)</small><table border=\"1\" class=\"dataframe\"><thead><tr><th>neighbourhood</th><th>total_reviews</th></tr><tr><td>str</td><td>i64</td></tr></thead><tbody><tr><td>&quot;Embajadores&quot;</td><td>192458</td></tr><tr><td>&quot;Universidad&quot;</td><td>151488</td></tr><tr><td>&quot;Palacio&quot;</td><td>127130</td></tr><tr><td>&quot;Sol&quot;</td><td>117131</td></tr><tr><td>&quot;Cortes&quot;</td><td>88061</td></tr><tr><td>&quot;Justicia&quot;</td><td>71621</td></tr><tr><td>&quot;Palos de Moguer&quot;</td><td>28481</td></tr><tr><td>&quot;Pacífico&quot;</td><td>14382</td></tr><tr><td>&quot;Trafalgar&quot;</td><td>13599</td></tr><tr><td>&quot;Cuatro Caminos&quot;</td><td>13038</td></tr></tbody></table></div>"
            ]
          },
          "metadata": {},
          "execution_count": 28
        }
      ]
    },
    {
      "cell_type": "code",
      "source": [
        "# 6. Popularidad de los Barrios\n",
        "\n",
        "most_reviewed_monthly_neighbourhoods = (\n",
        "    airbnb_spark\n",
        "    .groupBy(\"neighbourhood\")\n",
        "    .agg(\n",
        "        sqlf.round(sqlf.mean(\"reviews_per_month\"), 2).alias(\"avg_reviews_per_month\")\n",
        "    )\n",
        "    .orderBy(sqlf.desc(\"avg_reviews_per_month\"))\n",
        "    .limit(10)\n",
        ")\n",
        "\n",
        "most_reviewed_monthly_neighbourhoods.show()"
      ],
      "metadata": {
        "id": "8DDDVlOPAWWd",
        "colab": {
          "base_uri": "https://localhost:8080/"
        },
        "outputId": "446ccb4a-c976-4b63-b00f-93a9050f25b3"
      },
      "execution_count": 29,
      "outputs": [
        {
          "output_type": "stream",
          "name": "stdout",
          "text": [
            "+--------------------+---------------------+\n",
            "|       neighbourhood|avg_reviews_per_month|\n",
            "+--------------------+---------------------+\n",
            "|          Aeropuerto|                 6.22|\n",
            "|               Timón|                 4.35|\n",
            "|Casco Histórico d...|                 4.09|\n",
            "|          Corralejos|                 3.83|\n",
            "|    Alameda de Osuna|                 3.21|\n",
            "|       Santa Eugenia|                  2.9|\n",
            "|              Ambroz|                 2.63|\n",
            "|           Entrevías|                 2.45|\n",
            "|     Palos de Moguer|                 2.28|\n",
            "|       Pinar del Rey|                 2.28|\n",
            "+--------------------+---------------------+\n",
            "\n"
          ]
        }
      ]
    },
    {
      "cell_type": "code",
      "source": [
        "# 6. Popularidad de los Barrios\n",
        "\n",
        "most_reviewed_monthly_neighbourhoods_polars = (\n",
        "    airbnb_polars\n",
        "    .filter(pl.col(\"reviews_per_month\").is_not_null())\n",
        "    .group_by(\"neighbourhood\")\n",
        "    .agg(\n",
        "        pl.col(\"reviews_per_month\").mean().round(2).alias(\"avg_reviews_per_month\")\n",
        "    )\n",
        "    .sort(\"avg_reviews_per_month\", descending=True)\n",
        "    .head(10)\n",
        ")\n",
        "\n",
        "most_reviewed_monthly_neighbourhoods_polars"
      ],
      "metadata": {
        "id": "1hErH29lAsni",
        "colab": {
          "base_uri": "https://localhost:8080/",
          "height": 411
        },
        "outputId": "0da3722f-2ea5-4d1a-fa2f-4e308f486fa2"
      },
      "execution_count": 74,
      "outputs": [
        {
          "output_type": "execute_result",
          "data": {
            "text/plain": [
              "shape: (10, 2)\n",
              "┌────────────────────────────┬───────────────────────┐\n",
              "│ neighbourhood              ┆ avg_reviews_per_month │\n",
              "│ ---                        ┆ ---                   │\n",
              "│ str                        ┆ f64                   │\n",
              "╞════════════════════════════╪═══════════════════════╡\n",
              "│ Aeropuerto                 ┆ 6.22                  │\n",
              "│ Timón                      ┆ 4.35                  │\n",
              "│ Casco Histórico de Barajas ┆ 4.09                  │\n",
              "│ Corralejos                 ┆ 3.83                  │\n",
              "│ Alameda de Osuna           ┆ 3.21                  │\n",
              "│ Santa Eugenia              ┆ 2.9                   │\n",
              "│ Ambroz                     ┆ 2.63                  │\n",
              "│ Entrevías                  ┆ 2.45                  │\n",
              "│ Palos de Moguer            ┆ 2.28                  │\n",
              "│ Pinar del Rey              ┆ 2.28                  │\n",
              "└────────────────────────────┴───────────────────────┘"
            ],
            "text/html": [
              "<div><style>\n",
              ".dataframe > thead > tr,\n",
              ".dataframe > tbody > tr {\n",
              "  text-align: right;\n",
              "  white-space: pre-wrap;\n",
              "}\n",
              "</style>\n",
              "<small>shape: (10, 2)</small><table border=\"1\" class=\"dataframe\"><thead><tr><th>neighbourhood</th><th>avg_reviews_per_month</th></tr><tr><td>str</td><td>f64</td></tr></thead><tbody><tr><td>&quot;Aeropuerto&quot;</td><td>6.22</td></tr><tr><td>&quot;Timón&quot;</td><td>4.35</td></tr><tr><td>&quot;Casco Histórico de Barajas&quot;</td><td>4.09</td></tr><tr><td>&quot;Corralejos&quot;</td><td>3.83</td></tr><tr><td>&quot;Alameda de Osuna&quot;</td><td>3.21</td></tr><tr><td>&quot;Santa Eugenia&quot;</td><td>2.9</td></tr><tr><td>&quot;Ambroz&quot;</td><td>2.63</td></tr><tr><td>&quot;Entrevías&quot;</td><td>2.45</td></tr><tr><td>&quot;Palos de Moguer&quot;</td><td>2.28</td></tr><tr><td>&quot;Pinar del Rey&quot;</td><td>2.28</td></tr></tbody></table></div>"
            ]
          },
          "metadata": {},
          "execution_count": 74
        }
      ]
    },
    {
      "cell_type": "code",
      "source": [
        "# 7. Impacto de la Actividad del Anfitrión\n",
        "\n",
        "host_listings_quintiles = airbnb_spark.approxQuantile(\"calculated_host_listings_count\", [0.2, 0.4, 0.6, 0.8], 0.0)\n",
        "\n",
        "impact_by_host_activity = (\n",
        "    airbnb_spark\n",
        "    .withColumn(\n",
        "        \"host_listings_quintile\",\n",
        "        sqlf.when(sqlf.col(\"calculated_host_listings_count\") <= host_listings_quintiles[0], 1)\n",
        "        .when(sqlf.col(\"calculated_host_listings_count\") <= host_listings_quintiles[1], 2)\n",
        "        .when(sqlf.col(\"calculated_host_listings_count\") <= host_listings_quintiles[2], 3)\n",
        "        .when(sqlf.col(\"calculated_host_listings_count\") <= host_listings_quintiles[3], 4)\n",
        "        .otherwise(5)\n",
        "    )\n",
        "    .groupBy(\"host_listings_quintile\")\n",
        "    .agg(\n",
        "        sqlf.round(sqlf.mean(\"price\"), 2).alias(\"avg_price\"),\n",
        "        sqlf.round(sqlf.mean(\"reviews_per_month\"), 2).alias(\"avg_reviews_per_month\")\n",
        "    )\n",
        "    .orderBy(\"host_listings_quintile\")\n",
        ")\n",
        "\n",
        "impact_by_host_activity.show()"
      ],
      "metadata": {
        "id": "LEDxnQN6A60G",
        "colab": {
          "base_uri": "https://localhost:8080/"
        },
        "outputId": "3d0a0421-f4cb-4731-b470-8e30a3b1456d"
      },
      "execution_count": 31,
      "outputs": [
        {
          "output_type": "stream",
          "name": "stdout",
          "text": [
            "+----------------------+---------+---------------------+\n",
            "|host_listings_quintile|avg_price|avg_reviews_per_month|\n",
            "+----------------------+---------+---------------------+\n",
            "|                     1|   138.77|                 1.65|\n",
            "|                     2|   121.63|                 2.03|\n",
            "|                     3|   135.54|                 1.99|\n",
            "|                     4|   152.39|                  2.1|\n",
            "|                     5|   145.48|                 1.45|\n",
            "+----------------------+---------+---------------------+\n",
            "\n"
          ]
        }
      ]
    },
    {
      "cell_type": "code",
      "source": [
        "# 7. Impacto de la Actividad del Anfitrión\n",
        "\n",
        "host_listings_quintiles = [\n",
        "    airbnb_polars[\"calculated_host_listings_count\"].quantile(0.2),\n",
        "    airbnb_polars[\"calculated_host_listings_count\"].quantile(0.4),\n",
        "    airbnb_polars[\"calculated_host_listings_count\"].quantile(0.6),\n",
        "    airbnb_polars[\"calculated_host_listings_count\"].quantile(0.8)\n",
        "]\n",
        "\n",
        "\n",
        "impact_by_host_activity_polars = (\n",
        "    airbnb_polars\n",
        "    .with_columns(\n",
        "        pl.when(pl.col(\"calculated_host_listings_count\") <= host_listings_quintiles[0]).then(1)\n",
        "        .when(pl.col(\"calculated_host_listings_count\") <= host_listings_quintiles[1]).then(2)\n",
        "        .when(pl.col(\"calculated_host_listings_count\") <= host_listings_quintiles[2]).then(3)\n",
        "        .when(pl.col(\"calculated_host_listings_count\") <= host_listings_quintiles[3]).then(4)\n",
        "        .otherwise(5).alias(\"host_listings_quintile\")\n",
        "    )\n",
        "    .group_by(\"host_listings_quintile\")\n",
        "    .agg(\n",
        "        pl.col(\"price\").mean().round(2).alias(\"avg_price\"),\n",
        "        pl.col(\"reviews_per_month\").mean().round(2).alias(\"avg_reviews_per_month\")\n",
        "    )\n",
        "    .sort(\"host_listings_quintile\")\n",
        ")\n",
        "\n",
        "impact_by_host_activity_polars"
      ],
      "metadata": {
        "id": "cP0psidrB_f2",
        "colab": {
          "base_uri": "https://localhost:8080/",
          "height": 255
        },
        "outputId": "9da5daee-45f0-4f5b-8d20-03ff5a3c4d3c"
      },
      "execution_count": 32,
      "outputs": [
        {
          "output_type": "execute_result",
          "data": {
            "text/plain": [
              "shape: (5, 3)\n",
              "┌────────────────────────┬───────────┬───────────────────────┐\n",
              "│ host_listings_quintile ┆ avg_price ┆ avg_reviews_per_month │\n",
              "│ ---                    ┆ ---       ┆ ---                   │\n",
              "│ i32                    ┆ f64       ┆ f64                   │\n",
              "╞════════════════════════╪═══════════╪═══════════════════════╡\n",
              "│ 1                      ┆ 138.77    ┆ 1.65                  │\n",
              "│ 2                      ┆ 121.63    ┆ 2.03                  │\n",
              "│ 3                      ┆ 135.54    ┆ 1.99                  │\n",
              "│ 4                      ┆ 152.39    ┆ 2.1                   │\n",
              "│ 5                      ┆ 145.48    ┆ 1.45                  │\n",
              "└────────────────────────┴───────────┴───────────────────────┘"
            ],
            "text/html": [
              "<div><style>\n",
              ".dataframe > thead > tr,\n",
              ".dataframe > tbody > tr {\n",
              "  text-align: right;\n",
              "  white-space: pre-wrap;\n",
              "}\n",
              "</style>\n",
              "<small>shape: (5, 3)</small><table border=\"1\" class=\"dataframe\"><thead><tr><th>host_listings_quintile</th><th>avg_price</th><th>avg_reviews_per_month</th></tr><tr><td>i32</td><td>f64</td><td>f64</td></tr></thead><tbody><tr><td>1</td><td>138.77</td><td>1.65</td></tr><tr><td>2</td><td>121.63</td><td>2.03</td></tr><tr><td>3</td><td>135.54</td><td>1.99</td></tr><tr><td>4</td><td>152.39</td><td>2.1</td></tr><tr><td>5</td><td>145.48</td><td>1.45</td></tr></tbody></table></div>"
            ]
          },
          "metadata": {},
          "execution_count": 32
        }
      ]
    },
    {
      "cell_type": "code",
      "source": [
        "# 7. Impacto de la Actividad del Anfitrión\n",
        "\n",
        "top_hosts = (\n",
        "    airbnb_spark\n",
        "    .groupBy(\"host_id\", \"host_name\")\n",
        "    .agg(\n",
        "        sqlf.sum(\"calculated_host_listings_count\").alias(\"total_listings\")\n",
        "    )\n",
        "    .orderBy(sqlf.desc(\"total_listings\"))\n",
        "    .limit(10)\n",
        ")\n",
        "\n",
        "top_hosts.show()"
      ],
      "metadata": {
        "id": "fFtbveL_CZyG",
        "colab": {
          "base_uri": "https://localhost:8080/"
        },
        "outputId": "1c67d6e0-622e-4a2f-9df5-b50b7d65e4bb"
      },
      "execution_count": 33,
      "outputs": [
        {
          "output_type": "stream",
          "name": "stdout",
          "text": [
            "+---------+-------------------+--------------+\n",
            "|  host_id|          host_name|total_listings|\n",
            "+---------+-------------------+--------------+\n",
            "|291253690|Fran Y Marta Isabel|        103684|\n",
            "|346367515|               Ukio|         98596|\n",
            "|377605855|          MIT House|         97344|\n",
            "|518713670|           Bemadrid|         64516|\n",
            "|434208714|         Blueground|         48841|\n",
            "|438136382|          Home Club|         37249|\n",
            "|576464572|     Maria Mercedes|         30976|\n",
            "|444912851|               Duke|         17161|\n",
            "|460391145|   Francisco Andres|         16900|\n",
            "| 40877988|               Raul|         15376|\n",
            "+---------+-------------------+--------------+\n",
            "\n"
          ]
        }
      ]
    },
    {
      "cell_type": "code",
      "source": [
        "# 7. Impacto de la Actividad del Anfitrión\n",
        "\n",
        "top_hosts_polars = (\n",
        "    airbnb_polars\n",
        "    .group_by(\"host_id\", \"host_name\")\n",
        "    .agg(\n",
        "        pl.col(\"calculated_host_listings_count\").sum().alias(\"total_listings\")\n",
        "    )\n",
        "    .sort(\"total_listings\", descending=True)\n",
        "    .head(10)\n",
        ")\n",
        "\n",
        "top_hosts_polars"
      ],
      "metadata": {
        "id": "U38BPYVGClbi",
        "colab": {
          "base_uri": "https://localhost:8080/",
          "height": 411
        },
        "outputId": "574d5a56-6597-4618-d266-c3f2c89b87e4"
      },
      "execution_count": 34,
      "outputs": [
        {
          "output_type": "execute_result",
          "data": {
            "text/plain": [
              "shape: (10, 3)\n",
              "┌───────────┬─────────────────────┬────────────────┐\n",
              "│ host_id   ┆ host_name           ┆ total_listings │\n",
              "│ ---       ┆ ---                 ┆ ---            │\n",
              "│ i64       ┆ str                 ┆ i64            │\n",
              "╞═══════════╪═════════════════════╪════════════════╡\n",
              "│ 291253690 ┆ Fran Y Marta Isabel ┆ 103684         │\n",
              "│ 346367515 ┆ Ukio                ┆ 98596          │\n",
              "│ 377605855 ┆ MIT House           ┆ 97344          │\n",
              "│ 518713670 ┆ Bemadrid            ┆ 64516          │\n",
              "│ 434208714 ┆ Blueground          ┆ 48841          │\n",
              "│ 438136382 ┆ Home Club           ┆ 37249          │\n",
              "│ 576464572 ┆ Maria Mercedes      ┆ 30976          │\n",
              "│ 444912851 ┆ Duke                ┆ 17161          │\n",
              "│ 460391145 ┆ Francisco Andres    ┆ 16900          │\n",
              "│ 40877988  ┆ Raul                ┆ 15376          │\n",
              "└───────────┴─────────────────────┴────────────────┘"
            ],
            "text/html": [
              "<div><style>\n",
              ".dataframe > thead > tr,\n",
              ".dataframe > tbody > tr {\n",
              "  text-align: right;\n",
              "  white-space: pre-wrap;\n",
              "}\n",
              "</style>\n",
              "<small>shape: (10, 3)</small><table border=\"1\" class=\"dataframe\"><thead><tr><th>host_id</th><th>host_name</th><th>total_listings</th></tr><tr><td>i64</td><td>str</td><td>i64</td></tr></thead><tbody><tr><td>291253690</td><td>&quot;Fran Y Marta Isabel&quot;</td><td>103684</td></tr><tr><td>346367515</td><td>&quot;Ukio&quot;</td><td>98596</td></tr><tr><td>377605855</td><td>&quot;MIT House&quot;</td><td>97344</td></tr><tr><td>518713670</td><td>&quot;Bemadrid&quot;</td><td>64516</td></tr><tr><td>434208714</td><td>&quot;Blueground&quot;</td><td>48841</td></tr><tr><td>438136382</td><td>&quot;Home Club&quot;</td><td>37249</td></tr><tr><td>576464572</td><td>&quot;Maria Mercedes&quot;</td><td>30976</td></tr><tr><td>444912851</td><td>&quot;Duke&quot;</td><td>17161</td></tr><tr><td>460391145</td><td>&quot;Francisco Andres&quot;</td><td>16900</td></tr><tr><td>40877988</td><td>&quot;Raul&quot;</td><td>15376</td></tr></tbody></table></div>"
            ]
          },
          "metadata": {},
          "execution_count": 34
        }
      ]
    },
    {
      "cell_type": "code",
      "source": [
        "# 8. Licencias y Desempeño\n",
        "\n",
        "license_counts = (\n",
        "    airbnb_spark\n",
        "    .groupBy((sqlf.col(\"license\").isNotNull()).alias(\"has_license\"))\n",
        "    .agg(\n",
        "        sqlf.count(\"*\").alias(\"count\"),\n",
        "        sqlf.round((sqlf.count(\"*\") / airbnb_spark.count()) * 100, 2).alias(\"percentage\")\n",
        "    )\n",
        ")\n",
        "\n",
        "license_counts.show()\n"
      ],
      "metadata": {
        "id": "Z3Uf1HXVDA09",
        "colab": {
          "base_uri": "https://localhost:8080/"
        },
        "outputId": "82fc6867-f5c4-4de9-b97a-fc6b884d0d16"
      },
      "execution_count": 35,
      "outputs": [
        {
          "output_type": "stream",
          "name": "stdout",
          "text": [
            "+-----------+-----+----------+\n",
            "|has_license|count|percentage|\n",
            "+-----------+-----+----------+\n",
            "|       true| 2630|      9.75|\n",
            "|      false|24350|     90.25|\n",
            "+-----------+-----+----------+\n",
            "\n"
          ]
        }
      ]
    },
    {
      "cell_type": "code",
      "source": [
        "# 8. Licencias y Desempeño\n",
        "\n",
        "license_counts_polars = (\n",
        "    airbnb_polars\n",
        "    .group_by(pl.col(\"license\").is_not_null().alias(\"has_license\"))\n",
        "    .agg(\n",
        "        pl.len().alias(\"count\"),\n",
        "        (pl.len() / airbnb_polars.shape[0] * 100).round(2).alias(\"percentage\")\n",
        "    )\n",
        ")\n",
        "\n",
        "license_counts_polars"
      ],
      "metadata": {
        "id": "6KnYZvgmSAqa",
        "colab": {
          "base_uri": "https://localhost:8080/",
          "height": 161
        },
        "outputId": "458e679f-ae1b-4cd7-d63e-ade244cef705"
      },
      "execution_count": 36,
      "outputs": [
        {
          "output_type": "execute_result",
          "data": {
            "text/plain": [
              "shape: (2, 3)\n",
              "┌─────────────┬───────┬────────────┐\n",
              "│ has_license ┆ count ┆ percentage │\n",
              "│ ---         ┆ ---   ┆ ---        │\n",
              "│ bool        ┆ u32   ┆ f64        │\n",
              "╞═════════════╪═══════╪════════════╡\n",
              "│ true        ┆ 2630  ┆ 9.75       │\n",
              "│ false       ┆ 24350 ┆ 90.25      │\n",
              "└─────────────┴───────┴────────────┘"
            ],
            "text/html": [
              "<div><style>\n",
              ".dataframe > thead > tr,\n",
              ".dataframe > tbody > tr {\n",
              "  text-align: right;\n",
              "  white-space: pre-wrap;\n",
              "}\n",
              "</style>\n",
              "<small>shape: (2, 3)</small><table border=\"1\" class=\"dataframe\"><thead><tr><th>has_license</th><th>count</th><th>percentage</th></tr><tr><td>bool</td><td>u32</td><td>f64</td></tr></thead><tbody><tr><td>true</td><td>2630</td><td>9.75</td></tr><tr><td>false</td><td>24350</td><td>90.25</td></tr></tbody></table></div>"
            ]
          },
          "metadata": {},
          "execution_count": 36
        }
      ]
    },
    {
      "cell_type": "code",
      "source": [
        "# 8. Licencias y Desempeño\n",
        "\n",
        "performance_by_license = (\n",
        "    airbnb_spark\n",
        "    .groupBy((sqlf.col(\"license\").isNotNull()).alias(\"has_license\"))\n",
        "    .agg(\n",
        "        sqlf.round(sqlf.mean(\"price\"), 2).alias(\"avg_price\"),\n",
        "        sqlf.round(sqlf.mean(\"availability_365\"), 2).alias(\"avg_availability\"),\n",
        "        sqlf.round(sqlf.mean(\"reviews_per_month\"), 2).alias(\"avg_reviews_per_month\"),\n",
        "        sqlf.count(\"*\").alias(\"count\")\n",
        "    )\n",
        ")\n",
        "\n",
        "performance_by_license.show()"
      ],
      "metadata": {
        "id": "7G6_9XXtTAH8",
        "colab": {
          "base_uri": "https://localhost:8080/"
        },
        "outputId": "aeb626d4-46c0-4d21-9cfc-9c4b8e1062ea"
      },
      "execution_count": 37,
      "outputs": [
        {
          "output_type": "stream",
          "name": "stdout",
          "text": [
            "+-----------+---------+----------------+---------------------+-----+\n",
            "|has_license|avg_price|avg_availability|avg_reviews_per_month|count|\n",
            "+-----------+---------+----------------+---------------------+-----+\n",
            "|       true|   182.47|          166.87|                 1.98| 2630|\n",
            "|      false|   135.37|          155.06|                 1.78|24350|\n",
            "+-----------+---------+----------------+---------------------+-----+\n",
            "\n"
          ]
        }
      ]
    },
    {
      "cell_type": "code",
      "source": [
        "# 8. Licencias y Desempeño\n",
        "\n",
        "performance_by_license_polars = (\n",
        "    airbnb_polars\n",
        "    .group_by(pl.col(\"license\").is_not_null().alias(\"has_license\"))\n",
        "    .agg(\n",
        "        pl.col(\"price\").mean().round(2).alias(\"avg_price\"),\n",
        "        pl.col(\"availability_365\").mean().round(2).alias(\"avg_availability\"),\n",
        "        pl.col(\"reviews_per_month\").mean().round(2).alias(\"avg_reviews_per_month\"),\n",
        "        pl.len().alias(\"count\")\n",
        "    )\n",
        ")\n",
        "\n",
        "performance_by_license_polars"
      ],
      "metadata": {
        "id": "0Dqsr8xzTX_e",
        "colab": {
          "base_uri": "https://localhost:8080/",
          "height": 161
        },
        "outputId": "43298544-3d3f-4380-a4a5-9b0f0ab1d954"
      },
      "execution_count": 38,
      "outputs": [
        {
          "output_type": "execute_result",
          "data": {
            "text/plain": [
              "shape: (2, 5)\n",
              "┌─────────────┬───────────┬──────────────────┬───────────────────────┬───────┐\n",
              "│ has_license ┆ avg_price ┆ avg_availability ┆ avg_reviews_per_month ┆ count │\n",
              "│ ---         ┆ ---       ┆ ---              ┆ ---                   ┆ ---   │\n",
              "│ bool        ┆ f64       ┆ f64              ┆ f64                   ┆ u32   │\n",
              "╞═════════════╪═══════════╪══════════════════╪═══════════════════════╪═══════╡\n",
              "│ false       ┆ 135.37    ┆ 155.06           ┆ 1.78                  ┆ 24350 │\n",
              "│ true        ┆ 182.47    ┆ 166.87           ┆ 1.98                  ┆ 2630  │\n",
              "└─────────────┴───────────┴──────────────────┴───────────────────────┴───────┘"
            ],
            "text/html": [
              "<div><style>\n",
              ".dataframe > thead > tr,\n",
              ".dataframe > tbody > tr {\n",
              "  text-align: right;\n",
              "  white-space: pre-wrap;\n",
              "}\n",
              "</style>\n",
              "<small>shape: (2, 5)</small><table border=\"1\" class=\"dataframe\"><thead><tr><th>has_license</th><th>avg_price</th><th>avg_availability</th><th>avg_reviews_per_month</th><th>count</th></tr><tr><td>bool</td><td>f64</td><td>f64</td><td>f64</td><td>u32</td></tr></thead><tbody><tr><td>false</td><td>135.37</td><td>155.06</td><td>1.78</td><td>24350</td></tr><tr><td>true</td><td>182.47</td><td>166.87</td><td>1.98</td><td>2630</td></tr></tbody></table></div>"
            ]
          },
          "metadata": {},
          "execution_count": 38
        }
      ]
    },
    {
      "cell_type": "code",
      "source": [
        "# 9. Tendencias de Precios y Reseñas Recientes\n",
        "\n",
        "correlations = (\n",
        "    airbnb_spark.select(\n",
        "        sqlf.round(sqlf.corr(\"number_of_reviews_ltm\", \"price\") ,2).alias(\"corr_reviews_price\"),\n",
        "        sqlf.round(sqlf.corr(\"number_of_reviews_ltm\", \"availability_365\") ,2).alias(\"corr_reviews_availability\")\n",
        "    )\n",
        ")\n",
        "\n",
        "correlations.show()"
      ],
      "metadata": {
        "id": "Fm17o0QVTq8B",
        "colab": {
          "base_uri": "https://localhost:8080/"
        },
        "outputId": "39577445-5d9f-447c-c1d7-fd0760e333ac"
      },
      "execution_count": 39,
      "outputs": [
        {
          "output_type": "stream",
          "name": "stdout",
          "text": [
            "+------------------+-------------------------+\n",
            "|corr_reviews_price|corr_reviews_availability|\n",
            "+------------------+-------------------------+\n",
            "|             -0.04|                     0.07|\n",
            "+------------------+-------------------------+\n",
            "\n"
          ]
        }
      ]
    },
    {
      "cell_type": "code",
      "source": [
        "# 9. Tendencias de Precios y Reseñas Recientes\n",
        "\n",
        "corr_reviews_price = airbnb_polars.select(\n",
        "    pl.corr(\"number_of_reviews_ltm\", \"price\").round(2)\n",
        ")\n",
        "\n",
        "corr_reviews_availability = airbnb_polars.select(\n",
        "    pl.corr(\"number_of_reviews_ltm\", \"availability_365\").round(2)\n",
        ")\n",
        "\n",
        "print(f\"Correlación entre reseñas y precio: {corr_reviews_price}\")\n",
        "print(f\"Correlación entre reseñas y disponibilidad: {corr_reviews_availability}\")"
      ],
      "metadata": {
        "id": "FdI4HupsUI72",
        "colab": {
          "base_uri": "https://localhost:8080/"
        },
        "outputId": "397891b2-7c58-4868-b9b9-eafb451a08de"
      },
      "execution_count": 40,
      "outputs": [
        {
          "output_type": "stream",
          "name": "stdout",
          "text": [
            "Correlación entre reseñas y precio: shape: (1, 1)\n",
            "┌───────────────────────┐\n",
            "│ number_of_reviews_ltm │\n",
            "│ ---                   │\n",
            "│ f64                   │\n",
            "╞═══════════════════════╡\n",
            "│ -0.04                 │\n",
            "└───────────────────────┘\n",
            "Correlación entre reseñas y disponibilidad: shape: (1, 1)\n",
            "┌───────────────────────┐\n",
            "│ number_of_reviews_ltm │\n",
            "│ ---                   │\n",
            "│ f64                   │\n",
            "╞═══════════════════════╡\n",
            "│ 0.07                  │\n",
            "└───────────────────────┘\n"
          ]
        }
      ]
    },
    {
      "cell_type": "code",
      "source": [
        "# 10. Correlación entre Características\n",
        "\n",
        "correlations_price = (\n",
        "    airbnb_spark.select(\n",
        "        sqlf.round(sqlf.corr(\"minimum_nights\", \"price\"),2),\n",
        "        sqlf.round(sqlf.corr(\"number_of_reviews\", \"price\"),2),\n",
        "        sqlf.round(sqlf.corr(\"reviews_per_month\", \"price\"),2),\n",
        "        sqlf.round(sqlf.corr(\"number_of_reviews_ltm\", \"price\"),2),\n",
        "        sqlf.round(sqlf.corr(\"calculated_host_listings_count\", \"price\"),2),\n",
        "        sqlf.round(sqlf.corr(\"availability_365\", \"price\"),2)\n",
        "\n",
        "    )\n",
        ")\n",
        "\n",
        "correlations_availability_365 = (\n",
        "    airbnb_spark.select(\n",
        "        sqlf.round(sqlf.corr(\"minimum_nights\", \"availability_365\"),2),\n",
        "        sqlf.round(sqlf.corr(\"number_of_reviews\", \"availability_365\"),2),\n",
        "        sqlf.round(sqlf.corr(\"reviews_per_month\", \"availability_365\"),2),\n",
        "        sqlf.round(sqlf.corr(\"number_of_reviews_ltm\", \"availability_365\"),2),\n",
        "        sqlf.round(sqlf.corr(\"calculated_host_listings_count\", \"availability_365\"),2),\n",
        "        sqlf.round(sqlf.corr(\"price\", \"availability_365\"),2)\n",
        "\n",
        "    )\n",
        ")\n",
        "\n",
        "correlations_price.show()\n",
        "correlations_availability_365.show()"
      ],
      "metadata": {
        "id": "eGroPSI4XHOc",
        "colab": {
          "base_uri": "https://localhost:8080/"
        },
        "outputId": "22a4a53b-987a-48d3-da2a-bd7817e93da3"
      },
      "execution_count": 41,
      "outputs": [
        {
          "output_type": "stream",
          "name": "stdout",
          "text": [
            "+-------------------------------------+----------------------------------------+----------------------------------------+--------------------------------------------+-----------------------------------------------------+---------------------------------------+\n",
            "|round(corr(minimum_nights, price), 2)|round(corr(number_of_reviews, price), 2)|round(corr(reviews_per_month, price), 2)|round(corr(number_of_reviews_ltm, price), 2)|round(corr(calculated_host_listings_count, price), 2)|round(corr(availability_365, price), 2)|\n",
            "+-------------------------------------+----------------------------------------+----------------------------------------+--------------------------------------------+-----------------------------------------------------+---------------------------------------+\n",
            "|                                  0.0|                                   -0.02|                                   -0.04|                                       -0.04|                                                 0.01|                                   0.02|\n",
            "+-------------------------------------+----------------------------------------+----------------------------------------+--------------------------------------------+-----------------------------------------------------+---------------------------------------+\n",
            "\n",
            "+------------------------------------------------+---------------------------------------------------+---------------------------------------------------+-------------------------------------------------------+----------------------------------------------------------------+---------------------------------------+\n",
            "|round(corr(minimum_nights, availability_365), 2)|round(corr(number_of_reviews, availability_365), 2)|round(corr(reviews_per_month, availability_365), 2)|round(corr(number_of_reviews_ltm, availability_365), 2)|round(corr(calculated_host_listings_count, availability_365), 2)|round(corr(price, availability_365), 2)|\n",
            "+------------------------------------------------+---------------------------------------------------+---------------------------------------------------+-------------------------------------------------------+----------------------------------------------------------------+---------------------------------------+\n",
            "|                                            0.02|                                               0.02|                                               0.07|                                                   0.07|                                                            0.16|                                   0.02|\n",
            "+------------------------------------------------+---------------------------------------------------+---------------------------------------------------+-------------------------------------------------------+----------------------------------------------------------------+---------------------------------------+\n",
            "\n"
          ]
        }
      ]
    },
    {
      "cell_type": "code",
      "source": [
        "# 10. Correlación entre Características\n",
        "\n",
        "corr_reviews_price = airbnb_polars.select(\n",
        "    pl.corr(\"number_of_reviews_ltm\", \"price\").round(2),\n",
        "    pl.corr(\"availability_365\", \"price\").round(2),\n",
        "    pl.corr(\"minimum_nights\", \"price\").round(2),\n",
        "    pl.corr(\"reviews_per_month\", \"price\").round(2),\n",
        "    pl.corr(\"calculated_host_listings_count\", \"price\").round(2),\n",
        "    pl.corr(\"number_of_reviews\", \"price\").round(2)\n",
        ")\n",
        "\n",
        "corr_reviews_availability_365 = airbnb_polars.select(\n",
        "    pl.corr(\"number_of_reviews_ltm\", \"availability_365\").round(2),\n",
        "    pl.corr(\"price\", \"availability_365\").round(2),\n",
        "    pl.corr(\"minimum_nights\", \"availability_365\").round(2),\n",
        "    pl.corr(\"reviews_per_month\", \"availability_365\").round(2),\n",
        "    pl.corr(\"calculated_host_listings_count\", \"availability_365\").round(2),\n",
        "    pl.corr(\"number_of_reviews\", \"availability_365\").round(2)\n",
        ")\n",
        "\n",
        "corr_reviews_price, corr_reviews_availability_365\n"
      ],
      "metadata": {
        "id": "ID4TYqs6a0RF",
        "colab": {
          "base_uri": "https://localhost:8080/"
        },
        "outputId": "dfa1d082-719d-43ed-edbe-267d23612e4e"
      },
      "execution_count": 42,
      "outputs": [
        {
          "output_type": "execute_result",
          "data": {
            "text/plain": [
              "(shape: (1, 6)\n",
              " ┌────────────────┬────────────────┬────────────────┬───────────────┬───────────────┬───────────────┐\n",
              " │ number_of_revi ┆ availability_3 ┆ minimum_nights ┆ reviews_per_m ┆ calculated_ho ┆ number_of_rev │\n",
              " │ ews_ltm        ┆ 65             ┆ ---            ┆ onth          ┆ st_listings_c ┆ iews          │\n",
              " │ ---            ┆ ---            ┆ f64            ┆ ---           ┆ ount          ┆ ---           │\n",
              " │ f64            ┆ f64            ┆                ┆ f64           ┆ ---           ┆ f64           │\n",
              " │                ┆                ┆                ┆               ┆ f64           ┆               │\n",
              " ╞════════════════╪════════════════╪════════════════╪═══════════════╪═══════════════╪═══════════════╡\n",
              " │ -0.04          ┆ 0.02           ┆ -0.0           ┆ -0.04         ┆ 0.01          ┆ -0.02         │\n",
              " └────────────────┴────────────────┴────────────────┴───────────────┴───────────────┴───────────────┘,\n",
              " shape: (1, 6)\n",
              " ┌──────────────────┬───────┬────────────────┬──────────────────┬─────────────────┬─────────────────┐\n",
              " │ number_of_review ┆ price ┆ minimum_nights ┆ reviews_per_mont ┆ calculated_host ┆ number_of_revie │\n",
              " │ s_ltm            ┆ ---   ┆ ---            ┆ h                ┆ _listings_count ┆ ws              │\n",
              " │ ---              ┆ f64   ┆ f64            ┆ ---              ┆ ---             ┆ ---             │\n",
              " │ f64              ┆       ┆                ┆ f64              ┆ f64             ┆ f64             │\n",
              " ╞══════════════════╪═══════╪════════════════╪══════════════════╪═════════════════╪═════════════════╡\n",
              " │ 0.07             ┆ 0.02  ┆ 0.02           ┆ 0.07             ┆ 0.16            ┆ 0.02            │\n",
              " └──────────────────┴───────┴────────────────┴──────────────────┴─────────────────┴─────────────────┘)"
            ]
          },
          "metadata": {},
          "execution_count": 42
        }
      ]
    },
    {
      "cell_type": "code",
      "source": [
        "# 11. Demanda según Tipo de Habitación\n",
        "\n",
        "room_demand_spark = (\n",
        "    airbnb_spark.groupBy(\"room_type\")\n",
        "    .agg(sqlf.round(sqlf.avg(\"reviews_per_month\"), 2).alias(\"avg_reviews_per_month\"))\n",
        "    .orderBy(sqlf.desc(\"avg_reviews_per_month\"))\n",
        ")\n",
        "\n",
        "room_demand_spark.show()"
      ],
      "metadata": {
        "id": "o71n6Ai9bcdW",
        "colab": {
          "base_uri": "https://localhost:8080/"
        },
        "outputId": "b0239196-9b41-4144-d250-142fc003746f"
      },
      "execution_count": 43,
      "outputs": [
        {
          "output_type": "stream",
          "name": "stdout",
          "text": [
            "+---------------+---------------------+\n",
            "|      room_type|avg_reviews_per_month|\n",
            "+---------------+---------------------+\n",
            "|Entire home/apt|                 1.92|\n",
            "|    Shared room|                 1.74|\n",
            "|   Private room|                 1.57|\n",
            "|     Hotel room|                 0.47|\n",
            "+---------------+---------------------+\n",
            "\n"
          ]
        }
      ]
    },
    {
      "cell_type": "code",
      "source": [
        "# 11. Demanda según Tipo de Habitación\n",
        "\n",
        "room_demand_polars = (\n",
        "    airbnb_polars\n",
        "    .group_by(\"room_type\")\n",
        "    .agg(pl.col(\"reviews_per_month\").mean().round(2).alias(\"avg_reviews_per_month\"))\n",
        "    .sort(\"avg_reviews_per_month\", descending=True)\n",
        ")\n",
        "\n",
        "room_demand_polars"
      ],
      "metadata": {
        "id": "8ABS0PtGdI3E",
        "colab": {
          "base_uri": "https://localhost:8080/",
          "height": 223
        },
        "outputId": "ea76e3fc-7bcc-48e2-8639-6e05e3675937"
      },
      "execution_count": 44,
      "outputs": [
        {
          "output_type": "execute_result",
          "data": {
            "text/plain": [
              "shape: (4, 2)\n",
              "┌─────────────────┬───────────────────────┐\n",
              "│ room_type       ┆ avg_reviews_per_month │\n",
              "│ ---             ┆ ---                   │\n",
              "│ str             ┆ f64                   │\n",
              "╞═════════════════╪═══════════════════════╡\n",
              "│ Entire home/apt ┆ 1.92                  │\n",
              "│ Shared room     ┆ 1.74                  │\n",
              "│ Private room    ┆ 1.57                  │\n",
              "│ Hotel room      ┆ 0.47                  │\n",
              "└─────────────────┴───────────────────────┘"
            ],
            "text/html": [
              "<div><style>\n",
              ".dataframe > thead > tr,\n",
              ".dataframe > tbody > tr {\n",
              "  text-align: right;\n",
              "  white-space: pre-wrap;\n",
              "}\n",
              "</style>\n",
              "<small>shape: (4, 2)</small><table border=\"1\" class=\"dataframe\"><thead><tr><th>room_type</th><th>avg_reviews_per_month</th></tr><tr><td>str</td><td>f64</td></tr></thead><tbody><tr><td>&quot;Entire home/apt&quot;</td><td>1.92</td></tr><tr><td>&quot;Shared room&quot;</td><td>1.74</td></tr><tr><td>&quot;Private room&quot;</td><td>1.57</td></tr><tr><td>&quot;Hotel room&quot;</td><td>0.47</td></tr></tbody></table></div>"
            ]
          },
          "metadata": {},
          "execution_count": 44
        }
      ]
    },
    {
      "cell_type": "code",
      "source": [
        "# 11. Demanda según Tipo de Habitación\n",
        "\n",
        "price_distribution_spark = (\n",
        "    airbnb_spark.groupBy(\"room_type\")\n",
        "    .agg(\n",
        "        sqlf.count(\"*\").alias(\"count\"),\n",
        "        sqlf.round(sqlf.mean(\"price\"), 2).alias(\"mean_price\"),\n",
        "        sqlf.min(\"price\").alias(\"min_price\"),\n",
        "        sqlf.max(\"price\").alias(\"max_price\"),\n",
        "        sqlf.percentile(\"price\", 0.5).alias(\"median_price\")\n",
        "    )\n",
        ")\n",
        "\n",
        "price_distribution_spark.show()"
      ],
      "metadata": {
        "id": "qDpdOyjpdjWi",
        "colab": {
          "base_uri": "https://localhost:8080/"
        },
        "outputId": "98b26b3e-16a9-48ed-b031-3279d3929b8a"
      },
      "execution_count": 45,
      "outputs": [
        {
          "output_type": "stream",
          "name": "stdout",
          "text": [
            "+---------------+-----+----------+---------+---------+------------+\n",
            "|      room_type|count|mean_price|min_price|max_price|median_price|\n",
            "+---------------+-----+----------+---------+---------+------------+\n",
            "|    Shared room|  343|    100.05|     13.0|   1500.0|        37.0|\n",
            "|     Hotel room|   92|    303.66|     31.0|   1029.0|       161.0|\n",
            "|Entire home/apt|17490|    169.14|      1.0|  21000.0|       124.0|\n",
            "|   Private room| 9055|     72.76|      8.0|   9218.0|        45.0|\n",
            "+---------------+-----+----------+---------+---------+------------+\n",
            "\n"
          ]
        }
      ]
    },
    {
      "cell_type": "code",
      "source": [
        "# 11. Demanda según Tipo de Habitación\n",
        "\n",
        "price_distribution_polars = (\n",
        "    airbnb_polars.group_by(\"room_type\")\n",
        "    .agg(\n",
        "        pl.col(\"price\").count().alias(\"count\"),\n",
        "        pl.col(\"price\").mean().round(2).alias(\"mean_price\"),\n",
        "        pl.col(\"price\").min().alias(\"min_price\"),\n",
        "        pl.col(\"price\").max().alias(\"max_price\"),\n",
        "        pl.col(\"price\").median().alias(\"median_price\")\n",
        "    )\n",
        ")\n",
        "\n",
        "\n",
        "price_distribution_polars"
      ],
      "metadata": {
        "id": "lRYHEfFLd5um",
        "colab": {
          "base_uri": "https://localhost:8080/",
          "height": 223
        },
        "outputId": "cb563189-34c9-4d5e-8259-9fe41dd6ce85"
      },
      "execution_count": 46,
      "outputs": [
        {
          "output_type": "execute_result",
          "data": {
            "text/plain": [
              "shape: (4, 6)\n",
              "┌─────────────────┬───────┬────────────┬───────────┬───────────┬──────────────┐\n",
              "│ room_type       ┆ count ┆ mean_price ┆ min_price ┆ max_price ┆ median_price │\n",
              "│ ---             ┆ ---   ┆ ---        ┆ ---       ┆ ---       ┆ ---          │\n",
              "│ str             ┆ u32   ┆ f64        ┆ f64       ┆ f64       ┆ f64          │\n",
              "╞═════════════════╪═══════╪════════════╪═══════════╪═══════════╪══════════════╡\n",
              "│ Shared room     ┆ 283   ┆ 100.05     ┆ 13.0      ┆ 1500.0    ┆ 37.0         │\n",
              "│ Private room    ┆ 6110  ┆ 72.76      ┆ 8.0       ┆ 9218.0    ┆ 45.0         │\n",
              "│ Hotel room      ┆ 53    ┆ 303.66     ┆ 31.0      ┆ 1029.0    ┆ 161.0        │\n",
              "│ Entire home/apt ┆ 14622 ┆ 169.14     ┆ 1.0       ┆ 21000.0   ┆ 124.0        │\n",
              "└─────────────────┴───────┴────────────┴───────────┴───────────┴──────────────┘"
            ],
            "text/html": [
              "<div><style>\n",
              ".dataframe > thead > tr,\n",
              ".dataframe > tbody > tr {\n",
              "  text-align: right;\n",
              "  white-space: pre-wrap;\n",
              "}\n",
              "</style>\n",
              "<small>shape: (4, 6)</small><table border=\"1\" class=\"dataframe\"><thead><tr><th>room_type</th><th>count</th><th>mean_price</th><th>min_price</th><th>max_price</th><th>median_price</th></tr><tr><td>str</td><td>u32</td><td>f64</td><td>f64</td><td>f64</td><td>f64</td></tr></thead><tbody><tr><td>&quot;Shared room&quot;</td><td>283</td><td>100.05</td><td>13.0</td><td>1500.0</td><td>37.0</td></tr><tr><td>&quot;Private room&quot;</td><td>6110</td><td>72.76</td><td>8.0</td><td>9218.0</td><td>45.0</td></tr><tr><td>&quot;Hotel room&quot;</td><td>53</td><td>303.66</td><td>31.0</td><td>1029.0</td><td>161.0</td></tr><tr><td>&quot;Entire home/apt&quot;</td><td>14622</td><td>169.14</td><td>1.0</td><td>21000.0</td><td>124.0</td></tr></tbody></table></div>"
            ]
          },
          "metadata": {},
          "execution_count": 46
        }
      ]
    },
    {
      "cell_type": "markdown",
      "source": [
        "# Datos precio alquiler metro cuadrado (polars solo)"
      ],
      "metadata": {
        "id": "6M4vjGbb32_7"
      }
    },
    {
      "cell_type": "code",
      "source": [
        "madrid_df = pl.read_csv(DATA_DIR + \"/0504030000213.csv\", skip_rows= 4, null_values= \"..\")\n",
        "madrid_df = madrid_df.rename({\"\":\"year\", \"_duplicated_0\":\"neighbourhood\"})\n",
        "madrid_df = (\n",
        "    madrid_df\n",
        "    .with_columns(\n",
        "        pl.col(\"neighbourhood\").str.replace(\"\\d+\\.\", \"\").str.strip_chars(),\n",
        "        *[pl.col(col).str.replace(\",\", \".\").cast(pl.Float64) for col in madrid_df.columns[2:]]\n",
        "\n",
        "    )\n",
        ")\n",
        "\n",
        "madrid_df.head()"
      ],
      "metadata": {
        "id": "ZbQ91PJM28f2",
        "colab": {
          "base_uri": "https://localhost:8080/",
          "height": 255
        },
        "outputId": "e799cb18-68c2-405d-cd8f-cda57eebcd60"
      },
      "execution_count": 47,
      "outputs": [
        {
          "output_type": "execute_result",
          "data": {
            "text/plain": [
              "shape: (5, 14)\n",
              "┌──────┬──────────────────┬───────┬─────────┬───┬────────────┬─────────┬───────────┬───────────┐\n",
              "│ year ┆ neighbourhood    ┆ Enero ┆ Febrero ┆ … ┆ Septiembre ┆ Octubre ┆ Noviembre ┆ Diciembre │\n",
              "│ ---  ┆ ---              ┆ ---   ┆ ---     ┆   ┆ ---        ┆ ---     ┆ ---       ┆ ---       │\n",
              "│ i64  ┆ str              ┆ f64   ┆ f64     ┆   ┆ f64        ┆ f64     ┆ f64       ┆ f64       │\n",
              "╞══════╪══════════════════╪═══════╪═════════╪═══╪════════════╪═════════╪═══════════╪═══════════╡\n",
              "│ 2006 ┆ Ciudad de Madrid ┆ null  ┆ null    ┆ … ┆ null       ┆ null    ┆ null      ┆ null      │\n",
              "│ 2006 ┆ Centro           ┆ null  ┆ null    ┆ … ┆ null       ┆ null    ┆ null      ┆ null      │\n",
              "│ 2006 ┆ Arganzuela       ┆ null  ┆ null    ┆ … ┆ null       ┆ null    ┆ null      ┆ null      │\n",
              "│ 2006 ┆ Retiro           ┆ null  ┆ null    ┆ … ┆ null       ┆ null    ┆ null      ┆ null      │\n",
              "│ 2006 ┆ Salamanca        ┆ null  ┆ null    ┆ … ┆ null       ┆ null    ┆ null      ┆ null      │\n",
              "└──────┴──────────────────┴───────┴─────────┴───┴────────────┴─────────┴───────────┴───────────┘"
            ],
            "text/html": [
              "<div><style>\n",
              ".dataframe > thead > tr,\n",
              ".dataframe > tbody > tr {\n",
              "  text-align: right;\n",
              "  white-space: pre-wrap;\n",
              "}\n",
              "</style>\n",
              "<small>shape: (5, 14)</small><table border=\"1\" class=\"dataframe\"><thead><tr><th>year</th><th>neighbourhood</th><th>Enero</th><th>Febrero</th><th>Marzo</th><th>Abril</th><th>Mayo</th><th>Junio</th><th>Julio</th><th>Agosto</th><th>Septiembre</th><th>Octubre</th><th>Noviembre</th><th>Diciembre</th></tr><tr><td>i64</td><td>str</td><td>f64</td><td>f64</td><td>f64</td><td>f64</td><td>f64</td><td>f64</td><td>f64</td><td>f64</td><td>f64</td><td>f64</td><td>f64</td><td>f64</td></tr></thead><tbody><tr><td>2006</td><td>&quot;Ciudad de Madrid&quot;</td><td>null</td><td>null</td><td>null</td><td>null</td><td>null</td><td>null</td><td>null</td><td>null</td><td>null</td><td>null</td><td>null</td><td>null</td></tr><tr><td>2006</td><td>&quot;Centro&quot;</td><td>null</td><td>null</td><td>null</td><td>null</td><td>null</td><td>null</td><td>null</td><td>null</td><td>null</td><td>null</td><td>null</td><td>null</td></tr><tr><td>2006</td><td>&quot;Arganzuela&quot;</td><td>null</td><td>null</td><td>null</td><td>null</td><td>null</td><td>null</td><td>null</td><td>null</td><td>null</td><td>null</td><td>null</td><td>null</td></tr><tr><td>2006</td><td>&quot;Retiro&quot;</td><td>null</td><td>null</td><td>null</td><td>null</td><td>null</td><td>null</td><td>null</td><td>null</td><td>null</td><td>null</td><td>null</td><td>null</td></tr><tr><td>2006</td><td>&quot;Salamanca&quot;</td><td>null</td><td>null</td><td>null</td><td>null</td><td>null</td><td>null</td><td>null</td><td>null</td><td>null</td><td>null</td><td>null</td><td>null</td></tr></tbody></table></div>"
            ]
          },
          "metadata": {},
          "execution_count": 47
        }
      ]
    },
    {
      "cell_type": "code",
      "source": [
        "madrid_df.tail()"
      ],
      "metadata": {
        "id": "69XFKVnbLMHR",
        "colab": {
          "base_uri": "https://localhost:8080/",
          "height": 255
        },
        "outputId": "4cf36b64-1049-4b2b-ed0a-8afa4ddaf759"
      },
      "execution_count": 48,
      "outputs": [
        {
          "output_type": "execute_result",
          "data": {
            "text/plain": [
              "shape: (5, 14)\n",
              "┌──────┬─────────────────────┬───────┬─────────┬───┬────────────┬─────────┬───────────┬───────────┐\n",
              "│ year ┆ neighbourhood       ┆ Enero ┆ Febrero ┆ … ┆ Septiembre ┆ Octubre ┆ Noviembre ┆ Diciembre │\n",
              "│ ---  ┆ ---                 ┆ ---   ┆ ---     ┆   ┆ ---        ┆ ---     ┆ ---       ┆ ---       │\n",
              "│ i64  ┆ str                 ┆ f64   ┆ f64     ┆   ┆ f64        ┆ f64     ┆ f64       ┆ f64       │\n",
              "╞══════╪═════════════════════╪═══════╪═════════╪═══╪════════════╪═════════╪═══════════╪═══════════╡\n",
              "│ 2024 ┆ Villaverde          ┆ 13.16 ┆ 13.7    ┆ … ┆ 15.83      ┆ 15.79   ┆ null      ┆ null      │\n",
              "│ 2024 ┆ Villa de Vallecas   ┆ 13.25 ┆ 13.57   ┆ … ┆ 14.68      ┆ 14.98   ┆ null      ┆ null      │\n",
              "│ 2024 ┆ Vicálvaro           ┆ 12.8  ┆ 12.86   ┆ … ┆ 13.81      ┆ 13.9    ┆ null      ┆ null      │\n",
              "│ 2024 ┆ San Blas-Canillejas ┆ 13.92 ┆ 13.99   ┆ … ┆ 14.79      ┆ 15.18   ┆ null      ┆ null      │\n",
              "│ 2024 ┆ Barajas             ┆ 14.11 ┆ 13.95   ┆ … ┆ 14.6       ┆ 14.78   ┆ null      ┆ null      │\n",
              "└──────┴─────────────────────┴───────┴─────────┴───┴────────────┴─────────┴───────────┴───────────┘"
            ],
            "text/html": [
              "<div><style>\n",
              ".dataframe > thead > tr,\n",
              ".dataframe > tbody > tr {\n",
              "  text-align: right;\n",
              "  white-space: pre-wrap;\n",
              "}\n",
              "</style>\n",
              "<small>shape: (5, 14)</small><table border=\"1\" class=\"dataframe\"><thead><tr><th>year</th><th>neighbourhood</th><th>Enero</th><th>Febrero</th><th>Marzo</th><th>Abril</th><th>Mayo</th><th>Junio</th><th>Julio</th><th>Agosto</th><th>Septiembre</th><th>Octubre</th><th>Noviembre</th><th>Diciembre</th></tr><tr><td>i64</td><td>str</td><td>f64</td><td>f64</td><td>f64</td><td>f64</td><td>f64</td><td>f64</td><td>f64</td><td>f64</td><td>f64</td><td>f64</td><td>f64</td><td>f64</td></tr></thead><tbody><tr><td>2024</td><td>&quot;Villaverde&quot;</td><td>13.16</td><td>13.7</td><td>14.08</td><td>13.93</td><td>14.12</td><td>14.38</td><td>15.0</td><td>15.25</td><td>15.83</td><td>15.79</td><td>null</td><td>null</td></tr><tr><td>2024</td><td>&quot;Villa de Vallecas&quot;</td><td>13.25</td><td>13.57</td><td>14.01</td><td>14.3</td><td>14.55</td><td>14.27</td><td>14.25</td><td>14.35</td><td>14.68</td><td>14.98</td><td>null</td><td>null</td></tr><tr><td>2024</td><td>&quot;Vicálvaro&quot;</td><td>12.8</td><td>12.86</td><td>13.22</td><td>13.08</td><td>12.96</td><td>12.95</td><td>13.5</td><td>13.82</td><td>13.81</td><td>13.9</td><td>null</td><td>null</td></tr><tr><td>2024</td><td>&quot;San Blas-Canillejas&quot;</td><td>13.92</td><td>13.99</td><td>14.12</td><td>14.54</td><td>14.6</td><td>14.97</td><td>14.94</td><td>14.77</td><td>14.79</td><td>15.18</td><td>null</td><td>null</td></tr><tr><td>2024</td><td>&quot;Barajas&quot;</td><td>14.11</td><td>13.95</td><td>13.92</td><td>14.08</td><td>14.5</td><td>14.91</td><td>14.69</td><td>14.6</td><td>14.6</td><td>14.78</td><td>null</td><td>null</td></tr></tbody></table></div>"
            ]
          },
          "metadata": {},
          "execution_count": 48
        }
      ]
    },
    {
      "cell_type": "code",
      "source": [
        "# Melt the DataFrame\n",
        "melted_df = madrid_df.unpivot(\n",
        "    index=[\"year\", \"neighbourhood\"],  # Columns to keep as is\n",
        "    on=[\n",
        "        \"Enero\", \"Febrero\", \"Marzo\", \"Abril\", \"Mayo\", \"Junio\",\n",
        "        \"Julio\", \"Agosto\", \"Septiembre\", \"Octubre\", \"Noviembre\", \"Diciembre\"\n",
        "    ],  # Columns to melt\n",
        "    variable_name=\"month\",  # New column name for month\n",
        "    value_name=\"price\"  # New column name for prices\n",
        ")"
      ],
      "metadata": {
        "id": "G6xy4jzJOAXG"
      },
      "execution_count": 49,
      "outputs": []
    },
    {
      "cell_type": "code",
      "source": [
        "melted_df.sample(10)"
      ],
      "metadata": {
        "id": "ZMTxNLRPPUuR",
        "colab": {
          "base_uri": "https://localhost:8080/",
          "height": 411
        },
        "outputId": "957d2df1-2ae2-4d92-f9a7-5f86550883d7"
      },
      "execution_count": 50,
      "outputs": [
        {
          "output_type": "execute_result",
          "data": {
            "text/plain": [
              "shape: (10, 4)\n",
              "┌──────┬─────────────────────┬───────────┬───────┐\n",
              "│ year ┆ neighbourhood       ┆ month     ┆ price │\n",
              "│ ---  ┆ ---                 ┆ ---       ┆ ---   │\n",
              "│ i64  ┆ str                 ┆ str       ┆ f64   │\n",
              "╞══════╪═════════════════════╪═══════════╪═══════╡\n",
              "│ 2018 ┆ Puente de Vallecas  ┆ Agosto    ┆ 11.2  │\n",
              "│ 2023 ┆ San Blas-Canillejas ┆ Febrero   ┆ 12.66 │\n",
              "│ 2015 ┆ Carabanchel         ┆ Febrero   ┆ 8.5   │\n",
              "│ 2015 ┆ Usera               ┆ Abril     ┆ 8.5   │\n",
              "│ 2008 ┆ Latina              ┆ Febrero   ┆ null  │\n",
              "│ 2021 ┆ Moratalaz           ┆ Julio     ┆ 11.0  │\n",
              "│ 2020 ┆ San Blas-Canillejas ┆ Julio     ┆ 12.2  │\n",
              "│ 2016 ┆ Centro              ┆ Mayo      ┆ 15.7  │\n",
              "│ 2022 ┆ Hortaleza           ┆ Diciembre ┆ 13.3  │\n",
              "│ 2014 ┆ Vicálvaro           ┆ Junio     ┆ 8.3   │\n",
              "└──────┴─────────────────────┴───────────┴───────┘"
            ],
            "text/html": [
              "<div><style>\n",
              ".dataframe > thead > tr,\n",
              ".dataframe > tbody > tr {\n",
              "  text-align: right;\n",
              "  white-space: pre-wrap;\n",
              "}\n",
              "</style>\n",
              "<small>shape: (10, 4)</small><table border=\"1\" class=\"dataframe\"><thead><tr><th>year</th><th>neighbourhood</th><th>month</th><th>price</th></tr><tr><td>i64</td><td>str</td><td>str</td><td>f64</td></tr></thead><tbody><tr><td>2018</td><td>&quot;Puente de Vallecas&quot;</td><td>&quot;Agosto&quot;</td><td>11.2</td></tr><tr><td>2023</td><td>&quot;San Blas-Canillejas&quot;</td><td>&quot;Febrero&quot;</td><td>12.66</td></tr><tr><td>2015</td><td>&quot;Carabanchel&quot;</td><td>&quot;Febrero&quot;</td><td>8.5</td></tr><tr><td>2015</td><td>&quot;Usera&quot;</td><td>&quot;Abril&quot;</td><td>8.5</td></tr><tr><td>2008</td><td>&quot;Latina&quot;</td><td>&quot;Febrero&quot;</td><td>null</td></tr><tr><td>2021</td><td>&quot;Moratalaz&quot;</td><td>&quot;Julio&quot;</td><td>11.0</td></tr><tr><td>2020</td><td>&quot;San Blas-Canillejas&quot;</td><td>&quot;Julio&quot;</td><td>12.2</td></tr><tr><td>2016</td><td>&quot;Centro&quot;</td><td>&quot;Mayo&quot;</td><td>15.7</td></tr><tr><td>2022</td><td>&quot;Hortaleza&quot;</td><td>&quot;Diciembre&quot;</td><td>13.3</td></tr><tr><td>2014</td><td>&quot;Vicálvaro&quot;</td><td>&quot;Junio&quot;</td><td>8.3</td></tr></tbody></table></div>"
            ]
          },
          "metadata": {},
          "execution_count": 50
        }
      ]
    },
    {
      "cell_type": "code",
      "source": [
        "# Month-to-integer mapping\n",
        "month_to_int = {\n",
        "    \"Enero\": 1,\n",
        "    \"Febrero\": 2,\n",
        "    \"Marzo\": 3,\n",
        "    \"Abril\": 4,\n",
        "    \"Mayo\": 5,\n",
        "    \"Junio\": 6,\n",
        "    \"Julio\": 7,\n",
        "    \"Agosto\": 8,\n",
        "    \"Septiembre\": 9,\n",
        "    \"Octubre\": 10,\n",
        "    \"Noviembre\": 11,\n",
        "    \"Diciembre\": 12,\n",
        "}\n",
        "\n",
        "# Map months to integers and create the year_month column\n",
        "processed_df = melted_df.with_columns(\n",
        "    pl.col(\"month\").replace(month_to_int).alias(\"month_int\")\n",
        ").with_columns(\n",
        "    (pl.col(\"year\").cast(str) + \"-\" + pl.col(\"month_int\").cast(str).str.zfill(2)).alias(\"year_month\")\n",
        ").drop_nulls()\n",
        "\n",
        "processed_df.sample(10)"
      ],
      "metadata": {
        "id": "uvR4iC5dPZje",
        "colab": {
          "base_uri": "https://localhost:8080/",
          "height": 411
        },
        "outputId": "8c0d0cb4-ac1a-46b0-eda2-542db6d7c22f"
      },
      "execution_count": 51,
      "outputs": [
        {
          "output_type": "execute_result",
          "data": {
            "text/plain": [
              "shape: (10, 6)\n",
              "┌──────┬─────────────────────┬────────────┬───────┬───────────┬────────────┐\n",
              "│ year ┆ neighbourhood       ┆ month      ┆ price ┆ month_int ┆ year_month │\n",
              "│ ---  ┆ ---                 ┆ ---        ┆ ---   ┆ ---       ┆ ---        │\n",
              "│ i64  ┆ str                 ┆ str        ┆ f64   ┆ str       ┆ str        │\n",
              "╞══════╪═════════════════════╪════════════╪═══════╪═══════════╪════════════╡\n",
              "│ 2016 ┆ Chamberí            ┆ Mayo       ┆ 15.0  ┆ 5         ┆ 2016-05    │\n",
              "│ 2018 ┆ Retiro              ┆ Marzo      ┆ 15.4  ┆ 3         ┆ 2018-03    │\n",
              "│ 2009 ┆ Salamanca           ┆ Junio      ┆ 16.0  ┆ 6         ┆ 2009-06    │\n",
              "│ 2013 ┆ Salamanca           ┆ Mayo       ┆ 13.6  ┆ 5         ┆ 2013-05    │\n",
              "│ 2021 ┆ Villaverde          ┆ Diciembre  ┆ 10.9  ┆ 12        ┆ 2021-12    │\n",
              "│ 2016 ┆ Latina              ┆ Noviembre  ┆ 9.3   ┆ 11        ┆ 2016-11    │\n",
              "│ 2022 ┆ San Blas-Canillejas ┆ Septiembre ┆ 12.3  ┆ 9         ┆ 2022-09    │\n",
              "│ 2016 ┆ Fuencarral-El Pardo ┆ Enero      ┆ 10.3  ┆ 1         ┆ 2016-01    │\n",
              "│ 2011 ┆ Moncloa-Aravaca     ┆ Julio      ┆ 12.3  ┆ 7         ┆ 2011-07    │\n",
              "│ 2011 ┆ Hortaleza           ┆ Agosto     ┆ 11.6  ┆ 8         ┆ 2011-08    │\n",
              "└──────┴─────────────────────┴────────────┴───────┴───────────┴────────────┘"
            ],
            "text/html": [
              "<div><style>\n",
              ".dataframe > thead > tr,\n",
              ".dataframe > tbody > tr {\n",
              "  text-align: right;\n",
              "  white-space: pre-wrap;\n",
              "}\n",
              "</style>\n",
              "<small>shape: (10, 6)</small><table border=\"1\" class=\"dataframe\"><thead><tr><th>year</th><th>neighbourhood</th><th>month</th><th>price</th><th>month_int</th><th>year_month</th></tr><tr><td>i64</td><td>str</td><td>str</td><td>f64</td><td>str</td><td>str</td></tr></thead><tbody><tr><td>2016</td><td>&quot;Chamberí&quot;</td><td>&quot;Mayo&quot;</td><td>15.0</td><td>&quot;5&quot;</td><td>&quot;2016-05&quot;</td></tr><tr><td>2018</td><td>&quot;Retiro&quot;</td><td>&quot;Marzo&quot;</td><td>15.4</td><td>&quot;3&quot;</td><td>&quot;2018-03&quot;</td></tr><tr><td>2009</td><td>&quot;Salamanca&quot;</td><td>&quot;Junio&quot;</td><td>16.0</td><td>&quot;6&quot;</td><td>&quot;2009-06&quot;</td></tr><tr><td>2013</td><td>&quot;Salamanca&quot;</td><td>&quot;Mayo&quot;</td><td>13.6</td><td>&quot;5&quot;</td><td>&quot;2013-05&quot;</td></tr><tr><td>2021</td><td>&quot;Villaverde&quot;</td><td>&quot;Diciembre&quot;</td><td>10.9</td><td>&quot;12&quot;</td><td>&quot;2021-12&quot;</td></tr><tr><td>2016</td><td>&quot;Latina&quot;</td><td>&quot;Noviembre&quot;</td><td>9.3</td><td>&quot;11&quot;</td><td>&quot;2016-11&quot;</td></tr><tr><td>2022</td><td>&quot;San Blas-Canillejas&quot;</td><td>&quot;Septiembre&quot;</td><td>12.3</td><td>&quot;9&quot;</td><td>&quot;2022-09&quot;</td></tr><tr><td>2016</td><td>&quot;Fuencarral-El Pardo&quot;</td><td>&quot;Enero&quot;</td><td>10.3</td><td>&quot;1&quot;</td><td>&quot;2016-01&quot;</td></tr><tr><td>2011</td><td>&quot;Moncloa-Aravaca&quot;</td><td>&quot;Julio&quot;</td><td>12.3</td><td>&quot;7&quot;</td><td>&quot;2011-07&quot;</td></tr><tr><td>2011</td><td>&quot;Hortaleza&quot;</td><td>&quot;Agosto&quot;</td><td>11.6</td><td>&quot;8&quot;</td><td>&quot;2011-08&quot;</td></tr></tbody></table></div>"
            ]
          },
          "metadata": {},
          "execution_count": 51
        }
      ]
    },
    {
      "cell_type": "code",
      "source": [
        "# Pivot the table to create a column for each barrio\n",
        "rent_price_df = processed_df.pivot(\n",
        "    values=\"price\",  # Values to pivot\n",
        "    index=\"year_month\",  # Rows are unique combinations of year and month\n",
        "    on=\"neighbourhood\",  # Columns are unique barrios\n",
        "    aggregate_function=None  # No aggregation needed since data is already unique\n",
        ").sort('year_month')\n",
        "\n",
        "rent_price_df.sample(10)"
      ],
      "metadata": {
        "id": "hHRbnc8dQVuj",
        "colab": {
          "base_uri": "https://localhost:8080/",
          "height": 429
        },
        "outputId": "1b0df89f-5e9b-405d-eb01-32d3b117d858"
      },
      "execution_count": 52,
      "outputs": [
        {
          "output_type": "execute_result",
          "data": {
            "text/plain": [
              "shape: (10, 23)\n",
              "┌────────────┬────────────┬────────┬────────────┬───┬─────────┬───────────┬────────────┬───────────┐\n",
              "│ year_month ┆ Ciudad de  ┆ Centro ┆ Arganzuela ┆ … ┆ Barajas ┆ Moratalaz ┆ Villaverde ┆ Vicálvaro │\n",
              "│ ---        ┆ Madrid     ┆ ---    ┆ ---        ┆   ┆ ---     ┆ ---       ┆ ---        ┆ ---       │\n",
              "│ str        ┆ ---        ┆ f64    ┆ f64        ┆   ┆ f64     ┆ f64       ┆ f64        ┆ f64       │\n",
              "│            ┆ f64        ┆        ┆            ┆   ┆         ┆           ┆            ┆           │\n",
              "╞════════════╪════════════╪════════╪════════════╪═══╪═════════╪═══════════╪════════════╪═══════════╡\n",
              "│ 2020-05    ┆ 16.8       ┆ 16.8   ┆ 16.4       ┆ … ┆ 11.5    ┆ 12.0      ┆ 11.6       ┆ 11.1      │\n",
              "│ 2011-10    ┆ 12.4       ┆ 14.9   ┆ 11.9       ┆ … ┆ 10.8    ┆ 9.2       ┆ 8.6        ┆ 9.0       │\n",
              "│ 2010-01    ┆ 12.8       ┆ 16.3   ┆ 12.5       ┆ … ┆ null    ┆ null      ┆ null       ┆ null      │\n",
              "│ 2009-03    ┆ 13.0       ┆ 17.5   ┆ null       ┆ … ┆ null    ┆ null      ┆ null       ┆ null      │\n",
              "│ 2020-11    ┆ 15.4       ┆ 17.1   ┆ 14.8       ┆ … ┆ 11.4    ┆ 11.2      ┆ 10.8       ┆ 10.2      │\n",
              "│ 2012-06    ┆ 11.9       ┆ 14.2   ┆ 11.7       ┆ … ┆ 10.3    ┆ 9.0       ┆ 8.5        ┆ 8.5       │\n",
              "│ 2021-06    ┆ 14.5       ┆ 16.2   ┆ 14.2       ┆ … ┆ 11.4    ┆ 11.1      ┆ 10.4       ┆ 10.2      │\n",
              "│ 2012-09    ┆ 11.9       ┆ 14.0   ┆ 11.5       ┆ … ┆ 10.3    ┆ 8.7       ┆ 8.5        ┆ 8.4       │\n",
              "│ 2024-08    ┆ 19.92      ┆ 23.61  ┆ 19.88      ┆ … ┆ 14.6    ┆ 14.49     ┆ 15.25      ┆ 13.82     │\n",
              "│ 2013-02    ┆ 11.4       ┆ 13.6   ┆ 11.4       ┆ … ┆ 10.0    ┆ 8.6       ┆ 8.1        ┆ 8.4       │\n",
              "└────────────┴────────────┴────────┴────────────┴───┴─────────┴───────────┴────────────┴───────────┘"
            ],
            "text/html": [
              "<div><style>\n",
              ".dataframe > thead > tr,\n",
              ".dataframe > tbody > tr {\n",
              "  text-align: right;\n",
              "  white-space: pre-wrap;\n",
              "}\n",
              "</style>\n",
              "<small>shape: (10, 23)</small><table border=\"1\" class=\"dataframe\"><thead><tr><th>year_month</th><th>Ciudad de Madrid</th><th>Centro</th><th>Arganzuela</th><th>Salamanca</th><th>Chamartín</th><th>Tetuán</th><th>Chamberí</th><th>Fuencarral-El Pardo</th><th>Moncloa-Aravaca</th><th>Carabanchel</th><th>Ciudad Lineal</th><th>Hortaleza</th><th>San Blas-Canillejas</th><th>Retiro</th><th>Latina</th><th>Usera</th><th>Puente de Vallecas</th><th>Villa de Vallecas</th><th>Barajas</th><th>Moratalaz</th><th>Villaverde</th><th>Vicálvaro</th></tr><tr><td>str</td><td>f64</td><td>f64</td><td>f64</td><td>f64</td><td>f64</td><td>f64</td><td>f64</td><td>f64</td><td>f64</td><td>f64</td><td>f64</td><td>f64</td><td>f64</td><td>f64</td><td>f64</td><td>f64</td><td>f64</td><td>f64</td><td>f64</td><td>f64</td><td>f64</td><td>f64</td></tr></thead><tbody><tr><td>&quot;2020-05&quot;</td><td>16.8</td><td>16.8</td><td>16.4</td><td>19.3</td><td>16.6</td><td>16.4</td><td>18.5</td><td>12.9</td><td>15.0</td><td>12.6</td><td>14.0</td><td>13.0</td><td>12.1</td><td>16.8</td><td>13.0</td><td>12.5</td><td>12.6</td><td>11.3</td><td>11.5</td><td>12.0</td><td>11.6</td><td>11.1</td></tr><tr><td>&quot;2011-10&quot;</td><td>12.4</td><td>14.9</td><td>11.9</td><td>14.6</td><td>13.3</td><td>12.5</td><td>14.3</td><td>10.8</td><td>12.3</td><td>9.7</td><td>11.1</td><td>11.5</td><td>10.4</td><td>12.6</td><td>9.5</td><td>9.3</td><td>9.9</td><td>10.0</td><td>10.8</td><td>9.2</td><td>8.6</td><td>9.0</td></tr><tr><td>&quot;2010-01&quot;</td><td>12.8</td><td>16.3</td><td>12.5</td><td>15.2</td><td>14.3</td><td>13.8</td><td>14.6</td><td>9.9</td><td>13.3</td><td>10.1</td><td>11.3</td><td>10.9</td><td>11.8</td><td>null</td><td>null</td><td>null</td><td>null</td><td>null</td><td>null</td><td>null</td><td>null</td><td>null</td></tr><tr><td>&quot;2009-03&quot;</td><td>13.0</td><td>17.5</td><td>null</td><td>null</td><td>null</td><td>null</td><td>null</td><td>null</td><td>null</td><td>null</td><td>null</td><td>null</td><td>null</td><td>null</td><td>null</td><td>null</td><td>null</td><td>null</td><td>null</td><td>null</td><td>null</td><td>null</td></tr><tr><td>&quot;2020-11&quot;</td><td>15.4</td><td>17.1</td><td>14.8</td><td>17.3</td><td>15.8</td><td>15.0</td><td>16.8</td><td>12.5</td><td>14.8</td><td>11.7</td><td>13.2</td><td>12.3</td><td>11.9</td><td>15.3</td><td>12.2</td><td>11.5</td><td>12.3</td><td>11.5</td><td>11.4</td><td>11.2</td><td>10.8</td><td>10.2</td></tr><tr><td>&quot;2012-06&quot;</td><td>11.9</td><td>14.2</td><td>11.7</td><td>14.0</td><td>12.9</td><td>12.3</td><td>14.1</td><td>10.3</td><td>11.6</td><td>9.6</td><td>10.9</td><td>11.0</td><td>10.2</td><td>12.5</td><td>9.2</td><td>9.0</td><td>9.6</td><td>9.0</td><td>10.3</td><td>9.0</td><td>8.5</td><td>8.5</td></tr><tr><td>&quot;2021-06&quot;</td><td>14.5</td><td>16.2</td><td>14.2</td><td>16.7</td><td>15.0</td><td>14.3</td><td>16.3</td><td>12.1</td><td>14.3</td><td>11.4</td><td>12.7</td><td>12.6</td><td>11.4</td><td>14.8</td><td>11.5</td><td>10.9</td><td>11.6</td><td>11.1</td><td>11.4</td><td>11.1</td><td>10.4</td><td>10.2</td></tr><tr><td>&quot;2012-09&quot;</td><td>11.9</td><td>14.0</td><td>11.5</td><td>14.1</td><td>12.5</td><td>12.0</td><td>13.9</td><td>10.3</td><td>11.5</td><td>9.2</td><td>10.7</td><td>10.7</td><td>9.9</td><td>12.2</td><td>9.3</td><td>8.6</td><td>9.3</td><td>9.2</td><td>10.3</td><td>8.7</td><td>8.5</td><td>8.4</td></tr><tr><td>&quot;2024-08&quot;</td><td>19.92</td><td>23.61</td><td>19.88</td><td>24.45</td><td>20.44</td><td>20.0</td><td>23.03</td><td>16.1</td><td>19.43</td><td>15.82</td><td>17.0</td><td>15.79</td><td>14.77</td><td>21.04</td><td>16.29</td><td>16.55</td><td>16.16</td><td>14.35</td><td>14.6</td><td>14.49</td><td>15.25</td><td>13.82</td></tr><tr><td>&quot;2013-02&quot;</td><td>11.4</td><td>13.6</td><td>11.4</td><td>13.9</td><td>12.5</td><td>11.7</td><td>13.6</td><td>10.1</td><td>11.1</td><td>9.1</td><td>10.3</td><td>10.6</td><td>9.5</td><td>11.8</td><td>8.8</td><td>8.7</td><td>9.0</td><td>9.0</td><td>10.0</td><td>8.6</td><td>8.1</td><td>8.4</td></tr></tbody></table></div>"
            ]
          },
          "metadata": {},
          "execution_count": 52
        }
      ]
    },
    {
      "cell_type": "code",
      "source": [
        "oct2024_dicc = rent_price_df.filter(\n",
        "    pl.col(\"year_month\") == \"2024-10\"\n",
        ").to_dicts()[0]\n",
        "\n",
        "oct2011_dicc = rent_price_df.filter(\n",
        "    pl.col(\"year_month\") == \"2011-10\"\n",
        ").to_dicts()[0]\n"
      ],
      "metadata": {
        "id": "NH_D9U-DQyRb"
      },
      "execution_count": 53,
      "outputs": []
    },
    {
      "cell_type": "code",
      "source": [
        "oct2024_dicc, oct2011_dicc\n"
      ],
      "metadata": {
        "id": "9E1F1-7hSumC",
        "colab": {
          "base_uri": "https://localhost:8080/"
        },
        "outputId": "358670bd-4078-4b76-cb5b-26dc3a2e2b71"
      },
      "execution_count": 54,
      "outputs": [
        {
          "output_type": "execute_result",
          "data": {
            "text/plain": [
              "({'year_month': '2024-10',\n",
              "  'Ciudad de Madrid': 20.61,\n",
              "  'Centro': 24.44,\n",
              "  'Arganzuela': 20.45,\n",
              "  'Salamanca': 24.99,\n",
              "  'Chamartín': 20.88,\n",
              "  'Tetuán': 20.42,\n",
              "  'Chamberí': 24.14,\n",
              "  'Fuencarral-El Pardo': 16.09,\n",
              "  'Moncloa-Aravaca': 19.79,\n",
              "  'Carabanchel': 16.11,\n",
              "  'Ciudad Lineal': 17.22,\n",
              "  'Hortaleza': 16.18,\n",
              "  'San Blas-Canillejas': 15.18,\n",
              "  'Retiro': 21.45,\n",
              "  'Latina': 17.04,\n",
              "  'Usera': 17.11,\n",
              "  'Puente de Vallecas': 16.25,\n",
              "  'Villa de Vallecas': 14.98,\n",
              "  'Barajas': 14.78,\n",
              "  'Moratalaz': 14.67,\n",
              "  'Villaverde': 15.79,\n",
              "  'Vicálvaro': 13.9},\n",
              " {'year_month': '2011-10',\n",
              "  'Ciudad de Madrid': 12.4,\n",
              "  'Centro': 14.9,\n",
              "  'Arganzuela': 11.9,\n",
              "  'Salamanca': 14.6,\n",
              "  'Chamartín': 13.3,\n",
              "  'Tetuán': 12.5,\n",
              "  'Chamberí': 14.3,\n",
              "  'Fuencarral-El Pardo': 10.8,\n",
              "  'Moncloa-Aravaca': 12.3,\n",
              "  'Carabanchel': 9.7,\n",
              "  'Ciudad Lineal': 11.1,\n",
              "  'Hortaleza': 11.5,\n",
              "  'San Blas-Canillejas': 10.4,\n",
              "  'Retiro': 12.6,\n",
              "  'Latina': 9.5,\n",
              "  'Usera': 9.3,\n",
              "  'Puente de Vallecas': 9.9,\n",
              "  'Villa de Vallecas': 10.0,\n",
              "  'Barajas': 10.8,\n",
              "  'Moratalaz': 9.2,\n",
              "  'Villaverde': 8.6,\n",
              "  'Vicálvaro': 9.0})"
            ]
          },
          "metadata": {},
          "execution_count": 54
        }
      ]
    },
    {
      "cell_type": "code",
      "source": [
        "for key in oct2024_dicc:\n",
        "  if key != \"year_month\":\n",
        "    quotient = round(oct2024_dicc[key]/oct2011_dicc[key], 2)\n",
        "    print(key, quotient)\n"
      ],
      "metadata": {
        "id": "Ff0uZqxeTjma",
        "colab": {
          "base_uri": "https://localhost:8080/"
        },
        "outputId": "e8d7ab52-806c-4f6b-e0b3-72a9ca6cc16b"
      },
      "execution_count": 55,
      "outputs": [
        {
          "output_type": "stream",
          "name": "stdout",
          "text": [
            "Ciudad de Madrid 1.66\n",
            "Centro 1.64\n",
            "Arganzuela 1.72\n",
            "Salamanca 1.71\n",
            "Chamartín 1.57\n",
            "Tetuán 1.63\n",
            "Chamberí 1.69\n",
            "Fuencarral-El Pardo 1.49\n",
            "Moncloa-Aravaca 1.61\n",
            "Carabanchel 1.66\n",
            "Ciudad Lineal 1.55\n",
            "Hortaleza 1.41\n",
            "San Blas-Canillejas 1.46\n",
            "Retiro 1.7\n",
            "Latina 1.79\n",
            "Usera 1.84\n",
            "Puente de Vallecas 1.64\n",
            "Villa de Vallecas 1.5\n",
            "Barajas 1.37\n",
            "Moratalaz 1.59\n",
            "Villaverde 1.84\n",
            "Vicálvaro 1.54\n"
          ]
        }
      ]
    },
    {
      "cell_type": "code",
      "source": [
        "\n",
        "cocientes = [\n",
        "    oct2024_dicc[neighbourhood]/oct2011_dicc[neighbourhood]\n",
        "    for neighbourhood in oct2024_dicc\n",
        "    if neighbourhood != \"year_month\" and oct2011_dicc[neighbourhood] != 0\n",
        "]\n",
        "\n",
        "media_subida = round(pl.Series(cocientes).mean(), 2)\n",
        "mediana_subida = round(pl.Series(cocientes).median(), 2)\n",
        "\n",
        "print(f\"Media de subida: {media_subida}\")\n",
        "print(f\"Mediana de subida: {mediana_subida}\")"
      ],
      "metadata": {
        "id": "UhpPy9hc_-X0",
        "colab": {
          "base_uri": "https://localhost:8080/"
        },
        "outputId": "d0d6a616-d1a0-41a8-a6e1-2dea08a33807"
      },
      "execution_count": 56,
      "outputs": [
        {
          "output_type": "stream",
          "name": "stdout",
          "text": [
            "Media de subida: 1.62\n",
            "Mediana de subida: 1.64\n"
          ]
        }
      ]
    },
    {
      "cell_type": "code",
      "source": [
        "ine_df = pl.read_csv(DATA_DIR + \"/10882.csv\", separator=\";\", encoding=\"ISO-8859-1\")\n",
        "\n",
        "ine_df = ine_df.with_columns(\n",
        "    pl.col(\"Total\")\n",
        "        .str.replace(r\"\\.\", \"\", literal=False)\n",
        "        .str.replace(\",\", \".\")\n",
        "        .cast(pl.Float64)\n",
        ")\n",
        "\n",
        "\n",
        "salario_mediano_df = ine_df.filter(pl.col(\"Salario anual\") == \"Salario mediano\")\n",
        "salarios_agrupados = (\n",
        "    salario_mediano_df\n",
        "    .filter(pl.col(\"Periodo\").is_in([2011, 2021]))\n",
        "    .group_by(\"Periodo\")\n",
        "    .agg(pl.col(\"Total\").mean().alias(\"salario_mediano\"))\n",
        "    .sort(\"Periodo\")\n",
        ")\n",
        "print(salarios_agrupados)\n",
        "\n",
        "\n",
        "price_2011 = rent_price_df.filter(pl.col(\"year_month\") == \"2011-10\").select(\"Ciudad de Madrid\").item()\n",
        "price_2021 = rent_price_df.filter(pl.col(\"year_month\") == \"2021-10\").select(\"Ciudad de Madrid\").item()\n",
        "\n",
        "print(f\"Precio €/m² en 2011-10: {price_2011}\")\n",
        "print(f\"Precio €/m² en 2021-10: {price_2021}\")\n",
        "\n",
        "\n",
        "alquiler_anual_2011 = price_2011 * 85 * 12\n",
        "alquiler_anual_2021 = price_2021 * 85 * 12\n",
        "\n",
        "print(f\"Alquiler anual 2011: {alquiler_anual_2011:.2f} €\")\n",
        "print(f\"Alquiler anual 2021: {alquiler_anual_2021:.2f} €\")\n",
        "\n",
        "\n",
        "salarios_dict = {row[\"Periodo\"]: row[\"salario_mediano\"] for row in salarios_agrupados.to_dicts()}\n",
        "\n",
        "porcentaje_2011 = (alquiler_anual_2011 / salarios_dict[2011]) * 100\n",
        "porcentaje_2021 = (alquiler_anual_2021 / salarios_dict[2021]) * 100\n",
        "\n",
        "print(f\"En 2011, el alquiler anual de una vivienda de 85 m² representaba el {porcentaje_2011:.2f}% del salario mediano bruto.\")\n",
        "print(f\"En 2021, el alquiler anual de una vivienda de 85 m² representaba el {porcentaje_2021:.2f}% del salario mediano bruto.\")\n"
      ],
      "metadata": {
        "id": "j4Q46RP9EQBA",
        "colab": {
          "base_uri": "https://localhost:8080/"
        },
        "outputId": "a48eebb3-667b-4d58-e09d-69c39179d675"
      },
      "execution_count": 57,
      "outputs": [
        {
          "output_type": "stream",
          "name": "stdout",
          "text": [
            "shape: (2, 2)\n",
            "┌─────────┬─────────────────┐\n",
            "│ Periodo ┆ salario_mediano │\n",
            "│ ---     ┆ ---             │\n",
            "│ i64     ┆ f64             │\n",
            "╞═════════╪═════════════════╡\n",
            "│ 2011    ┆ 19142.2         │\n",
            "│ 2021    ┆ 21326.545       │\n",
            "└─────────┴─────────────────┘\n",
            "Precio €/m² en 2011-10: 12.4\n",
            "Precio €/m² en 2021-10: 14.8\n",
            "Alquiler anual 2011: 12648.00 €\n",
            "Alquiler anual 2021: 15096.00 €\n",
            "En 2011, el alquiler anual de una vivienda de 85 m² representaba el 66.07% del salario mediano bruto.\n",
            "En 2021, el alquiler anual de una vivienda de 85 m² representaba el 70.79% del salario mediano bruto.\n"
          ]
        }
      ]
    },
    {
      "cell_type": "code",
      "source": [
        "salario_2011 = {\n",
        "    row[\"Sexo/Brecha de género\"]: row[\"Total\"]\n",
        "    for row in salario_mediano_df.filter(pl.col(\"Periodo\") == 2011).to_dicts()\n",
        "}\n",
        "salario_2021 = {\n",
        "    row[\"Sexo/Brecha de género\"]: row[\"Total\"]\n",
        "    for row in salario_mediano_df.filter(pl.col(\"Periodo\") == 2021).to_dicts()\n",
        "}\n"
      ],
      "metadata": {
        "id": "V1T3fgoWHzki"
      },
      "execution_count": 58,
      "outputs": []
    },
    {
      "cell_type": "code",
      "source": [
        "# Calculamos el incremento (cociente) de salarios medianos para cada género\n",
        "for genero in salario_2011.keys():\n",
        "    incremento_salario = ((salario_2021[genero] / salario_2011[genero]) * 100) - 100\n",
        "    print(f\"Para {genero}, el salario mediano ha subido un {incremento_salario:.2f}%\")\n"
      ],
      "metadata": {
        "id": "69Yg8CHfFQ0M",
        "colab": {
          "base_uri": "https://localhost:8080/"
        },
        "outputId": "e52b818b-2fe5-4a99-bb8b-114986d343ec"
      },
      "execution_count": 59,
      "outputs": [
        {
          "output_type": "stream",
          "name": "stdout",
          "text": [
            "Para Mujeres, el salario mediano ha subido un 14.09%\n",
            "Para Hombres, el salario mediano ha subido un 9.32%\n"
          ]
        }
      ]
    },
    {
      "cell_type": "code",
      "source": [
        "# Se genera un DataFrame con el incremento por barrio.\n",
        "rent_increase_data = []\n",
        "for col in rent_price_df.columns:\n",
        "    if col != \"year_month\":\n",
        "\n",
        "        val_2011 = rent_price_df.filter(pl.col(\"year_month\") == \"2011-10\").select(col).item()\n",
        "        val_2024 = rent_price_df.filter(pl.col(\"year_month\") == \"2024-10\").select(col).item()\n",
        "\n",
        "        rent_increase_data.append({\n",
        "            \"neighbourhood\": col.lower(),\n",
        "            \"rent_increase\": round((val_2024 / val_2011), 2)\n",
        "        })\n",
        "\n",
        "rent_increase_df = pl.DataFrame(rent_increase_data)\n",
        "rent_increase_df"
      ],
      "metadata": {
        "id": "aIPTp9aCMV_Y",
        "colab": {
          "base_uri": "https://localhost:8080/",
          "height": 443
        },
        "outputId": "c84792a4-472f-4b46-ef47-27582cb0b662"
      },
      "execution_count": 60,
      "outputs": [
        {
          "output_type": "execute_result",
          "data": {
            "text/plain": [
              "shape: (22, 2)\n",
              "┌───────────────────┬───────────────┐\n",
              "│ neighbourhood     ┆ rent_increase │\n",
              "│ ---               ┆ ---           │\n",
              "│ str               ┆ f64           │\n",
              "╞═══════════════════╪═══════════════╡\n",
              "│ ciudad de madrid  ┆ 1.66          │\n",
              "│ centro            ┆ 1.64          │\n",
              "│ arganzuela        ┆ 1.72          │\n",
              "│ salamanca         ┆ 1.71          │\n",
              "│ chamartín         ┆ 1.57          │\n",
              "│ …                 ┆ …             │\n",
              "│ villa de vallecas ┆ 1.5           │\n",
              "│ barajas           ┆ 1.37          │\n",
              "│ moratalaz         ┆ 1.59          │\n",
              "│ villaverde        ┆ 1.84          │\n",
              "│ vicálvaro         ┆ 1.54          │\n",
              "└───────────────────┴───────────────┘"
            ],
            "text/html": [
              "<div><style>\n",
              ".dataframe > thead > tr,\n",
              ".dataframe > tbody > tr {\n",
              "  text-align: right;\n",
              "  white-space: pre-wrap;\n",
              "}\n",
              "</style>\n",
              "<small>shape: (22, 2)</small><table border=\"1\" class=\"dataframe\"><thead><tr><th>neighbourhood</th><th>rent_increase</th></tr><tr><td>str</td><td>f64</td></tr></thead><tbody><tr><td>&quot;ciudad de madrid&quot;</td><td>1.66</td></tr><tr><td>&quot;centro&quot;</td><td>1.64</td></tr><tr><td>&quot;arganzuela&quot;</td><td>1.72</td></tr><tr><td>&quot;salamanca&quot;</td><td>1.71</td></tr><tr><td>&quot;chamartín&quot;</td><td>1.57</td></tr><tr><td>&hellip;</td><td>&hellip;</td></tr><tr><td>&quot;villa de vallecas&quot;</td><td>1.5</td></tr><tr><td>&quot;barajas&quot;</td><td>1.37</td></tr><tr><td>&quot;moratalaz&quot;</td><td>1.59</td></tr><tr><td>&quot;villaverde&quot;</td><td>1.84</td></tr><tr><td>&quot;vicálvaro&quot;</td><td>1.54</td></tr></tbody></table></div>"
            ]
          },
          "metadata": {},
          "execution_count": 60
        }
      ]
    },
    {
      "cell_type": "code",
      "source": [
        "# Normalizar la columna \"neighbourhood\" en airbnb_df\n",
        "airbnb_polars_new = airbnb_polars.with_columns(\n",
        "    pl.col(\"neighbourhood\")\n",
        "      .str.to_lowercase()\n",
        "      .str.replace_all(r\"[^\\w\\s]\", \"\")  # Eliminar símbolos que puedan interferir\n",
        "      .alias(\"neighbourhood_norm\")\n",
        ")\n",
        "\n",
        "# Agrupar por barrio: contar el número de anuncios y calcular el precio medio.\n",
        "airbnb_grouped = (\n",
        "    airbnb_polars_new\n",
        "    .group_by(\"neighbourhood_norm\")\n",
        "    .agg([\n",
        "        pl.count(\"id\").alias(\"airbnb_count\"),\n",
        "        pl.col(\"price\").mean().round(2).alias(\"airbnb_price_mean\")\n",
        "    ])\n",
        ")\n",
        "airbnb_grouped"
      ],
      "metadata": {
        "id": "d2WLBE8fNrvd",
        "colab": {
          "base_uri": "https://localhost:8080/",
          "height": 443
        },
        "outputId": "f3a065be-7967-4db5-b81c-968232098961"
      },
      "execution_count": 61,
      "outputs": [
        {
          "output_type": "execute_result",
          "data": {
            "text/plain": [
              "shape: (128, 3)\n",
              "┌────────────────────┬──────────────┬───────────────────┐\n",
              "│ neighbourhood_norm ┆ airbnb_count ┆ airbnb_price_mean │\n",
              "│ ---                ┆ ---          ┆ ---               │\n",
              "│ str                ┆ u32          ┆ f64               │\n",
              "╞════════════════════╪══════════════╪═══════════════════╡\n",
              "│ delicias           ┆ 241          ┆ 88.86             │\n",
              "│ berruguete         ┆ 204          ┆ 105.02            │\n",
              "│ rosas              ┆ 78           ┆ 190.63            │\n",
              "│ san fermín         ┆ 67           ┆ 76.53             │\n",
              "│ arapiles           ┆ 275          ┆ 118.83            │\n",
              "│ …                  ┆ …            ┆ …                 │\n",
              "│ almendrales        ┆ 114          ┆ 74.62             │\n",
              "│ corralejos         ┆ 17           ┆ 69.85             │\n",
              "│ rios rosas         ┆ 266          ┆ 154.95            │\n",
              "│ casa de campo      ┆ 87           ┆ 121.75            │\n",
              "│ el viso            ┆ 97           ┆ 167.46            │\n",
              "└────────────────────┴──────────────┴───────────────────┘"
            ],
            "text/html": [
              "<div><style>\n",
              ".dataframe > thead > tr,\n",
              ".dataframe > tbody > tr {\n",
              "  text-align: right;\n",
              "  white-space: pre-wrap;\n",
              "}\n",
              "</style>\n",
              "<small>shape: (128, 3)</small><table border=\"1\" class=\"dataframe\"><thead><tr><th>neighbourhood_norm</th><th>airbnb_count</th><th>airbnb_price_mean</th></tr><tr><td>str</td><td>u32</td><td>f64</td></tr></thead><tbody><tr><td>&quot;delicias&quot;</td><td>241</td><td>88.86</td></tr><tr><td>&quot;berruguete&quot;</td><td>204</td><td>105.02</td></tr><tr><td>&quot;rosas&quot;</td><td>78</td><td>190.63</td></tr><tr><td>&quot;san fermín&quot;</td><td>67</td><td>76.53</td></tr><tr><td>&quot;arapiles&quot;</td><td>275</td><td>118.83</td></tr><tr><td>&hellip;</td><td>&hellip;</td><td>&hellip;</td></tr><tr><td>&quot;almendrales&quot;</td><td>114</td><td>74.62</td></tr><tr><td>&quot;corralejos&quot;</td><td>17</td><td>69.85</td></tr><tr><td>&quot;rios rosas&quot;</td><td>266</td><td>154.95</td></tr><tr><td>&quot;casa de campo&quot;</td><td>87</td><td>121.75</td></tr><tr><td>&quot;el viso&quot;</td><td>97</td><td>167.46</td></tr></tbody></table></div>"
            ]
          },
          "metadata": {},
          "execution_count": 61
        }
      ]
    },
    {
      "cell_type": "code",
      "source": [
        "airbnb_grouped, rent_increase_df"
      ],
      "metadata": {
        "id": "TNHfuZKdPXnu",
        "colab": {
          "base_uri": "https://localhost:8080/"
        },
        "outputId": "aa0c06bf-4066-46c1-fa37-0fba161fac0f"
      },
      "execution_count": 62,
      "outputs": [
        {
          "output_type": "execute_result",
          "data": {
            "text/plain": [
              "(shape: (128, 3)\n",
              " ┌────────────────────┬──────────────┬───────────────────┐\n",
              " │ neighbourhood_norm ┆ airbnb_count ┆ airbnb_price_mean │\n",
              " │ ---                ┆ ---          ┆ ---               │\n",
              " │ str                ┆ u32          ┆ f64               │\n",
              " ╞════════════════════╪══════════════╪═══════════════════╡\n",
              " │ delicias           ┆ 241          ┆ 88.86             │\n",
              " │ berruguete         ┆ 204          ┆ 105.02            │\n",
              " │ rosas              ┆ 78           ┆ 190.63            │\n",
              " │ san fermín         ┆ 67           ┆ 76.53             │\n",
              " │ arapiles           ┆ 275          ┆ 118.83            │\n",
              " │ …                  ┆ …            ┆ …                 │\n",
              " │ almendrales        ┆ 114          ┆ 74.62             │\n",
              " │ corralejos         ┆ 17           ┆ 69.85             │\n",
              " │ rios rosas         ┆ 266          ┆ 154.95            │\n",
              " │ casa de campo      ┆ 87           ┆ 121.75            │\n",
              " │ el viso            ┆ 97           ┆ 167.46            │\n",
              " └────────────────────┴──────────────┴───────────────────┘,\n",
              " shape: (22, 2)\n",
              " ┌───────────────────┬───────────────┐\n",
              " │ neighbourhood     ┆ rent_increase │\n",
              " │ ---               ┆ ---           │\n",
              " │ str               ┆ f64           │\n",
              " ╞═══════════════════╪═══════════════╡\n",
              " │ ciudad de madrid  ┆ 1.66          │\n",
              " │ centro            ┆ 1.64          │\n",
              " │ arganzuela        ┆ 1.72          │\n",
              " │ salamanca         ┆ 1.71          │\n",
              " │ chamartín         ┆ 1.57          │\n",
              " │ …                 ┆ …             │\n",
              " │ villa de vallecas ┆ 1.5           │\n",
              " │ barajas           ┆ 1.37          │\n",
              " │ moratalaz         ┆ 1.59          │\n",
              " │ villaverde        ┆ 1.84          │\n",
              " │ vicálvaro         ┆ 1.54          │\n",
              " └───────────────────┴───────────────┘)"
            ]
          },
          "metadata": {},
          "execution_count": 62
        }
      ]
    },
    {
      "cell_type": "code",
      "source": [
        "audio_df = pl.read_parquet(DATA_DIR + \"/fragments_example.parquet\")\n",
        "\n",
        "audio_df.shape, audio_df.schema, audio_df.head()"
      ],
      "metadata": {
        "id": "cE5_Cp3lP6vm",
        "colab": {
          "base_uri": "https://localhost:8080/"
        },
        "outputId": "7aa97a55-b789-4724-94cb-535b9ab3f52d"
      },
      "execution_count": 63,
      "outputs": [
        {
          "output_type": "execute_result",
          "data": {
            "text/plain": [
              "((194, 5),\n",
              " Schema([('audio_id', String),\n",
              "         ('end', Int64),\n",
              "         ('side', String),\n",
              "         ('start', Int64),\n",
              "         ('timestamps', List(Int64))]),\n",
              " shape: (5, 5)\n",
              " ┌────────────┬───────┬──────────┬───────┬─────────────────────────┐\n",
              " │ audio_id   ┆ end   ┆ side     ┆ start ┆ timestamps              │\n",
              " │ ---        ┆ ---   ┆ ---      ┆ ---   ┆ ---                     │\n",
              " │ str        ┆ i64   ┆ str      ┆ i64   ┆ list[i64]               │\n",
              " ╞════════════╪═══════╪══════════╪═══════╪═════════════════════════╡\n",
              " │ a4277c9fac ┆ 5906  ┆ client   ┆ 2128  ┆ [2668, 2968, … 5766]    │\n",
              " │ a4277c9fac ┆ 7906  ┆ operator ┆ 5906  ┆ [6146, 6506, … 7796]    │\n",
              " │ a4277c9fac ┆ 8905  ┆ client   ┆ 7906  ┆ [8356]                  │\n",
              " │ a4277c9fac ┆ 12906 ┆ operator ┆ 8906  ┆ [9386, 9776, … 12896]   │\n",
              " │ a4277c9fac ┆ 14784 ┆ client   ┆ 12906 ┆ [13566, 13716, … 14646] │\n",
              " └────────────┴───────┴──────────┴───────┴─────────────────────────┘)"
            ]
          },
          "metadata": {},
          "execution_count": 63
        }
      ]
    },
    {
      "cell_type": "code",
      "source": [
        "# Ordenar la tabla por audio_id, start y end\n",
        "\n",
        "audio_df = audio_df.sort([\"audio_id\", \"start\", \"end\"])"
      ],
      "metadata": {
        "id": "-LPDqnO6RGev"
      },
      "execution_count": 64,
      "outputs": []
    },
    {
      "cell_type": "markdown",
      "source": [
        "# Cálculos para cada fragmento"
      ],
      "metadata": {
        "id": "4NmXclO0JO5O"
      }
    },
    {
      "cell_type": "code",
      "source": [
        "# 1. Calcular n_intervention\n",
        "\n",
        "audio_df = audio_df.with_columns(\n",
        "    (pl.int_range(0, pl.len()).over(\"audio_id\") // 2).alias(\"n_intervention\")\n",
        ")\n",
        "\n",
        "audio_df.head(30)"
      ],
      "metadata": {
        "id": "5TlmWiOBJQHr",
        "colab": {
          "base_uri": "https://localhost:8080/",
          "height": 443
        },
        "outputId": "a256b3a1-7c25-418e-9f16-0603ccc472e2"
      },
      "execution_count": 65,
      "outputs": [
        {
          "output_type": "execute_result",
          "data": {
            "text/plain": [
              "shape: (30, 6)\n",
              "┌────────────┬───────┬──────────┬───────┬─────────────────────────┬────────────────┐\n",
              "│ audio_id   ┆ end   ┆ side     ┆ start ┆ timestamps              ┆ n_intervention │\n",
              "│ ---        ┆ ---   ┆ ---      ┆ ---   ┆ ---                     ┆ ---            │\n",
              "│ str        ┆ i64   ┆ str      ┆ i64   ┆ list[i64]               ┆ i64            │\n",
              "╞════════════╪═══════╪══════════╪═══════╪═════════════════════════╪════════════════╡\n",
              "│ 0871505d87 ┆ 4368  ┆ client   ┆ 1408  ┆ [1708, 4208]            ┆ 0              │\n",
              "│ 0871505d87 ┆ 9136  ┆ operator ┆ 6624  ┆ [7134, 7374, … 9084]    ┆ 0              │\n",
              "│ 0871505d87 ┆ 10496 ┆ client   ┆ 9616  ┆ [9946, 10126, 10396]    ┆ 1              │\n",
              "│ 0871505d87 ┆ 22816 ┆ operator ┆ 10864 ┆ [11194, 11314, … 22804] ┆ 1              │\n",
              "│ 0871505d87 ┆ 30448 ┆ client   ┆ 23776 ┆ [24016, 24226, … 30376] ┆ 2              │\n",
              "│ …          ┆ …     ┆ …        ┆ …     ┆ …                       ┆ …              │\n",
              "│ 3b0eaeb9f5 ┆ 75642 ┆ operator ┆ 74142 ┆ [74352, 75102, 75462]   ┆ 5              │\n",
              "│ 3b0eaeb9f5 ┆ 91184 ┆ client   ┆ 75642 ┆ [76002, 76512, … 91064] ┆ 5              │\n",
              "│ 3b0eaeb9f5 ┆ 93446 ┆ operator ┆ 91696 ┆ [92056, 92326, … 93376] ┆ 6              │\n",
              "│ 3b0eaeb9f5 ┆ 96446 ┆ client   ┆ 93446 ┆ [93806, 93926, … 96336] ┆ 6              │\n",
              "│ 3b0eaeb9f5 ┆ 97946 ┆ operator ┆ 96446 ┆ [96746, 97136, … 97946] ┆ 7              │\n",
              "└────────────┴───────┴──────────┴───────┴─────────────────────────┴────────────────┘"
            ],
            "text/html": [
              "<div><style>\n",
              ".dataframe > thead > tr,\n",
              ".dataframe > tbody > tr {\n",
              "  text-align: right;\n",
              "  white-space: pre-wrap;\n",
              "}\n",
              "</style>\n",
              "<small>shape: (30, 6)</small><table border=\"1\" class=\"dataframe\"><thead><tr><th>audio_id</th><th>end</th><th>side</th><th>start</th><th>timestamps</th><th>n_intervention</th></tr><tr><td>str</td><td>i64</td><td>str</td><td>i64</td><td>list[i64]</td><td>i64</td></tr></thead><tbody><tr><td>&quot;0871505d87&quot;</td><td>4368</td><td>&quot;client&quot;</td><td>1408</td><td>[1708, 4208]</td><td>0</td></tr><tr><td>&quot;0871505d87&quot;</td><td>9136</td><td>&quot;operator&quot;</td><td>6624</td><td>[7134, 7374, … 9084]</td><td>0</td></tr><tr><td>&quot;0871505d87&quot;</td><td>10496</td><td>&quot;client&quot;</td><td>9616</td><td>[9946, 10126, 10396]</td><td>1</td></tr><tr><td>&quot;0871505d87&quot;</td><td>22816</td><td>&quot;operator&quot;</td><td>10864</td><td>[11194, 11314, … 22804]</td><td>1</td></tr><tr><td>&quot;0871505d87&quot;</td><td>30448</td><td>&quot;client&quot;</td><td>23776</td><td>[24016, 24226, … 30376]</td><td>2</td></tr><tr><td>&hellip;</td><td>&hellip;</td><td>&hellip;</td><td>&hellip;</td><td>&hellip;</td><td>&hellip;</td></tr><tr><td>&quot;3b0eaeb9f5&quot;</td><td>75642</td><td>&quot;operator&quot;</td><td>74142</td><td>[74352, 75102, 75462]</td><td>5</td></tr><tr><td>&quot;3b0eaeb9f5&quot;</td><td>91184</td><td>&quot;client&quot;</td><td>75642</td><td>[76002, 76512, … 91064]</td><td>5</td></tr><tr><td>&quot;3b0eaeb9f5&quot;</td><td>93446</td><td>&quot;operator&quot;</td><td>91696</td><td>[92056, 92326, … 93376]</td><td>6</td></tr><tr><td>&quot;3b0eaeb9f5&quot;</td><td>96446</td><td>&quot;client&quot;</td><td>93446</td><td>[93806, 93926, … 96336]</td><td>6</td></tr><tr><td>&quot;3b0eaeb9f5&quot;</td><td>97946</td><td>&quot;operator&quot;</td><td>96446</td><td>[96746, 97136, … 97946]</td><td>7</td></tr></tbody></table></div>"
            ]
          },
          "metadata": {},
          "execution_count": 65
        }
      ]
    },
    {
      "cell_type": "code",
      "source": [
        "# 2. Calcular word_duration:\n",
        "\n",
        "audio_df = audio_df.with_columns(\n",
        "    pl.concat_list([pl.col(\"start\"), pl.col(\"timestamps\")])\n",
        "    .list.diff()\n",
        "    .list.slice(1)\n",
        "    .list.eval(pl.element().clip(50, 1500))\n",
        "    .alias(\"word_duration\")\n",
        ")\n",
        "\n",
        "audio_df.head(30)"
      ],
      "metadata": {
        "id": "0iT3roPOKKve",
        "colab": {
          "base_uri": "https://localhost:8080/",
          "height": 443
        },
        "outputId": "b564d589-8cbe-43a7-dae5-5dfa29ac9911"
      },
      "execution_count": 66,
      "outputs": [
        {
          "output_type": "execute_result",
          "data": {
            "text/plain": [
              "shape: (30, 7)\n",
              "┌────────────┬───────┬──────────┬───────┬──────────────────┬────────────────┬───────────────────┐\n",
              "│ audio_id   ┆ end   ┆ side     ┆ start ┆ timestamps       ┆ n_intervention ┆ word_duration     │\n",
              "│ ---        ┆ ---   ┆ ---      ┆ ---   ┆ ---              ┆ ---            ┆ ---               │\n",
              "│ str        ┆ i64   ┆ str      ┆ i64   ┆ list[i64]        ┆ i64            ┆ list[i64]         │\n",
              "╞════════════╪═══════╪══════════╪═══════╪══════════════════╪════════════════╪═══════════════════╡\n",
              "│ 0871505d87 ┆ 4368  ┆ client   ┆ 1408  ┆ [1708, 4208]     ┆ 0              ┆ [300, 1500]       │\n",
              "│ 0871505d87 ┆ 9136  ┆ operator ┆ 6624  ┆ [7134, 7374, …   ┆ 0              ┆ [510, 240, … 480] │\n",
              "│            ┆       ┆          ┆       ┆ 9084]            ┆                ┆                   │\n",
              "│ 0871505d87 ┆ 10496 ┆ client   ┆ 9616  ┆ [9946, 10126,    ┆ 1              ┆ [330, 180, 270]   │\n",
              "│            ┆       ┆          ┆       ┆ 10396]           ┆                ┆                   │\n",
              "│ 0871505d87 ┆ 22816 ┆ operator ┆ 10864 ┆ [11194, 11314, … ┆ 1              ┆ [330, 120, … 480] │\n",
              "│            ┆       ┆          ┆       ┆ 22804]           ┆                ┆                   │\n",
              "│ 0871505d87 ┆ 30448 ┆ client   ┆ 23776 ┆ [24016, 24226, … ┆ 2              ┆ [240, 210, … 420] │\n",
              "│            ┆       ┆          ┆       ┆ 30376]           ┆                ┆                   │\n",
              "│ …          ┆ …     ┆ …        ┆ …     ┆ …                ┆ …              ┆ …                 │\n",
              "│ 3b0eaeb9f5 ┆ 75642 ┆ operator ┆ 74142 ┆ [74352, 75102,   ┆ 5              ┆ [210, 750, 360]   │\n",
              "│            ┆       ┆          ┆       ┆ 75462]           ┆                ┆                   │\n",
              "│ 3b0eaeb9f5 ┆ 91184 ┆ client   ┆ 75642 ┆ [76002, 76512, … ┆ 5              ┆ [360, 510, … 360] │\n",
              "│            ┆       ┆          ┆       ┆ 91064]           ┆                ┆                   │\n",
              "│ 3b0eaeb9f5 ┆ 93446 ┆ operator ┆ 91696 ┆ [92056, 92326, … ┆ 6              ┆ [360, 270, … 300] │\n",
              "│            ┆       ┆          ┆       ┆ 93376]           ┆                ┆                   │\n",
              "│ 3b0eaeb9f5 ┆ 96446 ┆ client   ┆ 93446 ┆ [93806, 93926, … ┆ 6              ┆ [360, 120, … 480] │\n",
              "│            ┆       ┆          ┆       ┆ 96336]           ┆                ┆                   │\n",
              "│ 3b0eaeb9f5 ┆ 97946 ┆ operator ┆ 96446 ┆ [96746, 97136, … ┆ 7              ┆ [300, 390, … 240] │\n",
              "│            ┆       ┆          ┆       ┆ 97946]           ┆                ┆                   │\n",
              "└────────────┴───────┴──────────┴───────┴──────────────────┴────────────────┴───────────────────┘"
            ],
            "text/html": [
              "<div><style>\n",
              ".dataframe > thead > tr,\n",
              ".dataframe > tbody > tr {\n",
              "  text-align: right;\n",
              "  white-space: pre-wrap;\n",
              "}\n",
              "</style>\n",
              "<small>shape: (30, 7)</small><table border=\"1\" class=\"dataframe\"><thead><tr><th>audio_id</th><th>end</th><th>side</th><th>start</th><th>timestamps</th><th>n_intervention</th><th>word_duration</th></tr><tr><td>str</td><td>i64</td><td>str</td><td>i64</td><td>list[i64]</td><td>i64</td><td>list[i64]</td></tr></thead><tbody><tr><td>&quot;0871505d87&quot;</td><td>4368</td><td>&quot;client&quot;</td><td>1408</td><td>[1708, 4208]</td><td>0</td><td>[300, 1500]</td></tr><tr><td>&quot;0871505d87&quot;</td><td>9136</td><td>&quot;operator&quot;</td><td>6624</td><td>[7134, 7374, … 9084]</td><td>0</td><td>[510, 240, … 480]</td></tr><tr><td>&quot;0871505d87&quot;</td><td>10496</td><td>&quot;client&quot;</td><td>9616</td><td>[9946, 10126, 10396]</td><td>1</td><td>[330, 180, 270]</td></tr><tr><td>&quot;0871505d87&quot;</td><td>22816</td><td>&quot;operator&quot;</td><td>10864</td><td>[11194, 11314, … 22804]</td><td>1</td><td>[330, 120, … 480]</td></tr><tr><td>&quot;0871505d87&quot;</td><td>30448</td><td>&quot;client&quot;</td><td>23776</td><td>[24016, 24226, … 30376]</td><td>2</td><td>[240, 210, … 420]</td></tr><tr><td>&hellip;</td><td>&hellip;</td><td>&hellip;</td><td>&hellip;</td><td>&hellip;</td><td>&hellip;</td><td>&hellip;</td></tr><tr><td>&quot;3b0eaeb9f5&quot;</td><td>75642</td><td>&quot;operator&quot;</td><td>74142</td><td>[74352, 75102, 75462]</td><td>5</td><td>[210, 750, 360]</td></tr><tr><td>&quot;3b0eaeb9f5&quot;</td><td>91184</td><td>&quot;client&quot;</td><td>75642</td><td>[76002, 76512, … 91064]</td><td>5</td><td>[360, 510, … 360]</td></tr><tr><td>&quot;3b0eaeb9f5&quot;</td><td>93446</td><td>&quot;operator&quot;</td><td>91696</td><td>[92056, 92326, … 93376]</td><td>6</td><td>[360, 270, … 300]</td></tr><tr><td>&quot;3b0eaeb9f5&quot;</td><td>96446</td><td>&quot;client&quot;</td><td>93446</td><td>[93806, 93926, … 96336]</td><td>6</td><td>[360, 120, … 480]</td></tr><tr><td>&quot;3b0eaeb9f5&quot;</td><td>97946</td><td>&quot;operator&quot;</td><td>96446</td><td>[96746, 97136, … 97946]</td><td>7</td><td>[300, 390, … 240]</td></tr></tbody></table></div>"
            ]
          },
          "metadata": {},
          "execution_count": 66
        }
      ]
    },
    {
      "cell_type": "code",
      "source": [
        "# 3. Calcular wait_silence:\n",
        "\n",
        "audio_df = audio_df.with_columns(\n",
        "    pl.when(pl.col(\"end\").shift(1).over(\"audio_id\").is_null())\n",
        "      .then(pl.col(\"start\"))\n",
        "      .otherwise(pl.col(\"start\") - pl.col(\"end\").shift(1).over(\"audio_id\"))\n",
        "      .alias(\"wait_silence\")\n",
        ")\n",
        "\n",
        "audio_df.head(30)"
      ],
      "metadata": {
        "id": "fmJyQtSeNBYL",
        "colab": {
          "base_uri": "https://localhost:8080/",
          "height": 443
        },
        "outputId": "4bc3629f-8fea-4308-e532-71930a1d58d3"
      },
      "execution_count": 67,
      "outputs": [
        {
          "output_type": "execute_result",
          "data": {
            "text/plain": [
              "shape: (30, 8)\n",
              "┌────────────┬───────┬──────────┬───────┬──────────────┬──────────────┬──────────────┬─────────────┐\n",
              "│ audio_id   ┆ end   ┆ side     ┆ start ┆ timestamps   ┆ n_interventi ┆ word_duratio ┆ wait_silenc │\n",
              "│ ---        ┆ ---   ┆ ---      ┆ ---   ┆ ---          ┆ on           ┆ n            ┆ e           │\n",
              "│ str        ┆ i64   ┆ str      ┆ i64   ┆ list[i64]    ┆ ---          ┆ ---          ┆ ---         │\n",
              "│            ┆       ┆          ┆       ┆              ┆ i64          ┆ list[i64]    ┆ i64         │\n",
              "╞════════════╪═══════╪══════════╪═══════╪══════════════╪══════════════╪══════════════╪═════════════╡\n",
              "│ 0871505d87 ┆ 4368  ┆ client   ┆ 1408  ┆ [1708, 4208] ┆ 0            ┆ [300, 1500]  ┆ 1408        │\n",
              "│ 0871505d87 ┆ 9136  ┆ operator ┆ 6624  ┆ [7134, 7374, ┆ 0            ┆ [510, 240, … ┆ 2256        │\n",
              "│            ┆       ┆          ┆       ┆ … 9084]      ┆              ┆ 480]         ┆             │\n",
              "│ 0871505d87 ┆ 10496 ┆ client   ┆ 9616  ┆ [9946,       ┆ 1            ┆ [330, 180,   ┆ 480         │\n",
              "│            ┆       ┆          ┆       ┆ 10126,       ┆              ┆ 270]         ┆             │\n",
              "│            ┆       ┆          ┆       ┆ 10396]       ┆              ┆              ┆             │\n",
              "│ 0871505d87 ┆ 22816 ┆ operator ┆ 10864 ┆ [11194,      ┆ 1            ┆ [330, 120, … ┆ 368         │\n",
              "│            ┆       ┆          ┆       ┆ 11314, …     ┆              ┆ 480]         ┆             │\n",
              "│            ┆       ┆          ┆       ┆ 22804]       ┆              ┆              ┆             │\n",
              "│ 0871505d87 ┆ 30448 ┆ client   ┆ 23776 ┆ [24016,      ┆ 2            ┆ [240, 210, … ┆ 960         │\n",
              "│            ┆       ┆          ┆       ┆ 24226, …     ┆              ┆ 420]         ┆             │\n",
              "│            ┆       ┆          ┆       ┆ 30376]       ┆              ┆              ┆             │\n",
              "│ …          ┆ …     ┆ …        ┆ …     ┆ …            ┆ …            ┆ …            ┆ …           │\n",
              "│ 3b0eaeb9f5 ┆ 75642 ┆ operator ┆ 74142 ┆ [74352,      ┆ 5            ┆ [210, 750,   ┆ 0           │\n",
              "│            ┆       ┆          ┆       ┆ 75102,       ┆              ┆ 360]         ┆             │\n",
              "│            ┆       ┆          ┆       ┆ 75462]       ┆              ┆              ┆             │\n",
              "│ 3b0eaeb9f5 ┆ 91184 ┆ client   ┆ 75642 ┆ [76002,      ┆ 5            ┆ [360, 510, … ┆ 0           │\n",
              "│            ┆       ┆          ┆       ┆ 76512, …     ┆              ┆ 360]         ┆             │\n",
              "│            ┆       ┆          ┆       ┆ 91064]       ┆              ┆              ┆             │\n",
              "│ 3b0eaeb9f5 ┆ 93446 ┆ operator ┆ 91696 ┆ [92056,      ┆ 6            ┆ [360, 270, … ┆ 512         │\n",
              "│            ┆       ┆          ┆       ┆ 92326, …     ┆              ┆ 300]         ┆             │\n",
              "│            ┆       ┆          ┆       ┆ 93376]       ┆              ┆              ┆             │\n",
              "│ 3b0eaeb9f5 ┆ 96446 ┆ client   ┆ 93446 ┆ [93806,      ┆ 6            ┆ [360, 120, … ┆ 0           │\n",
              "│            ┆       ┆          ┆       ┆ 93926, …     ┆              ┆ 480]         ┆             │\n",
              "│            ┆       ┆          ┆       ┆ 96336]       ┆              ┆              ┆             │\n",
              "│ 3b0eaeb9f5 ┆ 97946 ┆ operator ┆ 96446 ┆ [96746,      ┆ 7            ┆ [300, 390, … ┆ 0           │\n",
              "│            ┆       ┆          ┆       ┆ 97136, …     ┆              ┆ 240]         ┆             │\n",
              "│            ┆       ┆          ┆       ┆ 97946]       ┆              ┆              ┆             │\n",
              "└────────────┴───────┴──────────┴───────┴──────────────┴──────────────┴──────────────┴─────────────┘"
            ],
            "text/html": [
              "<div><style>\n",
              ".dataframe > thead > tr,\n",
              ".dataframe > tbody > tr {\n",
              "  text-align: right;\n",
              "  white-space: pre-wrap;\n",
              "}\n",
              "</style>\n",
              "<small>shape: (30, 8)</small><table border=\"1\" class=\"dataframe\"><thead><tr><th>audio_id</th><th>end</th><th>side</th><th>start</th><th>timestamps</th><th>n_intervention</th><th>word_duration</th><th>wait_silence</th></tr><tr><td>str</td><td>i64</td><td>str</td><td>i64</td><td>list[i64]</td><td>i64</td><td>list[i64]</td><td>i64</td></tr></thead><tbody><tr><td>&quot;0871505d87&quot;</td><td>4368</td><td>&quot;client&quot;</td><td>1408</td><td>[1708, 4208]</td><td>0</td><td>[300, 1500]</td><td>1408</td></tr><tr><td>&quot;0871505d87&quot;</td><td>9136</td><td>&quot;operator&quot;</td><td>6624</td><td>[7134, 7374, … 9084]</td><td>0</td><td>[510, 240, … 480]</td><td>2256</td></tr><tr><td>&quot;0871505d87&quot;</td><td>10496</td><td>&quot;client&quot;</td><td>9616</td><td>[9946, 10126, 10396]</td><td>1</td><td>[330, 180, 270]</td><td>480</td></tr><tr><td>&quot;0871505d87&quot;</td><td>22816</td><td>&quot;operator&quot;</td><td>10864</td><td>[11194, 11314, … 22804]</td><td>1</td><td>[330, 120, … 480]</td><td>368</td></tr><tr><td>&quot;0871505d87&quot;</td><td>30448</td><td>&quot;client&quot;</td><td>23776</td><td>[24016, 24226, … 30376]</td><td>2</td><td>[240, 210, … 420]</td><td>960</td></tr><tr><td>&hellip;</td><td>&hellip;</td><td>&hellip;</td><td>&hellip;</td><td>&hellip;</td><td>&hellip;</td><td>&hellip;</td><td>&hellip;</td></tr><tr><td>&quot;3b0eaeb9f5&quot;</td><td>75642</td><td>&quot;operator&quot;</td><td>74142</td><td>[74352, 75102, 75462]</td><td>5</td><td>[210, 750, 360]</td><td>0</td></tr><tr><td>&quot;3b0eaeb9f5&quot;</td><td>91184</td><td>&quot;client&quot;</td><td>75642</td><td>[76002, 76512, … 91064]</td><td>5</td><td>[360, 510, … 360]</td><td>0</td></tr><tr><td>&quot;3b0eaeb9f5&quot;</td><td>93446</td><td>&quot;operator&quot;</td><td>91696</td><td>[92056, 92326, … 93376]</td><td>6</td><td>[360, 270, … 300]</td><td>512</td></tr><tr><td>&quot;3b0eaeb9f5&quot;</td><td>96446</td><td>&quot;client&quot;</td><td>93446</td><td>[93806, 93926, … 96336]</td><td>6</td><td>[360, 120, … 480]</td><td>0</td></tr><tr><td>&quot;3b0eaeb9f5&quot;</td><td>97946</td><td>&quot;operator&quot;</td><td>96446</td><td>[96746, 97136, … 97946]</td><td>7</td><td>[300, 390, … 240]</td><td>0</td></tr></tbody></table></div>"
            ]
          },
          "metadata": {},
          "execution_count": 67
        }
      ]
    },
    {
      "cell_type": "code",
      "source": [
        "audio_df = audio_df.with_columns(\n",
        "    ((pl.col('start') - pl.col('end').shift(1)).fill_null(pl.col('start').first())\n",
        "                 .over('audio_id') # lo hacemos por audio_id para no mezclar fragmentos de distintos audios\n",
        "                 .clip(0)\n",
        "                ).alias('wait_silence_2')\n",
        ")\n",
        "\n",
        "audio_df.head(30)\n"
      ],
      "metadata": {
        "colab": {
          "base_uri": "https://localhost:8080/",
          "height": 443
        },
        "id": "XSboX5HSCeKN",
        "outputId": "a523cc7f-99de-421c-9b05-cf0eb5240d70"
      },
      "execution_count": 68,
      "outputs": [
        {
          "output_type": "execute_result",
          "data": {
            "text/plain": [
              "shape: (30, 9)\n",
              "┌────────────┬───────┬──────────┬───────┬───┬─────────────┬─────────────┬─────────────┬────────────┐\n",
              "│ audio_id   ┆ end   ┆ side     ┆ start ┆ … ┆ n_intervent ┆ word_durati ┆ wait_silenc ┆ wait_silen │\n",
              "│ ---        ┆ ---   ┆ ---      ┆ ---   ┆   ┆ ion         ┆ on          ┆ e           ┆ ce_2       │\n",
              "│ str        ┆ i64   ┆ str      ┆ i64   ┆   ┆ ---         ┆ ---         ┆ ---         ┆ ---        │\n",
              "│            ┆       ┆          ┆       ┆   ┆ i64         ┆ list[i64]   ┆ i64         ┆ i64        │\n",
              "╞════════════╪═══════╪══════════╪═══════╪═══╪═════════════╪═════════════╪═════════════╪════════════╡\n",
              "│ 0871505d87 ┆ 4368  ┆ client   ┆ 1408  ┆ … ┆ 0           ┆ [300, 1500] ┆ 1408        ┆ 1408       │\n",
              "│ 0871505d87 ┆ 9136  ┆ operator ┆ 6624  ┆ … ┆ 0           ┆ [510, 240,  ┆ 2256        ┆ 2256       │\n",
              "│            ┆       ┆          ┆       ┆   ┆             ┆ … 480]      ┆             ┆            │\n",
              "│ 0871505d87 ┆ 10496 ┆ client   ┆ 9616  ┆ … ┆ 1           ┆ [330, 180,  ┆ 480         ┆ 480        │\n",
              "│            ┆       ┆          ┆       ┆   ┆             ┆ 270]        ┆             ┆            │\n",
              "│ 0871505d87 ┆ 22816 ┆ operator ┆ 10864 ┆ … ┆ 1           ┆ [330, 120,  ┆ 368         ┆ 368        │\n",
              "│            ┆       ┆          ┆       ┆   ┆             ┆ … 480]      ┆             ┆            │\n",
              "│ 0871505d87 ┆ 30448 ┆ client   ┆ 23776 ┆ … ┆ 2           ┆ [240, 210,  ┆ 960         ┆ 960        │\n",
              "│            ┆       ┆          ┆       ┆   ┆             ┆ … 420]      ┆             ┆            │\n",
              "│ …          ┆ …     ┆ …        ┆ …     ┆ … ┆ …           ┆ …           ┆ …           ┆ …          │\n",
              "│ 3b0eaeb9f5 ┆ 75642 ┆ operator ┆ 74142 ┆ … ┆ 5           ┆ [210, 750,  ┆ 0           ┆ 0          │\n",
              "│            ┆       ┆          ┆       ┆   ┆             ┆ 360]        ┆             ┆            │\n",
              "│ 3b0eaeb9f5 ┆ 91184 ┆ client   ┆ 75642 ┆ … ┆ 5           ┆ [360, 510,  ┆ 0           ┆ 0          │\n",
              "│            ┆       ┆          ┆       ┆   ┆             ┆ … 360]      ┆             ┆            │\n",
              "│ 3b0eaeb9f5 ┆ 93446 ┆ operator ┆ 91696 ┆ … ┆ 6           ┆ [360, 270,  ┆ 512         ┆ 512        │\n",
              "│            ┆       ┆          ┆       ┆   ┆             ┆ … 300]      ┆             ┆            │\n",
              "│ 3b0eaeb9f5 ┆ 96446 ┆ client   ┆ 93446 ┆ … ┆ 6           ┆ [360, 120,  ┆ 0           ┆ 0          │\n",
              "│            ┆       ┆          ┆       ┆   ┆             ┆ … 480]      ┆             ┆            │\n",
              "│ 3b0eaeb9f5 ┆ 97946 ┆ operator ┆ 96446 ┆ … ┆ 7           ┆ [300, 390,  ┆ 0           ┆ 0          │\n",
              "│            ┆       ┆          ┆       ┆   ┆             ┆ … 240]      ┆             ┆            │\n",
              "└────────────┴───────┴──────────┴───────┴───┴─────────────┴─────────────┴─────────────┴────────────┘"
            ],
            "text/html": [
              "<div><style>\n",
              ".dataframe > thead > tr,\n",
              ".dataframe > tbody > tr {\n",
              "  text-align: right;\n",
              "  white-space: pre-wrap;\n",
              "}\n",
              "</style>\n",
              "<small>shape: (30, 9)</small><table border=\"1\" class=\"dataframe\"><thead><tr><th>audio_id</th><th>end</th><th>side</th><th>start</th><th>timestamps</th><th>n_intervention</th><th>word_duration</th><th>wait_silence</th><th>wait_silence_2</th></tr><tr><td>str</td><td>i64</td><td>str</td><td>i64</td><td>list[i64]</td><td>i64</td><td>list[i64]</td><td>i64</td><td>i64</td></tr></thead><tbody><tr><td>&quot;0871505d87&quot;</td><td>4368</td><td>&quot;client&quot;</td><td>1408</td><td>[1708, 4208]</td><td>0</td><td>[300, 1500]</td><td>1408</td><td>1408</td></tr><tr><td>&quot;0871505d87&quot;</td><td>9136</td><td>&quot;operator&quot;</td><td>6624</td><td>[7134, 7374, … 9084]</td><td>0</td><td>[510, 240, … 480]</td><td>2256</td><td>2256</td></tr><tr><td>&quot;0871505d87&quot;</td><td>10496</td><td>&quot;client&quot;</td><td>9616</td><td>[9946, 10126, 10396]</td><td>1</td><td>[330, 180, 270]</td><td>480</td><td>480</td></tr><tr><td>&quot;0871505d87&quot;</td><td>22816</td><td>&quot;operator&quot;</td><td>10864</td><td>[11194, 11314, … 22804]</td><td>1</td><td>[330, 120, … 480]</td><td>368</td><td>368</td></tr><tr><td>&quot;0871505d87&quot;</td><td>30448</td><td>&quot;client&quot;</td><td>23776</td><td>[24016, 24226, … 30376]</td><td>2</td><td>[240, 210, … 420]</td><td>960</td><td>960</td></tr><tr><td>&hellip;</td><td>&hellip;</td><td>&hellip;</td><td>&hellip;</td><td>&hellip;</td><td>&hellip;</td><td>&hellip;</td><td>&hellip;</td><td>&hellip;</td></tr><tr><td>&quot;3b0eaeb9f5&quot;</td><td>75642</td><td>&quot;operator&quot;</td><td>74142</td><td>[74352, 75102, 75462]</td><td>5</td><td>[210, 750, 360]</td><td>0</td><td>0</td></tr><tr><td>&quot;3b0eaeb9f5&quot;</td><td>91184</td><td>&quot;client&quot;</td><td>75642</td><td>[76002, 76512, … 91064]</td><td>5</td><td>[360, 510, … 360]</td><td>0</td><td>0</td></tr><tr><td>&quot;3b0eaeb9f5&quot;</td><td>93446</td><td>&quot;operator&quot;</td><td>91696</td><td>[92056, 92326, … 93376]</td><td>6</td><td>[360, 270, … 300]</td><td>512</td><td>512</td></tr><tr><td>&quot;3b0eaeb9f5&quot;</td><td>96446</td><td>&quot;client&quot;</td><td>93446</td><td>[93806, 93926, … 96336]</td><td>6</td><td>[360, 120, … 480]</td><td>0</td><td>0</td></tr><tr><td>&quot;3b0eaeb9f5&quot;</td><td>97946</td><td>&quot;operator&quot;</td><td>96446</td><td>[96746, 97136, … 97946]</td><td>7</td><td>[300, 390, … 240]</td><td>0</td><td>0</td></tr></tbody></table></div>"
            ]
          },
          "metadata": {},
          "execution_count": 68
        }
      ]
    },
    {
      "cell_type": "code",
      "source": [
        "audio_df.select(\n",
        "    (pl.col(\"wait_silence\") == pl.col(\"wait_silence_2\")).all()\n",
        ")"
      ],
      "metadata": {
        "colab": {
          "base_uri": "https://localhost:8080/",
          "height": 129
        },
        "id": "CC4cLcZIDDuS",
        "outputId": "c177b172-32b1-4c9a-e22e-b59b66f025db"
      },
      "execution_count": 69,
      "outputs": [
        {
          "output_type": "execute_result",
          "data": {
            "text/plain": [
              "shape: (1, 1)\n",
              "┌──────────────┐\n",
              "│ wait_silence │\n",
              "│ ---          │\n",
              "│ bool         │\n",
              "╞══════════════╡\n",
              "│ true         │\n",
              "└──────────────┘"
            ],
            "text/html": [
              "<div><style>\n",
              ".dataframe > thead > tr,\n",
              ".dataframe > tbody > tr {\n",
              "  text-align: right;\n",
              "  white-space: pre-wrap;\n",
              "}\n",
              "</style>\n",
              "<small>shape: (1, 1)</small><table border=\"1\" class=\"dataframe\"><thead><tr><th>wait_silence</th></tr><tr><td>bool</td></tr></thead><tbody><tr><td>true</td></tr></tbody></table></div>"
            ]
          },
          "metadata": {},
          "execution_count": 69
        }
      ]
    },
    {
      "cell_type": "code",
      "source": [
        "# 4. Calcular sum_silence (a nivel fragmento):\n",
        "\n",
        "audio_df = audio_df.with_columns(\n",
        "    pl.col(\"word_duration\")\n",
        "      .list.eval(\n",
        "          pl.when(pl.element() > 350)\n",
        "            .then(pl.element() - 350)\n",
        "            .otherwise(0)\n",
        "      )\n",
        "      .list.sum()\n",
        "      .alias(\"sum_silence\")\n",
        ")\n",
        "\n",
        "audio_df.head(30)"
      ],
      "metadata": {
        "id": "amDx4VAKOgqS",
        "colab": {
          "base_uri": "https://localhost:8080/",
          "height": 443
        },
        "outputId": "60989ffd-2a33-45cc-d579-3241b77cde12"
      },
      "execution_count": 70,
      "outputs": [
        {
          "output_type": "execute_result",
          "data": {
            "text/plain": [
              "shape: (30, 10)\n",
              "┌────────────┬───────┬──────────┬───────┬───┬─────────────┬─────────────┬─────────────┬────────────┐\n",
              "│ audio_id   ┆ end   ┆ side     ┆ start ┆ … ┆ word_durati ┆ wait_silenc ┆ wait_silenc ┆ sum_silenc │\n",
              "│ ---        ┆ ---   ┆ ---      ┆ ---   ┆   ┆ on          ┆ e           ┆ e_2         ┆ e          │\n",
              "│ str        ┆ i64   ┆ str      ┆ i64   ┆   ┆ ---         ┆ ---         ┆ ---         ┆ ---        │\n",
              "│            ┆       ┆          ┆       ┆   ┆ list[i64]   ┆ i64         ┆ i64         ┆ i64        │\n",
              "╞════════════╪═══════╪══════════╪═══════╪═══╪═════════════╪═════════════╪═════════════╪════════════╡\n",
              "│ 0871505d87 ┆ 4368  ┆ client   ┆ 1408  ┆ … ┆ [300, 1500] ┆ 1408        ┆ 1408        ┆ 1150       │\n",
              "│ 0871505d87 ┆ 9136  ┆ operator ┆ 6624  ┆ … ┆ [510, 240,  ┆ 2256        ┆ 2256        ┆ 340        │\n",
              "│            ┆       ┆          ┆       ┆   ┆ … 480]      ┆             ┆             ┆            │\n",
              "│ 0871505d87 ┆ 10496 ┆ client   ┆ 9616  ┆ … ┆ [330, 180,  ┆ 480         ┆ 480         ┆ 0          │\n",
              "│            ┆       ┆          ┆       ┆   ┆ 270]        ┆             ┆             ┆            │\n",
              "│ 0871505d87 ┆ 22816 ┆ operator ┆ 10864 ┆ … ┆ [330, 120,  ┆ 368         ┆ 368         ┆ 2030       │\n",
              "│            ┆       ┆          ┆       ┆   ┆ … 480]      ┆             ┆             ┆            │\n",
              "│ 0871505d87 ┆ 30448 ┆ client   ┆ 23776 ┆ … ┆ [240, 210,  ┆ 960         ┆ 960         ┆ 340        │\n",
              "│            ┆       ┆          ┆       ┆   ┆ … 420]      ┆             ┆             ┆            │\n",
              "│ …          ┆ …     ┆ …        ┆ …     ┆ … ┆ …           ┆ …           ┆ …           ┆ …          │\n",
              "│ 3b0eaeb9f5 ┆ 75642 ┆ operator ┆ 74142 ┆ … ┆ [210, 750,  ┆ 0           ┆ 0           ┆ 410        │\n",
              "│            ┆       ┆          ┆       ┆   ┆ 360]        ┆             ┆             ┆            │\n",
              "│ 3b0eaeb9f5 ┆ 91184 ┆ client   ┆ 75642 ┆ … ┆ [360, 510,  ┆ 0           ┆ 0           ┆ 2742       │\n",
              "│            ┆       ┆          ┆       ┆   ┆ … 360]      ┆             ┆             ┆            │\n",
              "│ 3b0eaeb9f5 ┆ 93446 ┆ operator ┆ 91696 ┆ … ┆ [360, 270,  ┆ 512         ┆ 512         ┆ 10         │\n",
              "│            ┆       ┆          ┆       ┆   ┆ … 300]      ┆             ┆             ┆            │\n",
              "│ 3b0eaeb9f5 ┆ 96446 ┆ client   ┆ 93446 ┆ … ┆ [360, 120,  ┆ 0           ┆ 0           ┆ 1370       │\n",
              "│            ┆       ┆          ┆       ┆   ┆ … 480]      ┆             ┆             ┆            │\n",
              "│ 3b0eaeb9f5 ┆ 97946 ┆ operator ┆ 96446 ┆ … ┆ [300, 390,  ┆ 0           ┆ 0           ┆ 140        │\n",
              "│            ┆       ┆          ┆       ┆   ┆ … 240]      ┆             ┆             ┆            │\n",
              "└────────────┴───────┴──────────┴───────┴───┴─────────────┴─────────────┴─────────────┴────────────┘"
            ],
            "text/html": [
              "<div><style>\n",
              ".dataframe > thead > tr,\n",
              ".dataframe > tbody > tr {\n",
              "  text-align: right;\n",
              "  white-space: pre-wrap;\n",
              "}\n",
              "</style>\n",
              "<small>shape: (30, 10)</small><table border=\"1\" class=\"dataframe\"><thead><tr><th>audio_id</th><th>end</th><th>side</th><th>start</th><th>timestamps</th><th>n_intervention</th><th>word_duration</th><th>wait_silence</th><th>wait_silence_2</th><th>sum_silence</th></tr><tr><td>str</td><td>i64</td><td>str</td><td>i64</td><td>list[i64]</td><td>i64</td><td>list[i64]</td><td>i64</td><td>i64</td><td>i64</td></tr></thead><tbody><tr><td>&quot;0871505d87&quot;</td><td>4368</td><td>&quot;client&quot;</td><td>1408</td><td>[1708, 4208]</td><td>0</td><td>[300, 1500]</td><td>1408</td><td>1408</td><td>1150</td></tr><tr><td>&quot;0871505d87&quot;</td><td>9136</td><td>&quot;operator&quot;</td><td>6624</td><td>[7134, 7374, … 9084]</td><td>0</td><td>[510, 240, … 480]</td><td>2256</td><td>2256</td><td>340</td></tr><tr><td>&quot;0871505d87&quot;</td><td>10496</td><td>&quot;client&quot;</td><td>9616</td><td>[9946, 10126, 10396]</td><td>1</td><td>[330, 180, 270]</td><td>480</td><td>480</td><td>0</td></tr><tr><td>&quot;0871505d87&quot;</td><td>22816</td><td>&quot;operator&quot;</td><td>10864</td><td>[11194, 11314, … 22804]</td><td>1</td><td>[330, 120, … 480]</td><td>368</td><td>368</td><td>2030</td></tr><tr><td>&quot;0871505d87&quot;</td><td>30448</td><td>&quot;client&quot;</td><td>23776</td><td>[24016, 24226, … 30376]</td><td>2</td><td>[240, 210, … 420]</td><td>960</td><td>960</td><td>340</td></tr><tr><td>&hellip;</td><td>&hellip;</td><td>&hellip;</td><td>&hellip;</td><td>&hellip;</td><td>&hellip;</td><td>&hellip;</td><td>&hellip;</td><td>&hellip;</td><td>&hellip;</td></tr><tr><td>&quot;3b0eaeb9f5&quot;</td><td>75642</td><td>&quot;operator&quot;</td><td>74142</td><td>[74352, 75102, 75462]</td><td>5</td><td>[210, 750, 360]</td><td>0</td><td>0</td><td>410</td></tr><tr><td>&quot;3b0eaeb9f5&quot;</td><td>91184</td><td>&quot;client&quot;</td><td>75642</td><td>[76002, 76512, … 91064]</td><td>5</td><td>[360, 510, … 360]</td><td>0</td><td>0</td><td>2742</td></tr><tr><td>&quot;3b0eaeb9f5&quot;</td><td>93446</td><td>&quot;operator&quot;</td><td>91696</td><td>[92056, 92326, … 93376]</td><td>6</td><td>[360, 270, … 300]</td><td>512</td><td>512</td><td>10</td></tr><tr><td>&quot;3b0eaeb9f5&quot;</td><td>96446</td><td>&quot;client&quot;</td><td>93446</td><td>[93806, 93926, … 96336]</td><td>6</td><td>[360, 120, … 480]</td><td>0</td><td>0</td><td>1370</td></tr><tr><td>&quot;3b0eaeb9f5&quot;</td><td>97946</td><td>&quot;operator&quot;</td><td>96446</td><td>[96746, 97136, … 97946]</td><td>7</td><td>[300, 390, … 240]</td><td>0</td><td>0</td><td>140</td></tr></tbody></table></div>"
            ]
          },
          "metadata": {},
          "execution_count": 70
        }
      ]
    },
    {
      "cell_type": "code",
      "source": [
        "audio_df = audio_df.with_columns(\n",
        "    pl.col(\"word_duration\")\n",
        "      .list.eval(\n",
        "          (pl.element() - 350).clip(0)\n",
        "      )\n",
        "      .list.sum()\n",
        "      .alias(\"sum_silence_2\")\n",
        ")\n",
        "\n",
        "audio_df.head(30)"
      ],
      "metadata": {
        "colab": {
          "base_uri": "https://localhost:8080/",
          "height": 443
        },
        "id": "Ba7fAnj3EuXG",
        "outputId": "40a41c36-a997-43bf-8fad-6991443ccb0f"
      },
      "execution_count": 71,
      "outputs": [
        {
          "output_type": "execute_result",
          "data": {
            "text/plain": [
              "shape: (30, 11)\n",
              "┌────────────┬───────┬──────────┬───────┬───┬─────────────┬─────────────┬─────────────┬────────────┐\n",
              "│ audio_id   ┆ end   ┆ side     ┆ start ┆ … ┆ wait_silenc ┆ wait_silenc ┆ sum_silence ┆ sum_silenc │\n",
              "│ ---        ┆ ---   ┆ ---      ┆ ---   ┆   ┆ e           ┆ e_2         ┆ ---         ┆ e_2        │\n",
              "│ str        ┆ i64   ┆ str      ┆ i64   ┆   ┆ ---         ┆ ---         ┆ i64         ┆ ---        │\n",
              "│            ┆       ┆          ┆       ┆   ┆ i64         ┆ i64         ┆             ┆ i64        │\n",
              "╞════════════╪═══════╪══════════╪═══════╪═══╪═════════════╪═════════════╪═════════════╪════════════╡\n",
              "│ 0871505d87 ┆ 4368  ┆ client   ┆ 1408  ┆ … ┆ 1408        ┆ 1408        ┆ 1150        ┆ 1150       │\n",
              "│ 0871505d87 ┆ 9136  ┆ operator ┆ 6624  ┆ … ┆ 2256        ┆ 2256        ┆ 340         ┆ 340        │\n",
              "│ 0871505d87 ┆ 10496 ┆ client   ┆ 9616  ┆ … ┆ 480         ┆ 480         ┆ 0           ┆ 0          │\n",
              "│ 0871505d87 ┆ 22816 ┆ operator ┆ 10864 ┆ … ┆ 368         ┆ 368         ┆ 2030        ┆ 2030       │\n",
              "│ 0871505d87 ┆ 30448 ┆ client   ┆ 23776 ┆ … ┆ 960         ┆ 960         ┆ 340         ┆ 340        │\n",
              "│ …          ┆ …     ┆ …        ┆ …     ┆ … ┆ …           ┆ …           ┆ …           ┆ …          │\n",
              "│ 3b0eaeb9f5 ┆ 75642 ┆ operator ┆ 74142 ┆ … ┆ 0           ┆ 0           ┆ 410         ┆ 410        │\n",
              "│ 3b0eaeb9f5 ┆ 91184 ┆ client   ┆ 75642 ┆ … ┆ 0           ┆ 0           ┆ 2742        ┆ 2742       │\n",
              "│ 3b0eaeb9f5 ┆ 93446 ┆ operator ┆ 91696 ┆ … ┆ 512         ┆ 512         ┆ 10          ┆ 10         │\n",
              "│ 3b0eaeb9f5 ┆ 96446 ┆ client   ┆ 93446 ┆ … ┆ 0           ┆ 0           ┆ 1370        ┆ 1370       │\n",
              "│ 3b0eaeb9f5 ┆ 97946 ┆ operator ┆ 96446 ┆ … ┆ 0           ┆ 0           ┆ 140         ┆ 140        │\n",
              "└────────────┴───────┴──────────┴───────┴───┴─────────────┴─────────────┴─────────────┴────────────┘"
            ],
            "text/html": [
              "<div><style>\n",
              ".dataframe > thead > tr,\n",
              ".dataframe > tbody > tr {\n",
              "  text-align: right;\n",
              "  white-space: pre-wrap;\n",
              "}\n",
              "</style>\n",
              "<small>shape: (30, 11)</small><table border=\"1\" class=\"dataframe\"><thead><tr><th>audio_id</th><th>end</th><th>side</th><th>start</th><th>timestamps</th><th>n_intervention</th><th>word_duration</th><th>wait_silence</th><th>wait_silence_2</th><th>sum_silence</th><th>sum_silence_2</th></tr><tr><td>str</td><td>i64</td><td>str</td><td>i64</td><td>list[i64]</td><td>i64</td><td>list[i64]</td><td>i64</td><td>i64</td><td>i64</td><td>i64</td></tr></thead><tbody><tr><td>&quot;0871505d87&quot;</td><td>4368</td><td>&quot;client&quot;</td><td>1408</td><td>[1708, 4208]</td><td>0</td><td>[300, 1500]</td><td>1408</td><td>1408</td><td>1150</td><td>1150</td></tr><tr><td>&quot;0871505d87&quot;</td><td>9136</td><td>&quot;operator&quot;</td><td>6624</td><td>[7134, 7374, … 9084]</td><td>0</td><td>[510, 240, … 480]</td><td>2256</td><td>2256</td><td>340</td><td>340</td></tr><tr><td>&quot;0871505d87&quot;</td><td>10496</td><td>&quot;client&quot;</td><td>9616</td><td>[9946, 10126, 10396]</td><td>1</td><td>[330, 180, 270]</td><td>480</td><td>480</td><td>0</td><td>0</td></tr><tr><td>&quot;0871505d87&quot;</td><td>22816</td><td>&quot;operator&quot;</td><td>10864</td><td>[11194, 11314, … 22804]</td><td>1</td><td>[330, 120, … 480]</td><td>368</td><td>368</td><td>2030</td><td>2030</td></tr><tr><td>&quot;0871505d87&quot;</td><td>30448</td><td>&quot;client&quot;</td><td>23776</td><td>[24016, 24226, … 30376]</td><td>2</td><td>[240, 210, … 420]</td><td>960</td><td>960</td><td>340</td><td>340</td></tr><tr><td>&hellip;</td><td>&hellip;</td><td>&hellip;</td><td>&hellip;</td><td>&hellip;</td><td>&hellip;</td><td>&hellip;</td><td>&hellip;</td><td>&hellip;</td><td>&hellip;</td><td>&hellip;</td></tr><tr><td>&quot;3b0eaeb9f5&quot;</td><td>75642</td><td>&quot;operator&quot;</td><td>74142</td><td>[74352, 75102, 75462]</td><td>5</td><td>[210, 750, 360]</td><td>0</td><td>0</td><td>410</td><td>410</td></tr><tr><td>&quot;3b0eaeb9f5&quot;</td><td>91184</td><td>&quot;client&quot;</td><td>75642</td><td>[76002, 76512, … 91064]</td><td>5</td><td>[360, 510, … 360]</td><td>0</td><td>0</td><td>2742</td><td>2742</td></tr><tr><td>&quot;3b0eaeb9f5&quot;</td><td>93446</td><td>&quot;operator&quot;</td><td>91696</td><td>[92056, 92326, … 93376]</td><td>6</td><td>[360, 270, … 300]</td><td>512</td><td>512</td><td>10</td><td>10</td></tr><tr><td>&quot;3b0eaeb9f5&quot;</td><td>96446</td><td>&quot;client&quot;</td><td>93446</td><td>[93806, 93926, … 96336]</td><td>6</td><td>[360, 120, … 480]</td><td>0</td><td>0</td><td>1370</td><td>1370</td></tr><tr><td>&quot;3b0eaeb9f5&quot;</td><td>97946</td><td>&quot;operator&quot;</td><td>96446</td><td>[96746, 97136, … 97946]</td><td>7</td><td>[300, 390, … 240]</td><td>0</td><td>0</td><td>140</td><td>140</td></tr></tbody></table></div>"
            ]
          },
          "metadata": {},
          "execution_count": 71
        }
      ]
    },
    {
      "cell_type": "code",
      "source": [
        "audio_df.select(\n",
        "    (pl.col(\"sum_silence\") == pl.col(\"sum_silence_2\")).all()\n",
        ")"
      ],
      "metadata": {
        "id": "U4JyhQYPFNpb",
        "outputId": "147d4ce6-3f50-4d99-9d8b-31bfb998646b",
        "colab": {
          "base_uri": "https://localhost:8080/",
          "height": 129
        }
      },
      "execution_count": 72,
      "outputs": [
        {
          "output_type": "execute_result",
          "data": {
            "text/plain": [
              "shape: (1, 1)\n",
              "┌─────────────┐\n",
              "│ sum_silence │\n",
              "│ ---         │\n",
              "│ bool        │\n",
              "╞═════════════╡\n",
              "│ true        │\n",
              "└─────────────┘"
            ],
            "text/html": [
              "<div><style>\n",
              ".dataframe > thead > tr,\n",
              ".dataframe > tbody > tr {\n",
              "  text-align: right;\n",
              "  white-space: pre-wrap;\n",
              "}\n",
              "</style>\n",
              "<small>shape: (1, 1)</small><table border=\"1\" class=\"dataframe\"><thead><tr><th>sum_silence</th></tr><tr><td>bool</td></tr></thead><tbody><tr><td>true</td></tr></tbody></table></div>"
            ]
          },
          "metadata": {},
          "execution_count": 72
        }
      ]
    },
    {
      "cell_type": "markdown",
      "source": [
        "# Agregando para cada llamada y side (audio_id y side)"
      ],
      "metadata": {
        "id": "gWRqsto9Ps6n"
      }
    },
    {
      "cell_type": "code",
      "source": [
        "\n",
        "agg_df = audio_df.group_by(\"audio_id\", \"side\").agg(\n",
        "    pl.col(\"sum_silence\").sum().alias(\"sum_silence\"),\n",
        "    pl.col(\"start\").min().alias(\"first_silence\"),\n",
        "    (pl.col(\"timestamps\").list.len().sum() / ((pl.col(\"end\") - pl.col(\"start\")).sum() / 1000))\n",
        "    .round(2)\n",
        "    .alias(\"word_speed\")\n",
        ")\n",
        "\n",
        "agg_df.head(30)"
      ],
      "metadata": {
        "id": "x8W3gkdOPyKI",
        "colab": {
          "base_uri": "https://localhost:8080/",
          "height": 443
        },
        "outputId": "07aaedce-26a0-476d-83c3-6a78031cbe4b"
      },
      "execution_count": 73,
      "outputs": [
        {
          "output_type": "execute_result",
          "data": {
            "text/plain": [
              "shape: (20, 5)\n",
              "┌────────────┬──────────┬─────────────┬───────────────┬────────────┐\n",
              "│ audio_id   ┆ side     ┆ sum_silence ┆ first_silence ┆ word_speed │\n",
              "│ ---        ┆ ---      ┆ ---         ┆ ---           ┆ ---        │\n",
              "│ str        ┆ str      ┆ i64         ┆ i64           ┆ f64        │\n",
              "╞════════════╪══════════╪═════════════╪═══════════════╪════════════╡\n",
              "│ 0871505d87 ┆ operator ┆ 7360        ┆ 6624          ┆ 4.17       │\n",
              "│ 574a49aa58 ┆ operator ┆ 7448        ┆ 1344          ┆ 4.15       │\n",
              "│ 82cec0fd50 ┆ operator ┆ 15994       ┆ 1840          ┆ 3.07       │\n",
              "│ 4693369d1e ┆ operator ┆ 16126       ┆ 2272          ┆ 3.35       │\n",
              "│ a4277c9fac ┆ client   ┆ 18144       ┆ 2128          ┆ 1.85       │\n",
              "│ …          ┆ …        ┆ …           ┆ …             ┆ …          │\n",
              "│ 574a49aa58 ┆ client   ┆ 9912        ┆ 528           ┆ 3.31       │\n",
              "│ 6a8fe11f45 ┆ client   ┆ 7520        ┆ 1520          ┆ 3.02       │\n",
              "│ 4693369d1e ┆ client   ┆ 5160        ┆ 1104          ┆ 2.52       │\n",
              "│ 0871505d87 ┆ client   ┆ 8810        ┆ 1408          ┆ 3.21       │\n",
              "│ 896d326c53 ┆ operator ┆ 8750        ┆ 3184          ┆ 2.65       │\n",
              "└────────────┴──────────┴─────────────┴───────────────┴────────────┘"
            ],
            "text/html": [
              "<div><style>\n",
              ".dataframe > thead > tr,\n",
              ".dataframe > tbody > tr {\n",
              "  text-align: right;\n",
              "  white-space: pre-wrap;\n",
              "}\n",
              "</style>\n",
              "<small>shape: (20, 5)</small><table border=\"1\" class=\"dataframe\"><thead><tr><th>audio_id</th><th>side</th><th>sum_silence</th><th>first_silence</th><th>word_speed</th></tr><tr><td>str</td><td>str</td><td>i64</td><td>i64</td><td>f64</td></tr></thead><tbody><tr><td>&quot;0871505d87&quot;</td><td>&quot;operator&quot;</td><td>7360</td><td>6624</td><td>4.17</td></tr><tr><td>&quot;574a49aa58&quot;</td><td>&quot;operator&quot;</td><td>7448</td><td>1344</td><td>4.15</td></tr><tr><td>&quot;82cec0fd50&quot;</td><td>&quot;operator&quot;</td><td>15994</td><td>1840</td><td>3.07</td></tr><tr><td>&quot;4693369d1e&quot;</td><td>&quot;operator&quot;</td><td>16126</td><td>2272</td><td>3.35</td></tr><tr><td>&quot;a4277c9fac&quot;</td><td>&quot;client&quot;</td><td>18144</td><td>2128</td><td>1.85</td></tr><tr><td>&hellip;</td><td>&hellip;</td><td>&hellip;</td><td>&hellip;</td><td>&hellip;</td></tr><tr><td>&quot;574a49aa58&quot;</td><td>&quot;client&quot;</td><td>9912</td><td>528</td><td>3.31</td></tr><tr><td>&quot;6a8fe11f45&quot;</td><td>&quot;client&quot;</td><td>7520</td><td>1520</td><td>3.02</td></tr><tr><td>&quot;4693369d1e&quot;</td><td>&quot;client&quot;</td><td>5160</td><td>1104</td><td>2.52</td></tr><tr><td>&quot;0871505d87&quot;</td><td>&quot;client&quot;</td><td>8810</td><td>1408</td><td>3.21</td></tr><tr><td>&quot;896d326c53&quot;</td><td>&quot;operator&quot;</td><td>8750</td><td>3184</td><td>2.65</td></tr></tbody></table></div>"
            ]
          },
          "metadata": {},
          "execution_count": 73
        }
      ]
    },
    {
      "cell_type": "code",
      "source": [],
      "metadata": {
        "id": "duFkNtXNRiYa"
      },
      "execution_count": 73,
      "outputs": []
    }
  ]
}